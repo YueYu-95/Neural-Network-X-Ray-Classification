{
 "cells": [
  {
   "cell_type": "markdown",
   "metadata": {},
   "source": [
    "# Image Classification: Detecting Pediatric Pneumonia"
   ]
  },
  {
   "cell_type": "markdown",
   "metadata": {},
   "source": [
    "## Overview"
   ]
  },
  {
   "cell_type": "markdown",
   "metadata": {},
   "source": [
    "## Business Understanding"
   ]
  },
  {
   "cell_type": "markdown",
   "metadata": {},
   "source": [
    "## Data Understanding"
   ]
  },
  {
   "cell_type": "markdown",
   "metadata": {},
   "source": [
    "## Data Preparation"
   ]
  },
  {
   "cell_type": "code",
   "execution_count": 1,
   "metadata": {},
   "outputs": [],
   "source": [
    "#importing packages\n",
    "import pandas as pd \n",
    "import splitfolders\n",
    "import matplotlib.pyplot as plt\n",
    "import seaborn as sns\n",
    "\n",
    "import joblib\n",
    "import os\n",
    "\n",
    "from tensorflow import keras\n",
    "\n",
    "import tensorflow as tf\n",
    "from tensorflow.keras.preprocessing.image import ImageDataGenerator\n",
    "from tensorflow.keras.callbacks import EarlyStopping\n",
    "\n",
    "from tensorflow.keras import models, layers, optimizers, regularizers\n",
    "from tensorflow.keras.models import load_model\n",
    "from sklearn.dummy import DummyClassifier\n",
    "from sklearn.metrics import recall_score, classification_report, precision_score\n",
    "from sklearn.model_selection import cross_val_score\n",
    "from tensorflow.keras import metrics\n",
    "from tensorflow.keras.wrappers import scikit_learn\n",
    "\n",
    "from tensorflow.keras.layers import Dense\n",
    "from sklearn.model_selection import GridSearchCV\n",
    "import numpy as np\n",
    "from sklearn.metrics import plot_confusion_matrix, confusion_matrix, ConfusionMatrixDisplay\n",
    "\n",
    "\n",
    "np.random.seed(42)\n",
    "import warnings\n",
    "warnings.filterwarnings('ignore')\n",
    "%matplotlib inline "
   ]
  },
  {
   "cell_type": "code",
   "execution_count": null,
   "metadata": {},
   "outputs": [],
   "source": []
  },
  {
   "cell_type": "code",
   "execution_count": 2,
   "metadata": {},
   "outputs": [
    {
     "name": "stdout",
     "output_type": "stream",
     "text": [
      "Requirement already satisfied: split-folders in /Users/mysterious/opt/anaconda3/envs/learn-env/lib/python3.8/site-packages (0.5.1)\n",
      "Note: you may need to restart the kernel to use updated packages.\n"
     ]
    }
   ],
   "source": [
    "pip install split-folders"
   ]
  },
  {
   "cell_type": "code",
   "execution_count": 3,
   "metadata": {},
   "outputs": [],
   "source": [
    "#use the splitfolders package to split our image data into train, validation, and test sets.\n",
    "#this is now commented out so that we don't create a new folder each time we run the notebook\n",
    "\n",
    "\n",
    "#splitfolders.ratio(\"Data\", output=\"Data_Split\",\n",
    "#    seed=42, ratio=(.64, .16, .2), group_prefix=None, move=True)"
   ]
  },
  {
   "cell_type": "code",
   "execution_count": 4,
   "metadata": {},
   "outputs": [],
   "source": [
    "# Using ImageDataGenerator to rescale all images \n",
    "train_datagen = ImageDataGenerator(rescale=1./255)\n",
    "val_datagen = ImageDataGenerator(rescale=1./255)\n",
    "test_datagen = ImageDataGenerator(rescale=1./255)"
   ]
  },
  {
   "cell_type": "code",
   "execution_count": 5,
   "metadata": {},
   "outputs": [
    {
     "name": "stdout",
     "output_type": "stream",
     "text": [
      "Found 3749 images belonging to 2 classes.\n"
     ]
    }
   ],
   "source": [
    "train_generator = train_datagen.flow_from_directory(\n",
    "        # This is the target directory\n",
    "        'Data_Split/train',\n",
    "        # All images will be resized to 150x150\n",
    "        target_size=(150, 150),\n",
    "        batch_size=3747,\n",
    "        color_mode='grayscale',\n",
    "        # Since we use binary_crossentropy loss, we need binary labels\n",
    "        class_mode='binary')\n"
   ]
  },
  {
   "cell_type": "code",
   "execution_count": 6,
   "metadata": {},
   "outputs": [
    {
     "name": "stdout",
     "output_type": "stream",
     "text": [
      "Found 936 images belonging to 2 classes.\n",
      "Found 1107 images belonging to 2 classes.\n"
     ]
    }
   ],
   "source": [
    "validation_generator = val_datagen.flow_from_directory('Data_Split/val',\n",
    "                                                        target_size=(150, 150),\n",
    "                                                        batch_size=936,\n",
    "                                                        color_mode='grayscale',\n",
    "                                                        class_mode='binary')\n",
    "test_generator = test_datagen.flow_from_directory('Data_Split/test',\n",
    "                                                  target_size=(150, 150),\n",
    "                                                  batch_size=1173,\n",
    "                                                  color_mode='grayscale',\n",
    "                                                  class_mode='binary')"
   ]
  },
  {
   "cell_type": "code",
   "execution_count": 7,
   "metadata": {},
   "outputs": [
    {
     "name": "stdout",
     "output_type": "stream",
     "text": [
      "Found 3749 images belonging to 2 classes.\n"
     ]
    }
   ],
   "source": [
    "#Creating the augumented data\n",
    "\n",
    "aug_train_images = ImageDataGenerator(rotation_range=30, \n",
    "                                   width_shift_range=0.25, \n",
    "                                   height_shift_range=0.25, \n",
    "                                   shear_range=0.25, \n",
    "                                   zoom_range=0.25, \n",
    "                                   horizontal_flip=True,\n",
    "                                   vertical_flip=True)\n",
    "\n",
    "train_aug = aug_train_images.flow_from_directory('Data_Split/train',\n",
    "                                                  target_size=(150, 150),\n",
    "                                                  batch_size=3747,\n",
    "                                                  color_mode='grayscale',\n",
    "                                                  class_mode='binary')"
   ]
  },
  {
   "cell_type": "code",
   "execution_count": 8,
   "metadata": {},
   "outputs": [],
   "source": [
    "#getting images and labels for models\n",
    "train_data, train_labels = next (train_generator)\n",
    "test_data, test_labels = next (test_generator)\n",
    "val_data, val_labels = next (validation_generator)"
   ]
  },
  {
   "cell_type": "code",
   "execution_count": 9,
   "metadata": {},
   "outputs": [
    {
     "data": {
      "text/plain": [
       "(3747, 22500)"
      ]
     },
     "execution_count": 9,
     "metadata": {},
     "output_type": "execute_result"
    }
   ],
   "source": [
    "#reshaping\n",
    "train_data = train_data.reshape(train_data.shape[0], -1)\n",
    "test_data = test_data.reshape(test_data.shape[0], -1)\n",
    "val_data = val_data.reshape(val_data.shape[0], -1)\n",
    "train_data.shape"
   ]
  },
  {
   "cell_type": "code",
   "execution_count": null,
   "metadata": {},
   "outputs": [],
   "source": []
  },
  {
   "cell_type": "code",
   "execution_count": null,
   "metadata": {},
   "outputs": [],
   "source": [
    "# Function to show model metrics"
   ]
  },
  {
   "cell_type": "code",
   "execution_count": null,
   "metadata": {},
   "outputs": [],
   "source": []
  },
  {
   "cell_type": "markdown",
   "metadata": {},
   "source": [
    "### Dummy Model\n",
    "We will use a dummy model classifier as our baseline model. This model will predict the majority class. Since the majority class in our data is pneumonia, this model will predict all images are pneumonia."
   ]
  },
  {
   "cell_type": "code",
   "execution_count": null,
   "metadata": {},
   "outputs": [],
   "source": [
    "dummy_model =  DummyClassifier(strategy='most_frequent')\n",
    "dummy_model.fit(train_data, train_labels)"
   ]
  },
  {
   "cell_type": "code",
   "execution_count": null,
   "metadata": {},
   "outputs": [],
   "source": [
    "y_preds_dummy = dummy_model.predict(val_data)"
   ]
  },
  {
   "cell_type": "code",
   "execution_count": null,
   "metadata": {},
   "outputs": [],
   "source": [
    "dummy_acc = dummy_model.score(val_data, val_labels)\n",
    "dummy_rec = recall_score(val_labels,y_preds_dummy)\n",
    "dummy_pre = precision_score(val_labels,y_preds_dummy)\n",
    "\n",
    "print(f\"Dummy Model accuracy: {dummy_acc}\")\n",
    "print(f\"Dummy Model recall: {dummy_rec}\")\n",
    "print(f\"Dummy Model precision: {dummy_pre}\")"
   ]
  },
  {
   "cell_type": "code",
   "execution_count": null,
   "metadata": {
    "scrolled": true
   },
   "outputs": [],
   "source": [
    "# Confusion matrix for dummy model\n",
    "plot_confusion_matrix(dummy_model, val_data, val_labels);"
   ]
  },
  {
   "cell_type": "code",
   "execution_count": null,
   "metadata": {},
   "outputs": [],
   "source": []
  },
  {
   "cell_type": "markdown",
   "metadata": {},
   "source": [
    "### Simple Model 1\n",
    "Our first model will be a simple model - this will give us an idea of what improvements"
   ]
  },
  {
   "cell_type": "code",
   "execution_count": 10,
   "metadata": {},
   "outputs": [],
   "source": [
    "simple_model = models.Sequential()"
   ]
  },
  {
   "cell_type": "code",
   "execution_count": 11,
   "metadata": {},
   "outputs": [],
   "source": [
    "simple_model.add(layers.Dense(12, activation='relu', input_shape=(22500,)))\n",
    "simple_model.add(layers.Dense(1, activation='sigmoid')) "
   ]
  },
  {
   "cell_type": "code",
   "execution_count": 12,
   "metadata": {},
   "outputs": [
    {
     "name": "stdout",
     "output_type": "stream",
     "text": [
      "Model: \"sequential\"\n",
      "_________________________________________________________________\n",
      " Layer (type)                Output Shape              Param #   \n",
      "=================================================================\n",
      " dense (Dense)               (None, 12)                270012    \n",
      "                                                                 \n",
      " dense_1 (Dense)             (None, 1)                 13        \n",
      "                                                                 \n",
      "=================================================================\n",
      "Total params: 270,025\n",
      "Trainable params: 270,025\n",
      "Non-trainable params: 0\n",
      "_________________________________________________________________\n"
     ]
    }
   ],
   "source": [
    "simple_model.compile(optimizer='SGD',\n",
    "                       loss='binary_crossentropy',\n",
    "                       metrics=['accuracy', metrics.Precision(name='precision'), metrics.Recall(name='recall')])\n",
    "simple_model.summary()"
   ]
  },
  {
   "cell_type": "code",
   "execution_count": 13,
   "metadata": {},
   "outputs": [
    {
     "name": "stdout",
     "output_type": "stream",
     "text": [
      "Epoch 1/10\n",
      "118/118 [==============================] - 3s 12ms/step - loss: 0.5052 - accuracy: 0.7302 - precision: 0.7358 - recall: 0.9832 - val_loss: 0.5015 - val_accuracy: 0.7318 - val_precision: 0.7313 - val_recall: 1.0000\n",
      "Epoch 2/10\n",
      "118/118 [==============================] - 1s 10ms/step - loss: 0.3950 - accuracy: 0.8332 - precision: 0.8353 - recall: 0.9609 - val_loss: 0.5198 - val_accuracy: 0.7457 - val_precision: 0.9933 - val_recall: 0.6559\n",
      "Epoch 3/10\n",
      "118/118 [==============================] - 1s 10ms/step - loss: 0.3499 - accuracy: 0.8631 - precision: 0.8781 - recall: 0.9433 - val_loss: 0.3247 - val_accuracy: 0.8718 - val_precision: 0.8559 - val_recall: 0.9912\n",
      "Epoch 4/10\n",
      "118/118 [==============================] - 1s 7ms/step - loss: 0.3210 - accuracy: 0.8871 - precision: 0.8959 - recall: 0.9565 - val_loss: 0.5356 - val_accuracy: 0.6806 - val_precision: 1.0000 - val_recall: 0.5622\n",
      "Epoch 5/10\n",
      "118/118 [==============================] - 1s 8ms/step - loss: 0.3097 - accuracy: 0.8970 - precision: 0.9137 - recall: 0.9484 - val_loss: 0.4603 - val_accuracy: 0.7596 - val_precision: 0.9978 - val_recall: 0.6720\n",
      "Epoch 6/10\n",
      "118/118 [==============================] - 1s 7ms/step - loss: 0.2919 - accuracy: 0.9053 - precision: 0.9214 - recall: 0.9514 - val_loss: 0.2643 - val_accuracy: 0.9156 - val_precision: 0.9390 - val_recall: 0.9458\n",
      "Epoch 7/10\n",
      "118/118 [==============================] - 1s 7ms/step - loss: 0.2762 - accuracy: 0.9090 - precision: 0.9256 - recall: 0.9517 - val_loss: 0.2529 - val_accuracy: 0.9177 - val_precision: 0.9404 - val_recall: 0.9473\n",
      "Epoch 8/10\n",
      "118/118 [==============================] - 1s 7ms/step - loss: 0.2714 - accuracy: 0.9141 - precision: 0.9295 - recall: 0.9546 - val_loss: 0.2466 - val_accuracy: 0.9231 - val_precision: 0.9191 - val_recall: 0.9810\n",
      "Epoch 9/10\n",
      "118/118 [==============================] - 1s 7ms/step - loss: 0.2622 - accuracy: 0.9151 - precision: 0.9348 - recall: 0.9499 - val_loss: 0.4316 - val_accuracy: 0.8259 - val_precision: 0.8073 - val_recall: 1.0000\n",
      "Epoch 10/10\n",
      "118/118 [==============================] - 1s 8ms/step - loss: 0.2534 - accuracy: 0.9183 - precision: 0.9348 - recall: 0.9546 - val_loss: 1.0938 - val_accuracy: 0.7350 - val_precision: 0.7336 - val_recall: 1.0000\n"
     ]
    }
   ],
   "source": [
    "simple_model_history = simple_model.fit(train_data, train_labels, epochs=10, \n",
    "                                    batch_size=32, validation_data= (val_data, val_labels))"
   ]
  },
  {
   "cell_type": "code",
   "execution_count": 14,
   "metadata": {},
   "outputs": [
    {
     "name": "stdout",
     "output_type": "stream",
     "text": [
      "30/30 [==============================] - 0s 5ms/step - loss: 1.0938 - accuracy: 0.7350 - precision: 0.7336 - recall: 1.0000\n"
     ]
    },
    {
     "data": {
      "text/plain": [
       "[1.093813180923462, 0.7350427508354187, 0.733619749546051, 1.0]"
      ]
     },
     "execution_count": 14,
     "metadata": {},
     "output_type": "execute_result"
    }
   ],
   "source": [
    "simple_model.evaluate(val_data, val_labels)"
   ]
  },
  {
   "cell_type": "code",
   "execution_count": 15,
   "metadata": {},
   "outputs": [
    {
     "data": {
      "text/plain": [
       "<AxesSubplot:>"
      ]
     },
     "execution_count": 15,
     "metadata": {},
     "output_type": "execute_result"
    },
    {
     "data": {
      "image/png": "[encoded data removed]",
      "text/plain": [
       "<Figure size 1080x576 with 4 Axes>"
      ]
     },
     "metadata": {
      "needs_background": "light"
     },
     "output_type": "display_data"
    }
   ],
   "source": [
    "\n",
    "fig, ((ax1, ax2), (ax3, ax4)) = plt.subplots(2,2,figsize=(15,8))\n",
    "\n",
    "loss = simple_model_history.history['loss']\n",
    "accuracy = simple_model_history.history['accuracy']\n",
    "precision = simple_model_history.history['precision']\n",
    "recall = simple_model_history.history['recall']\n",
    "\n",
    "validation_loss = simple_model_history.history['val_loss']\n",
    "validation_accuracy = simple_model_history.history['val_accuracy']\n",
    "validation_precision = simple_model_history.history['val_precision']\n",
    "validation_recall = simple_model_history.history['val_recall']\n",
    "\n",
    "sns.lineplot(simple_model_history.epoch, simple_model_history.history['loss'], y=loss, ax=ax1, label='loss')\n",
    "sns.lineplot(simple_model_history.epoch, simple_model_history.history['val_loss'], y=loss, ax=ax1, label='val_loss')\n",
    "\n",
    "\n",
    "sns.lineplot(simple_model_history.epoch, simple_model_history.history['accuracy'], y=accuracy, ax=ax2, label='accuracy')\n",
    "sns.lineplot(simple_model_history.epoch, simple_model_history.history['val_accuracy'], y=accuracy, ax=ax2, label='val_accuracy')\n",
    "\n",
    "\n",
    "sns.lineplot(simple_model_history.epoch, simple_model_history.history['precision'], y=precision, ax=ax3, label='precision')\n",
    "sns.lineplot(simple_model_history.epoch, simple_model_history.history['val_precision'], y=precision, ax=ax3, label='val_precision')\n",
    "\n",
    "\n",
    "sns.lineplot(simple_model_history.epoch, simple_model_history.history['recall'], y=recall, ax=ax4, label='recall')\n",
    "sns.lineplot(simple_model_history.epoch, simple_model_history.history['val_recall'], y=recall, ax=ax4, label='val_recall')\n",
    "\n"
   ]
  },
  {
   "cell_type": "code",
   "execution_count": null,
   "metadata": {},
   "outputs": [],
   "source": []
  },
  {
   "cell_type": "code",
   "execution_count": null,
   "metadata": {},
   "outputs": [],
   "source": []
  },
  {
   "cell_type": "markdown",
   "metadata": {},
   "source": [
    "### CNN Model 1\n",
    "Our basic CNN model"
   ]
  },
  {
   "cell_type": "code",
   "execution_count": 16,
   "metadata": {},
   "outputs": [],
   "source": [
    "train_data, train_labels = next (train_generator)\n",
    "test_data, test_labels = next (test_generator)\n",
    "val_data, val_labels = next (validation_generator)"
   ]
  },
  {
   "cell_type": "code",
   "execution_count": 17,
   "metadata": {},
   "outputs": [
    {
     "name": "stdout",
     "output_type": "stream",
     "text": [
      "Model: \"sequential_1\"\n",
      "_________________________________________________________________\n",
      " Layer (type)                Output Shape              Param #   \n",
      "=================================================================\n",
      " conv2d (Conv2D)             (None, 147, 147, 64)      1088      \n",
      "                                                                 \n",
      " max_pooling2d (MaxPooling2D  (None, 73, 73, 64)       0         \n",
      " )                                                               \n",
      "                                                                 \n",
      " flatten (Flatten)           (None, 341056)            0         \n",
      "                                                                 \n",
      " dense_2 (Dense)             (None, 16)                5456912   \n",
      "                                                                 \n",
      " dense_3 (Dense)             (None, 1)                 17        \n",
      "                                                                 \n",
      "=================================================================\n",
      "Total params: 5,458,017\n",
      "Trainable params: 5,458,017\n",
      "Non-trainable params: 0\n",
      "_________________________________________________________________\n"
     ]
    }
   ],
   "source": [
    "cnn1_model = models.Sequential()\n",
    "cnn1_model.add(layers.Conv2D(64, (4, 4), activation='relu',\n",
    "                    input_shape=(150, 150, 1)))\n",
    "cnn1_model.add(layers.MaxPooling2D((2, 2)))\n",
    "cnn1_model.add(layers.Flatten())\n",
    "cnn1_model.add(layers.Dense(16, activation='relu'))\n",
    "cnn1_model.add(layers.Dense(1, activation='sigmoid'))\n",
    "\n",
    "cnn1_model.compile(optimizer=\"adam\",\n",
    "                        loss='binary_crossentropy',\n",
    "                        metrics=['accuracy', metrics.Precision(name='precision'), metrics.Recall(name='recall')])\n",
    "\n",
    "cnn1_model.summary()"
   ]
  },
  {
   "cell_type": "code",
   "execution_count": 18,
   "metadata": {},
   "outputs": [
    {
     "name": "stdout",
     "output_type": "stream",
     "text": [
      "Epoch 1/10\n",
      "1/1 [==============================] - 7s 7s/step - loss: 0.6322 - accuracy: 1.0000 - precision: 1.0000 - recall: 1.0000 - val_loss: 4.8763 - val_accuracy: 0.7297 - val_precision: 0.7297 - val_recall: 1.0000\n",
      "Epoch 2/10\n",
      "1/1 [==============================] - 7s 7s/step - loss: 2.8201e-08 - accuracy: 1.0000 - precision: 1.0000 - recall: 1.0000 - val_loss: 8.2392 - val_accuracy: 0.7297 - val_precision: 0.7297 - val_recall: 1.0000\n",
      "Epoch 3/10\n",
      "1/1 [==============================] - 6s 6s/step - loss: 2.5695e-13 - accuracy: 1.0000 - precision: 1.0000 - recall: 1.0000 - val_loss: 10.9256 - val_accuracy: 0.7297 - val_precision: 0.7297 - val_recall: 1.0000\n",
      "Epoch 4/10\n",
      "1/1 [==============================] - 6s 6s/step - loss: 2.3875e-17 - accuracy: 1.0000 - precision: 1.0000 - recall: 1.0000 - val_loss: 13.1839 - val_accuracy: 0.7297 - val_precision: 0.7297 - val_recall: 1.0000\n",
      "Epoch 5/10\n",
      "1/1 [==============================] - 6s 6s/step - loss: 9.6976e-21 - accuracy: 1.0000 - precision: 1.0000 - recall: 1.0000 - val_loss: 15.1337 - val_accuracy: 0.7297 - val_precision: 0.7297 - val_recall: 1.0000\n",
      "Epoch 6/10\n",
      "1/1 [==============================] - 5s 5s/step - loss: 1.1431e-23 - accuracy: 1.0000 - precision: 1.0000 - recall: 1.0000 - val_loss: 16.8447 - val_accuracy: 0.7297 - val_precision: 0.7297 - val_recall: 1.0000\n",
      "Epoch 7/10\n",
      "1/1 [==============================] - 5s 5s/step - loss: 3.0760e-26 - accuracy: 1.0000 - precision: 1.0000 - recall: 1.0000 - val_loss: 18.3625 - val_accuracy: 0.7297 - val_precision: 0.7297 - val_recall: 1.0000\n",
      "Epoch 8/10\n",
      "1/1 [==============================] - 6s 6s/step - loss: 1.6152e-28 - accuracy: 1.0000 - precision: 1.0000 - recall: 1.0000 - val_loss: 19.7193 - val_accuracy: 0.7297 - val_precision: 0.7297 - val_recall: 1.0000\n",
      "Epoch 9/10\n",
      "1/1 [==============================] - 7s 7s/step - loss: 1.4803e-30 - accuracy: 1.0000 - precision: 1.0000 - recall: 1.0000 - val_loss: 20.9393 - val_accuracy: 0.7297 - val_precision: 0.7297 - val_recall: 1.0000\n",
      "Epoch 10/10\n",
      "1/1 [==============================] - 9s 9s/step - loss: 2.1758e-32 - accuracy: 1.0000 - precision: 1.0000 - recall: 1.0000 - val_loss: 22.0418 - val_accuracy: 0.7297 - val_precision: 0.7297 - val_recall: 1.0000\n"
     ]
    }
   ],
   "source": [
    "cnn1_history = cnn1_model.fit(train_data,\n",
    "               train_labels,\n",
    "               batch_size=30,\n",
    "               epochs=10,\n",
    "               validation_data=(val_data, val_labels))"
   ]
  },
  {
   "cell_type": "code",
   "execution_count": 19,
   "metadata": {},
   "outputs": [
    {
     "name": "stderr",
     "output_type": "stream",
     "text": [
      "WARNING:absl:Found untraced functions such as _jit_compiled_convolution_op while saving (showing 1 of 1). These functions will not be directly callable after loading.\n"
     ]
    },
    {
     "name": "stdout",
     "output_type": "stream",
     "text": [
      "INFO:tensorflow:Assets written to: models/cnn1/assets\n"
     ]
    },
    {
     "name": "stderr",
     "output_type": "stream",
     "text": [
      "INFO:tensorflow:Assets written to: models/cnn1/assets\n"
     ]
    }
   ],
   "source": [
    "cnn1_model.save('models/cnn1')"
   ]
  },
  {
   "cell_type": "code",
   "execution_count": 20,
   "metadata": {},
   "outputs": [
    {
     "data": {
      "image/png": "[encoded data removed]",
      "text/plain": [
       "<Figure size 1080x576 with 4 Axes>"
      ]
     },
     "metadata": {
      "needs_background": "light"
     },
     "output_type": "display_data"
    }
   ],
   "source": [
    "fig, ((ax1, ax2), (ax3, ax4)) = plt.subplots(2,2,figsize=(15,8))\n",
    "\n",
    "sns.lineplot(cnn1_history.epoch, cnn1_history.history['loss'], y=loss, ax=ax1, label='loss')\n",
    "sns.lineplot(cnn1_history.epoch, cnn1_history.history['val_loss'], y=loss, ax=ax1, label='val_loss')\n",
    "\n",
    "sns.lineplot(cnn1_history.epoch, cnn1_history.history['accuracy'], y=accuracy, ax=ax2, label='accuracy')\n",
    "sns.lineplot(cnn1_history.epoch, cnn1_history.history['val_accuracy'], y=accuracy, ax=ax2, label='val_accuracy')\n",
    "\n",
    "sns.lineplot(cnn1_history.epoch, cnn1_history.history['precision'], y=precision, ax=ax3, label='precision')\n",
    "sns.lineplot(cnn1_history.epoch, cnn1_history.history['val_precision'], y=precision, ax=ax3, label='val_precision')\n",
    "\n",
    "sns.lineplot(cnn1_history.epoch, cnn1_history.history['recall'], y=recall, ax=ax4, label='recall')\n",
    "sns.lineplot(cnn1_history.epoch, cnn1_history.history['val_recall'], y=recall, ax=ax4, label='val_recall');\n"
   ]
  },
  {
   "cell_type": "code",
   "execution_count": 21,
   "metadata": {},
   "outputs": [
    {
     "name": "stdout",
     "output_type": "stream",
     "text": [
      "1/1 [==============================] - 47s 47s/step - loss: 22.0418 - accuracy: 0.7297 - precision: 0.7297 - recall: 1.0000\n"
     ]
    }
   ],
   "source": [
    "results = cnn1_model.evaluate(validation_generator)"
   ]
  },
  {
   "cell_type": "code",
   "execution_count": 22,
   "metadata": {},
   "outputs": [
    {
     "name": "stdout",
     "output_type": "stream",
     "text": [
      "Model loss: 22.04181671142578\n",
      "Model accuracy: 0.7297008633613586\n",
      "Model precision: 0.7297008633613586\n",
      "Model recall: 1.0\n"
     ]
    }
   ],
   "source": [
    "print(f\"Model loss: {results[0]}\")\n",
    "print(f\"Model accuracy: {results[1]}\")\n",
    "print(f\"Model precision: {results[2]}\")\n",
    "print(f\"Model recall: {results[3]}\")"
   ]
  },
  {
   "cell_type": "code",
   "execution_count": null,
   "metadata": {
    "scrolled": true
   },
   "outputs": [],
   "source": [
    "#CONFUSION MATRIX"
   ]
  },
  {
   "cell_type": "markdown",
   "metadata": {},
   "source": [
    "## CNN Model 2\n",
    "description"
   ]
  },
  {
   "cell_type": "code",
   "execution_count": 24,
   "metadata": {},
   "outputs": [
    {
     "name": "stdout",
     "output_type": "stream",
     "text": [
      "Model: \"sequential_3\"\n",
      "_________________________________________________________________\n",
      " Layer (type)                Output Shape              Param #   \n",
      "=================================================================\n",
      " conv2d_3 (Conv2D)           (None, 148, 148, 64)      640       \n",
      "                                                                 \n",
      " max_pooling2d_3 (MaxPooling  (None, 74, 74, 64)       0         \n",
      " 2D)                                                             \n",
      "                                                                 \n",
      " conv2d_4 (Conv2D)           (None, 72, 72, 32)        18464     \n",
      "                                                                 \n",
      " max_pooling2d_4 (MaxPooling  (None, 36, 36, 32)       0         \n",
      " 2D)                                                             \n",
      "                                                                 \n",
      " flatten_2 (Flatten)         (None, 41472)             0         \n",
      "                                                                 \n",
      " dense_6 (Dense)             (None, 16)                663568    \n",
      "                                                                 \n",
      " dense_7 (Dense)             (None, 1)                 17        \n",
      "                                                                 \n",
      "=================================================================\n",
      "Total params: 682,689\n",
      "Trainable params: 682,689\n",
      "Non-trainable params: 0\n",
      "_________________________________________________________________\n"
     ]
    }
   ],
   "source": [
    "cnn2_model = models.Sequential()\n",
    "cnn2_model.add(layers.Conv2D(64, (3, 3), activation='relu', \n",
    "                            input_shape=(150,150,1)))\n",
    "cnn2_model.add(layers.MaxPooling2D((2,2)))\n",
    "cnn2_model.add(layers.Conv2D(32, (3,3), activation='relu'))       \n",
    "cnn2_model.add(layers.MaxPooling2D((2,2)))\n",
    "cnn2_model.add(layers.Flatten())\n",
    "cnn2_model.add(Dense(16, activation='relu'))\n",
    "cnn2_model.add(Dense(1, activation='sigmoid')) \n",
    "\n",
    "cnn2_model.compile(optimizer=\"adam\",\n",
    "                        loss='binary_crossentropy',\n",
    "                        metrics=['accuracy', metrics.Precision(name='precision'), metrics.Recall(name='recall')])\n",
    "\n",
    "cnn2_model.summary()"
   ]
  },
  {
   "cell_type": "code",
   "execution_count": 25,
   "metadata": {},
   "outputs": [
    {
     "name": "stdout",
     "output_type": "stream",
     "text": [
      "Epoch 1/10\n",
      "1/1 [==============================] - 15s 15s/step - loss: 0.6893 - accuracy: 0.5000 - precision: 1.0000 - recall: 0.5000 - val_loss: 0.7673 - val_accuracy: 0.7297 - val_precision: 0.7297 - val_recall: 1.0000\n",
      "Epoch 2/10\n",
      "1/1 [==============================] - 14s 14s/step - loss: 0.0733 - accuracy: 1.0000 - precision: 1.0000 - recall: 1.0000 - val_loss: 1.4736 - val_accuracy: 0.7297 - val_precision: 0.7297 - val_recall: 1.0000\n",
      "Epoch 3/10\n",
      "1/1 [==============================] - 11s 11s/step - loss: 0.0043 - accuracy: 1.0000 - precision: 1.0000 - recall: 1.0000 - val_loss: 2.2944 - val_accuracy: 0.7297 - val_precision: 0.7297 - val_recall: 1.0000\n",
      "Epoch 4/10\n",
      "1/1 [==============================] - 10s 10s/step - loss: 2.2411e-04 - accuracy: 1.0000 - precision: 1.0000 - recall: 1.0000 - val_loss: 3.1152 - val_accuracy: 0.7297 - val_precision: 0.7297 - val_recall: 1.0000\n",
      "Epoch 5/10\n",
      "1/1 [==============================] - 11s 11s/step - loss: 1.2599e-05 - accuracy: 1.0000 - precision: 1.0000 - recall: 1.0000 - val_loss: 3.9146 - val_accuracy: 0.7297 - val_precision: 0.7297 - val_recall: 1.0000\n",
      "Epoch 6/10\n",
      "1/1 [==============================] - 10s 10s/step - loss: 7.8375e-07 - accuracy: 1.0000 - precision: 1.0000 - recall: 1.0000 - val_loss: 4.6845 - val_accuracy: 0.7297 - val_precision: 0.7297 - val_recall: 1.0000\n",
      "Epoch 7/10\n",
      "1/1 [==============================] - 10s 10s/step - loss: 5.4683e-08 - accuracy: 1.0000 - precision: 1.0000 - recall: 1.0000 - val_loss: 5.4203 - val_accuracy: 0.7297 - val_precision: 0.7297 - val_recall: 1.0000\n",
      "Epoch 8/10\n",
      "1/1 [==============================] - 11s 11s/step - loss: 4.3194e-09 - accuracy: 1.0000 - precision: 1.0000 - recall: 1.0000 - val_loss: 6.1193 - val_accuracy: 0.7297 - val_precision: 0.7297 - val_recall: 1.0000\n",
      "Epoch 9/10\n",
      "1/1 [==============================] - 10s 10s/step - loss: 3.8837e-10 - accuracy: 1.0000 - precision: 1.0000 - recall: 1.0000 - val_loss: 6.7806 - val_accuracy: 0.7297 - val_precision: 0.7297 - val_recall: 1.0000\n",
      "Epoch 10/10\n",
      "1/1 [==============================] - 10s 10s/step - loss: 3.9815e-11 - accuracy: 1.0000 - precision: 1.0000 - recall: 1.0000 - val_loss: 7.4039 - val_accuracy: 0.7297 - val_precision: 0.7297 - val_recall: 1.0000\n"
     ]
    }
   ],
   "source": [
    "cnn2_history = cnn2_model.fit(train_data,\n",
    "               train_labels,\n",
    "               batch_size=50,\n",
    "               epochs=10,\n",
    "               validation_data=(val_data, val_labels))"
   ]
  },
  {
   "cell_type": "code",
   "execution_count": 26,
   "metadata": {},
   "outputs": [
    {
     "name": "stderr",
     "output_type": "stream",
     "text": [
      "WARNING:absl:Found untraced functions such as _jit_compiled_convolution_op, _jit_compiled_convolution_op while saving (showing 2 of 2). These functions will not be directly callable after loading.\n"
     ]
    },
    {
     "name": "stdout",
     "output_type": "stream",
     "text": [
      "INFO:tensorflow:Assets written to: models/cnn2/assets\n"
     ]
    },
    {
     "name": "stderr",
     "output_type": "stream",
     "text": [
      "INFO:tensorflow:Assets written to: models/cnn2/assets\n"
     ]
    }
   ],
   "source": [
    "cnn2_model.save('models/cnn2')"
   ]
  },
  {
   "cell_type": "code",
   "execution_count": 27,
   "metadata": {},
   "outputs": [
    {
     "data": {
      "image/png": "[encoded data removed]",
      "text/plain": [
       "<Figure size 1080x576 with 4 Axes>"
      ]
     },
     "metadata": {
      "needs_background": "light"
     },
     "output_type": "display_data"
    }
   ],
   "source": [
    "fig, ((ax1, ax2), (ax3, ax4)) = plt.subplots(2,2,figsize=(15,8))\n",
    "\n",
    "sns.lineplot(cnn2_history.epoch, cnn2_history.history['loss'], y=loss, ax=ax1, label='loss')\n",
    "sns.lineplot(cnn2_history.epoch, cnn2_history.history['val_loss'], y=loss, ax=ax1, label='val_loss')\n",
    "\n",
    "sns.lineplot(cnn2_history.epoch, cnn2_history.history['accuracy'], y=accuracy, ax=ax2, label='accuracy')\n",
    "sns.lineplot(cnn2_history.epoch, cnn2_history.history['val_accuracy'], y=accuracy, ax=ax2, label='val_accuracy')\n",
    "\n",
    "sns.lineplot(cnn2_history.epoch, cnn2_history.history['precision'], y=precision, ax=ax3, label='precision')\n",
    "sns.lineplot(cnn2_history.epoch, cnn2_history.history['val_precision'], y=precision, ax=ax3, label='val_precision')\n",
    "\n",
    "sns.lineplot(cnn2_history.epoch, cnn2_history.history['recall'], y=recall, ax=ax4, label='recall')\n",
    "sns.lineplot(cnn2_history.epoch, cnn2_history.history['val_recall'], y=recall, ax=ax4, label='val_recall');"
   ]
  },
  {
   "cell_type": "code",
   "execution_count": 28,
   "metadata": {},
   "outputs": [
    {
     "name": "stdout",
     "output_type": "stream",
     "text": [
      "1/1 [==============================] - 49s 49s/step - loss: 7.4039 - accuracy: 0.7297 - precision: 0.7297 - recall: 1.0000\n"
     ]
    },
    {
     "data": {
      "text/plain": [
       "[7.403892993927002, 0.7297008633613586, 0.7297008633613586, 1.0]"
      ]
     },
     "execution_count": 28,
     "metadata": {},
     "output_type": "execute_result"
    }
   ],
   "source": [
    "cnn2_model.evaluate(validation_generator)"
   ]
  },
  {
   "cell_type": "code",
   "execution_count": null,
   "metadata": {},
   "outputs": [],
   "source": [
    "CONFUSION MATRIX"
   ]
  },
  {
   "cell_type": "markdown",
   "metadata": {},
   "source": [
    "### CNN Model 3"
   ]
  },
  {
   "cell_type": "code",
   "execution_count": null,
   "metadata": {},
   "outputs": [],
   "source": [
    "cnn3_model = models.Sequential()\n",
    "cnn3_model.add(layers.Conv2D(64, (4, 4), activation='relu',\n",
    "                      input_shape=(150, 150, 1)))\n",
    "cnn3_model.add(layers.MaxPooling2D((2, 2)))\n",
    "cnn3_model.add(layers.Conv2D(32, (3, 3), activation='relu'))\n",
    "cnn3_model.add(layers.MaxPooling2D((2,2)))\n",
    "cnn3_model.add(layers.Flatten())\n",
    "cnn3_model.add(layers.Dense(16, activation='relu'))\n",
    "cnn3_model.add(layers.Dense(1, activation='sigmoid'))\n",
    "\n",
    "cnn3_model.compile(optimizer=\"adam\",\n",
    "                          loss='binary_crossentropy',\n",
    "                          metrics=['accuracy', metrics.Precision(name='precision'), metrics.Recall(name='recall')])\n",
    "\n",
    "cnn3_model.summary()"
   ]
  },
  {
   "cell_type": "code",
   "execution_count": null,
   "metadata": {},
   "outputs": [],
   "source": [
    "cnn3_history = cnn3_model.fit(train_data,\n",
    "               train_labels,\n",
    "               batch_size=32,\n",
    "               epochs=10,\n",
    "               validation_data=(val_data, val_labels))"
   ]
  },
  {
   "cell_type": "code",
   "execution_count": null,
   "metadata": {},
   "outputs": [],
   "source": [
    "cnn3_model.save('models/cnn3')"
   ]
  },
  {
   "cell_type": "code",
   "execution_count": null,
   "metadata": {},
   "outputs": [],
   "source": [
    "fig, ((ax1, ax2), (ax3, ax4)) = plt.subplots(2,2,figsize=(15,8))\n",
    "\n",
    "sns.lineplot(cnn3_history.epoch, cnn3_history.history['loss'], y=loss, ax=ax1, label='loss')\n",
    "sns.lineplot(cnn3_history.epoch, cnn3_history.history['val_loss'], y=loss, ax=ax1, label='val_loss')\n",
    "\n",
    "sns.lineplot(cnn3_history.epoch, cnn3_history.history['accuracy'], y=accuracy, ax=ax2, label='accuracy')\n",
    "sns.lineplot(cnn3_history.epoch, cnn3_history.history['val_accuracy'], y=accuracy, ax=ax2, label='val_accuracy')\n",
    "\n",
    "sns.lineplot(cnn3_history.epoch, cnn3_history.history['precision'], y=precision, ax=ax3, label='precision')\n",
    "sns.lineplot(cnn3_history.epoch, cnn3_history.history['val_precision'], y=precision, ax=ax3, label='val_precision')\n",
    "\n",
    "sns.lineplot(cnn3_history.epoch, cnn3_history.history['recall'], y=recall, ax=ax4, label='recall')\n",
    "sns.lineplot(cnn3_history.epoch, cnn3_history.history['val_recall'], y=recall, ax=ax4, label='val_recall');"
   ]
  },
  {
   "cell_type": "code",
   "execution_count": null,
   "metadata": {},
   "outputs": [],
   "source": [
    "cnn3_model.evaluate(validation_generator)"
   ]
  },
  {
   "cell_type": "markdown",
   "metadata": {},
   "source": [
    "### CNN Model 4"
   ]
  },
  {
   "cell_type": "code",
   "execution_count": null,
   "metadata": {},
   "outputs": [],
   "source": [
    "cnn4_model = models.Sequential()\n",
    "cnn4_model.add(layers.Conv2D(64, (4, 4), activation='relu',\n",
    "                       input_shape=(150, 150, 1), kernel_regularizer=regularizers.l2(l=0.05)))\n",
    "cnn4_model.add(layers.MaxPooling2D((2, 2)))\n",
    "cnn4_model.add(layers.Conv2D(32, (3, 3), activation='relu', \n",
    "                                     kernel_regularizer=regularizers.l2(l=0.05)))\n",
    "cnn4_model.add(layers.MaxPooling2D((2,2)))\n",
    "cnn4_model.add(layers.Flatten())\n",
    "cnn4_model.add(layers.Dense(16, activation='relu'))\n",
    "cnn4_model.add(layers.Dense(1, activation='sigmoid'))\n",
    "\n",
    "cnn4_model.compile(optimizer=\"adam\",\n",
    "                          loss='binary_crossentropy',\n",
    "                          metrics=['accuracy', metrics.Precision(name='precision'), metrics.Recall(name='recall')])\n",
    "cnn4_model.summary()"
   ]
  },
  {
   "cell_type": "code",
   "execution_count": null,
   "metadata": {},
   "outputs": [],
   "source": [
    "cnn4_history = cnn4_model.fit(train_data,\n",
    "              train_labels,\n",
    "              batch_size=32,\n",
    "              epochs=10,\n",
    "              validation_data=(val_data, val_labels))"
   ]
  },
  {
   "cell_type": "code",
   "execution_count": null,
   "metadata": {},
   "outputs": [],
   "source": [
    "cnn4_model.save('models/cnn4')"
   ]
  },
  {
   "cell_type": "code",
   "execution_count": null,
   "metadata": {},
   "outputs": [],
   "source": [
    "fig, ((ax1, ax2), (ax3, ax4)) = plt.subplots(2,2,figsize=(15,8))\n",
    "\n",
    "sns.lineplot(cnn4_history.epoch, cnn4_history.history['loss'], y=loss, ax=ax1, label='loss')\n",
    "sns.lineplot(cnn4_history.epoch, cnn4_history.history['val_loss'], y=loss, ax=ax1, label='val_loss')\n",
    "\n",
    "sns.lineplot(cnn4_history.epoch, cnn4_history.history['accuracy'], y=accuracy, ax=ax2, label='accuracy')\n",
    "sns.lineplot(cnn4_history.epoch, cnn4_history.history['val_accuracy'], y=accuracy, ax=ax2, label='val_accuracy')\n",
    "\n",
    "sns.lineplot(cnn4_history.epoch, cnn4_history.history['precision'], y=precision, ax=ax3, label='precision')\n",
    "sns.lineplot(cnn4_history.epoch, cnn4_history.history['val_precision'], y=precision, ax=ax3, label='val_precision')\n",
    "\n",
    "sns.lineplot(cnn4_history.epoch, cnn4_history.history['recall'], y=recall, ax=ax4, label='recall')\n",
    "sns.lineplot(cnn4_history.epoch, cnn4_history.history['val_recall'], y=recall, ax=ax4, label='val_recall');"
   ]
  },
  {
   "cell_type": "code",
   "execution_count": null,
   "metadata": {},
   "outputs": [],
   "source": [
    "cnn4_model.evaluate(validation_generator)"
   ]
  },
  {
   "cell_type": "code",
   "execution_count": null,
   "metadata": {},
   "outputs": [],
   "source": []
  },
  {
   "cell_type": "markdown",
   "metadata": {},
   "source": [
    "### CNN Model 5"
   ]
  },
  {
   "cell_type": "code",
   "execution_count": null,
   "metadata": {},
   "outputs": [],
   "source": [
    "cnn5_model = models.Sequential()\n",
    "cnn5_model.add(layers.Conv2D(64, (4, 4), activation='relu',\n",
    "                       input_shape=(150, 150, 1), kernel_regularizer=regularizers.l2(l=0.05)))\n",
    "cnn5_model.add(layers.MaxPooling2D((2, 2)))\n",
    "cnn5_model.add(layers.Conv2D(32, (3, 3), activation='relu', \n",
    "                                     kernel_regularizer=regularizers.l2(l=0.05)))\n",
    "cnn5_model.add(layers.MaxPooling2D((2,2)))\n",
    "cnn5_model.add(layers.Flatten())\n",
    "cnn5_model.add(layers.Dense(16, activation='relu'))\n",
    "cnn5_model.add(layers.Dropout(0.5))\n",
    "cnn5_model.add(layers.Dense(1, activation='sigmoid'))\n",
    "\n",
    "cnn5_model.compile(optimizer=\"adam\",\n",
    "                          loss='binary_crossentropy',\n",
    "                          metrics=['accuracy', metrics.Precision(name='precision'), metrics.Recall(name='recall')])\n",
    "\n",
    "cnn5_model.summary()"
   ]
  },
  {
   "cell_type": "code",
   "execution_count": null,
   "metadata": {},
   "outputs": [],
   "source": [
    "cnn5_history = cnn5_model.fit(train_data,\n",
    "               train_labels,\n",
    "               batch_size=32,\n",
    "               epochs=10,\n",
    "               validation_data=(val_data, val_labels))"
   ]
  },
  {
   "cell_type": "code",
   "execution_count": null,
   "metadata": {},
   "outputs": [],
   "source": [
    "cnn5_model.save('models/cnn5')"
   ]
  },
  {
   "cell_type": "code",
   "execution_count": null,
   "metadata": {},
   "outputs": [],
   "source": [
    "fig, ((ax1, ax2), (ax3, ax4)) = plt.subplots(2,2,figsize=(15,8))\n",
    "\n",
    "sns.lineplot(cnn5_history.epoch, cnn5_history.history['loss'], y=loss, ax=ax1, label='loss')\n",
    "sns.lineplot(cnn5_history.epoch, cnn5_history.history['val_loss'], y=loss, ax=ax1, label='val_loss')\n",
    "\n",
    "sns.lineplot(cnn5_history.epoch, cnn5_history.history['accuracy'], y=accuracy, ax=ax2, label='accuracy')\n",
    "sns.lineplot(cnn5_history.epoch, cnn5_history.history['val_accuracy'], y=accuracy, ax=ax2, label='val_accuracy')\n",
    "\n",
    "sns.lineplot(cnn5_history.epoch, cnn5_history.history['precision'], y=precision, ax=ax3, label='precision')\n",
    "sns.lineplot(cnn5_history.epoch, cnn5_history.history['val_precision'], y=precision, ax=ax3, label='val_precision')\n",
    "\n",
    "sns.lineplot(cnn5_history.epoch, cnn5_history.history['recall'], y=recall, ax=ax4, label='recall')\n",
    "sns.lineplot(cnn5_history.epoch, cnn5_history.history['val_recall'], y=recall, ax=ax4, label='val_recall');"
   ]
  },
  {
   "cell_type": "code",
   "execution_count": null,
   "metadata": {},
   "outputs": [],
   "source": [
    "cnn5_model.evaluate(validation_generator)"
   ]
  },
  {
   "cell_type": "code",
   "execution_count": null,
   "metadata": {},
   "outputs": [],
   "source": []
  },
  {
   "cell_type": "markdown",
   "metadata": {},
   "source": [
    "### CNN Model 6"
   ]
  },
  {
   "cell_type": "code",
   "execution_count": null,
   "metadata": {},
   "outputs": [],
   "source": [
    "cnn6_model = models.Sequential()\n",
    "cnn6_model.add(layers.Conv2D(64, (4, 4), activation='relu',\n",
    "                       input_shape=(150, 150, 1), kernel_regularizer=regularizers.l2(l=0.05)))\n",
    "cnn6_model.add(layers.MaxPooling2D((2, 2)))\n",
    "cnn6_model.add(layers.Conv2D(32, (3, 3), activation='relu', \n",
    "                                     kernel_regularizer=regularizers.l2(l=0.05)))\n",
    "cnn6_model.add(layers.MaxPooling2D((2,2)))\n",
    "cnn6_model.add(layers.Flatten())\n",
    "cnn6_model.add(layers.Dense(16, activation='relu'))\n",
    "cnn6_model.add(layers.Dropout(0.3))\n",
    "cnn6_model.add(layers.Dense(1, activation='sigmoid'))\n",
    "\n",
    "cnn6_model.compile(optimizer=\"adam\",\n",
    "                          loss='binary_crossentropy',\n",
    "                          metrics=['accuracy', metrics.Precision(name='precision'), metrics.Recall(name='recall')])\n",
    "\n",
    "cnn6_model.summary()"
   ]
  },
  {
   "cell_type": "code",
   "execution_count": null,
   "metadata": {},
   "outputs": [],
   "source": [
    "cnn6_history = cnn6_model.fit(train_data,\n",
    "               train_labels,\n",
    "               batch_size=32,\n",
    "               epochs=25,\n",
    "               validation_data=(val_data, val_labels))"
   ]
  },
  {
   "cell_type": "code",
   "execution_count": null,
   "metadata": {},
   "outputs": [],
   "source": [
    "cnn6_model.save('models/cnn6')"
   ]
  },
  {
   "cell_type": "code",
   "execution_count": null,
   "metadata": {},
   "outputs": [],
   "source": [
    "fig, ((ax1, ax2), (ax3, ax4)) = plt.subplots(2,2,figsize=(15,8))\n",
    "\n",
    "sns.lineplot(cnn6_history.epoch, cnn6_history.history['loss'], y=loss, ax=ax1, label='loss')\n",
    "sns.lineplot(cnn6_history.epoch, cnn6_history.history['val_loss'], y=loss, ax=ax1, label='val_loss')\n",
    "\n",
    "sns.lineplot(cnn6_history.epoch, cnn6_history.history['accuracy'], y=accuracy, ax=ax2, label='accuracy')\n",
    "sns.lineplot(cnn6_history.epoch, cnn6_history.history['val_accuracy'], y=accuracy, ax=ax2, label='val_accuracy')\n",
    "\n",
    "sns.lineplot(cnn6_history.epoch, cnn6_history.history['precision'], y=precision, ax=ax3, label='precision')\n",
    "sns.lineplot(cnn6_history.epoch, cnn6_history.history['val_precision'], y=precision, ax=ax3, label='val_precision')\n",
    "\n",
    "sns.lineplot(cnn6_history.epoch, cnn6_history.history['recall'], y=recall, ax=ax4, label='recall')\n",
    "sns.lineplot(cnn6_history.epoch, cnn6_history.history['val_recall'], y=recall, ax=ax4, label='val_recall');"
   ]
  },
  {
   "cell_type": "code",
   "execution_count": null,
   "metadata": {},
   "outputs": [],
   "source": [
    "cnn6_model.evaluate(validation_generator)"
   ]
  },
  {
   "cell_type": "code",
   "execution_count": null,
   "metadata": {},
   "outputs": [],
   "source": []
  },
  {
   "cell_type": "markdown",
   "metadata": {},
   "source": [
    "### CNN Model 7"
   ]
  },
  {
   "cell_type": "code",
   "execution_count": null,
   "metadata": {},
   "outputs": [],
   "source": [
    "cnn7_model = models.Sequential()\n",
    "cnn7_model.add(layers.Conv2D(64, (4, 4), activation='relu',\n",
    "                       input_shape=(150, 150, 1), kernel_regularizer=regularizers.l2(l=0.025)))\n",
    "cnn7_model.add(layers.MaxPooling2D((2, 2)))\n",
    "cnn7_model.add(layers.Conv2D(32, (3, 3), activation='relu', \n",
    "                                     kernel_regularizer=regularizers.l2(l=0.025)))\n",
    "cnn7_model.add(layers.MaxPooling2D((2,2)))\n",
    "cnn7_model.add(layers.Flatten())\n",
    "cnn7_model.add(layers.Dense(16, activation='relu'))\n",
    "cnn7_model.add(layers.Dropout(0.3))\n",
    "cnn7_model.add(layers.Dense(1, activation='sigmoid'))\n",
    "\n",
    "cnn7_model.compile(optimizer=\"adam\",\n",
    "                          loss='binary_crossentropy',\n",
    "                          metrics=['accuracy', metrics.Precision(name='precision'), metrics.Recall(name='recall')])\n",
    "cnn7_model.summary()"
   ]
  },
  {
   "cell_type": "code",
   "execution_count": null,
   "metadata": {},
   "outputs": [],
   "source": [
    "cnn7_history = cnn7_model.fit(train_data,\n",
    "               train_labels,\n",
    "               batch_size=32,\n",
    "               epochs=25,\n",
    "               validation_data=(val_data, val_labels))"
   ]
  },
  {
   "cell_type": "code",
   "execution_count": null,
   "metadata": {},
   "outputs": [],
   "source": [
    "cnn7_model.save('models/cnn7')"
   ]
  },
  {
   "cell_type": "code",
   "execution_count": null,
   "metadata": {},
   "outputs": [],
   "source": [
    "fig, ((ax1, ax2), (ax3, ax4)) = plt.subplots(2,2,figsize=(15,8))\n",
    "\n",
    "sns.lineplot(cnn7_history.epoch, cnn7_history.history['loss'], y=loss, ax=ax1, label='loss')\n",
    "sns.lineplot(cnn7_history.epoch, cnn7_history.history['val_loss'], y=loss, ax=ax1, label='val_loss')\n",
    "\n",
    "sns.lineplot(cnn7_history.epoch, cnn7_history.history['accuracy'], y=accuracy, ax=ax2, label='accuracy')\n",
    "sns.lineplot(cnn7_history.epoch, cnn7_history.history['val_accuracy'], y=accuracy, ax=ax2, label='val_accuracy')\n",
    "\n",
    "sns.lineplot(cnn7_history.epoch, cnn7_history.history['precision'], y=precision, ax=ax3, label='precision')\n",
    "sns.lineplot(cnn7_history.epoch, cnn7_history.history['val_precision'], y=precision, ax=ax3, label='val_precision')\n",
    "\n",
    "sns.lineplot(cnn7_history.epoch, cnn7_history.history['recall'], y=recall, ax=ax4, label='recall')\n",
    "sns.lineplot(cnn7_history.epoch, cnn7_history.history['val_recall'], y=recall, ax=ax4, label='val_recall');"
   ]
  },
  {
   "cell_type": "code",
   "execution_count": null,
   "metadata": {},
   "outputs": [],
   "source": [
    "cnn7_model.evaluate(validation_generator)"
   ]
  },
  {
   "cell_type": "code",
   "execution_count": null,
   "metadata": {},
   "outputs": [],
   "source": []
  },
  {
   "cell_type": "markdown",
   "metadata": {},
   "source": [
    "### CNN Model 8"
   ]
  },
  {
   "cell_type": "code",
   "execution_count": null,
   "metadata": {},
   "outputs": [],
   "source": [
    "\n",
    "cnn8_model = models.Sequential()\n",
    "cnn8_model.add(layers.Conv2D(64, (4, 4), activation='relu',\n",
    "                       input_shape=(150, 150, 1), kernel_regularizer=regularizers.l2(l=0.025)))\n",
    "cnn8_model.add(layers.MaxPooling2D((3, 3)))\n",
    "cnn8_model.add(layers.Conv2D(32, (3, 3), activation='relu', \n",
    "                                     kernel_regularizer=regularizers.l2(l=0.025)))\n",
    "cnn8_model.add(layers.MaxPooling2D((3, 3)))\n",
    "cnn8_model.add(layers.Flatten())\n",
    "cnn8_model.add(layers.Dense(16, activation='relu'))\n",
    "cnn8_model.add(layers.Dropout(0.3))\n",
    "cnn8_model.add(layers.Dense(1, activation='sigmoid'))\n",
    "\n",
    "cnn8_model.compile(optimizer=\"adam\",\n",
    "                          loss='binary_crossentropy',\n",
    "                          metrics=['accuracy', metrics.Precision(name='precision'), metrics.Recall(name='recall')])\n",
    "\n",
    "cnn8_model.summary()"
   ]
  },
  {
   "cell_type": "code",
   "execution_count": null,
   "metadata": {},
   "outputs": [],
   "source": [
    "cnn8_history = cnn8_model.fit(train_data,\n",
    "               train_labels,\n",
    "               batch_size=32,\n",
    "               epochs=25,\n",
    "               validation_data=(val_data, val_labels))"
   ]
  },
  {
   "cell_type": "code",
   "execution_count": null,
   "metadata": {},
   "outputs": [],
   "source": [
    "cnn8_model.save('models/cnn8')"
   ]
  },
  {
   "cell_type": "code",
   "execution_count": null,
   "metadata": {},
   "outputs": [],
   "source": [
    "fig, ((ax1, ax2), (ax3, ax4)) = plt.subplots(2,2,figsize=(15,8))\n",
    "\n",
    "sns.lineplot(cnn8_history.epoch, cnn8_history.history['loss'], y=loss, ax=ax1, label='loss')\n",
    "sns.lineplot(cnn8_history.epoch, cnn8_history.history['val_loss'], y=loss, ax=ax1, label='val_loss')\n",
    "\n",
    "sns.lineplot(cnn8_history.epoch, cnn8_history.history['accuracy'], y=accuracy, ax=ax2, label='accuracy')\n",
    "sns.lineplot(cnn8_history.epoch, cnn8_history.history['val_accuracy'], y=accuracy, ax=ax2, label='val_accuracy')\n",
    "\n",
    "sns.lineplot(cnn8_history.epoch, cnn8_history.history['precision'], y=precision, ax=ax3, label='precision')\n",
    "sns.lineplot(cnn8_history.epoch, cnn8_history.history['val_precision'], y=precision, ax=ax3, label='val_precision')\n",
    "\n",
    "sns.lineplot(cnn8_history.epoch, cnn8_history.history['recall'], y=recall, ax=ax4, label='recall')\n",
    "sns.lineplot(cnn8_history.epoch, cnn8_history.history['val_recall'], y=recall, ax=ax4, label='val_recall');"
   ]
  },
  {
   "cell_type": "code",
   "execution_count": null,
   "metadata": {},
   "outputs": [],
   "source": [
    "cnn8_model.evaluate(validation_generator)"
   ]
  },
  {
   "cell_type": "code",
   "execution_count": null,
   "metadata": {},
   "outputs": [],
   "source": []
  },
  {
   "cell_type": "markdown",
   "metadata": {},
   "source": [
    "### CNN Model 9"
   ]
  },
  {
   "cell_type": "code",
   "execution_count": null,
   "metadata": {},
   "outputs": [],
   "source": [
    "cnn9_model = models.Sequential()\n",
    "cnn9_model.add(layers.Conv2D(64, (4, 4), activation='relu',\n",
    "                       input_shape=(150, 150, 1), kernel_regularizer=regularizers.l2(l=0.025)))\n",
    "cnn9_model.add(layers.MaxPooling2D((3, 3)))\n",
    "cnn9_model.add(layers.Conv2D(32, (3, 3), activation='relu', \n",
    "                                     kernel_regularizer=regularizers.l2(l=0.025)))\n",
    "cnn9_model.add(layers.MaxPooling2D((3, 3)))\n",
    "cnn9_model.add(layers.Conv2D(16, (2, 2), activation='relu', \n",
    "                                     kernel_regularizer=regularizers.l2(l=0.025)))\n",
    "cnn9_model.add(layers.MaxPooling2D((3, 3)))\n",
    "cnn9_model.add(layers.Flatten())\n",
    "cnn9_model.add(layers.Dense(16, activation='relu'))\n",
    "cnn9_model.add(layers.Dropout(0.3))\n",
    "cnn9_model.add(layers.Dense(1, activation='sigmoid'))\n",
    "\n",
    "cnn9_model.compile(optimizer=\"adam\",\n",
    "                          loss='binary_crossentropy',\n",
    "                          metrics=['accuracy', metrics.Precision(name='precision'), metrics.Recall(name='recall')])\n",
    "\n",
    "cnn9_model.summary()"
   ]
  },
  {
   "cell_type": "code",
   "execution_count": null,
   "metadata": {},
   "outputs": [],
   "source": [
    "cnn9_history = cnn9_model.fit(train_data,\n",
    "               train_labels,\n",
    "               batch_size=32,\n",
    "               epochs=25,\n",
    "               validation_data=(val_data, val_labels))"
   ]
  },
  {
   "cell_type": "code",
   "execution_count": null,
   "metadata": {},
   "outputs": [],
   "source": [
    "cnn9_model.save('models/cnn9')"
   ]
  },
  {
   "cell_type": "code",
   "execution_count": null,
   "metadata": {},
   "outputs": [],
   "source": [
    "fig, ((ax1, ax2), (ax3, ax4)) = plt.subplots(2,2,figsize=(15,8))\n",
    "\n",
    "sns.lineplot(cnn9_history.epoch, cnn9_history.history['loss'], y=loss, ax=ax1, label='loss')\n",
    "sns.lineplot(cnn9_history.epoch, cnn9_history.history['val_loss'], y=loss, ax=ax1, label='val_loss')\n",
    "\n",
    "sns.lineplot(cnn9_history.epoch, cnn9_history.history['accuracy'], y=accuracy, ax=ax2, label='accuracy')\n",
    "sns.lineplot(cnn9_history.epoch, cnn9_history.history['val_accuracy'], y=accuracy, ax=ax2, label='val_accuracy')\n",
    "\n",
    "sns.lineplot(cnn9_history.epoch, cnn9_history.history['precision'], y=precision, ax=ax3, label='precision')\n",
    "sns.lineplot(cnn9_history.epoch, cnn9_history.history['val_precision'], y=precision, ax=ax3, label='val_precision')\n",
    "\n",
    "sns.lineplot(cnn9_history.epoch, cnn9_history.history['recall'], y=recall, ax=ax4, label='recall')\n",
    "sns.lineplot(cnn9_history.epoch, cnn9_history.history['val_recall'], y=recall, ax=ax4, label='val_recall');"
   ]
  },
  {
   "cell_type": "code",
   "execution_count": null,
   "metadata": {},
   "outputs": [],
   "source": [
    "cnn9_model.evaluate(validation_generator)"
   ]
  },
  {
   "cell_type": "code",
   "execution_count": null,
   "metadata": {},
   "outputs": [],
   "source": []
  },
  {
   "cell_type": "markdown",
   "metadata": {},
   "source": [
    "### CNN Model 10"
   ]
  },
  {
   "cell_type": "code",
   "execution_count": null,
   "metadata": {},
   "outputs": [],
   "source": [
    "cnn10_model = models.Sequential()\n",
    "cnn10_model.add(layers.Conv2D(64, (4, 4), activation='relu',\n",
    "                       input_shape=(150, 150, 1), kernel_regularizer=regularizers.l2(l=0.025)))\n",
    "cnn10_model.add(layers.MaxPooling2D((3, 3)))\n",
    "cnn10_model.add(layers.Conv2D(32, (3, 3), activation='relu', \n",
    "                                     kernel_regularizer=regularizers.l2(l=0.025)))\n",
    "cnn10_model.add(layers.MaxPooling2D((3, 3)))\n",
    "cnn10_model.add(layers.Conv2D(16, (2, 2), activation='relu', \n",
    "                                     kernel_regularizer=regularizers.l2(l=0.025)))\n",
    "cnn10_model.add(layers.MaxPooling2D((3, 3)))\n",
    "cnn10_model.add(layers.Flatten())\n",
    "cnn10_model.add(layers.Dense(16, activation='relu'))\n",
    "cnn10_model.add(layers.Dropout(0.3))\n",
    "cnn10_model.add(layers.Dense(1, activation='sigmoid'))\n",
    "\n",
    "cnn10_model.compile(optimizer=\"adam\",\n",
    "                          loss='binary_crossentropy',\n",
    "                          metrics=['accuracy', metrics.Precision(name='precision'), metrics.Recall(name='recall')])\n",
    "\n",
    "# Define the EarlyStopping object\n",
    "early_stop = EarlyStopping(monitor='val_accuracy', min_delta=1e-8,\n",
    "                           patience=10,\n",
    "                           verbose=1,\n",
    "                           mode='max')\n",
    "\n",
    "cnn10_model.summary()"
   ]
  },
  {
   "cell_type": "code",
   "execution_count": null,
   "metadata": {},
   "outputs": [],
   "source": [
    "cnn10_history = cnn10_model.fit(train_data,\n",
    "               train_labels,\n",
    "               batch_size=32,\n",
    "               epochs=50,\n",
    "               validation_data=(val_data, val_labels),\n",
    "               callbacks=[early_stop])"
   ]
  },
  {
   "cell_type": "code",
   "execution_count": null,
   "metadata": {},
   "outputs": [],
   "source": [
    "cnn10_model.save('models/cnn10')"
   ]
  },
  {
   "cell_type": "code",
   "execution_count": null,
   "metadata": {},
   "outputs": [],
   "source": [
    "fig, ((ax1, ax2), (ax3, ax4)) = plt.subplots(2,2,figsize=(15,8))\n",
    "\n",
    "sns.lineplot(cnn10_history.epoch, cnn10_history.history['loss'], y=loss, ax=ax1, label='loss')\n",
    "sns.lineplot(cnn10_history.epoch, cnn10_history.history['val_loss'], y=loss, ax=ax1, label='val_loss')\n",
    "\n",
    "sns.lineplot(cnn10_history.epoch, cnn10_history.history['accuracy'], y=accuracy, ax=ax2, label='accuracy')\n",
    "sns.lineplot(cnn10_history.epoch, cnn10_history.history['val_accuracy'], y=accuracy, ax=ax2, label='val_accuracy')\n",
    "\n",
    "sns.lineplot(cnn10_history.epoch, cnn10_history.history['precision'], y=precision, ax=ax3, label='precision')\n",
    "sns.lineplot(cnn10_history.epoch, cnn10_history.history['val_precision'], y=precision, ax=ax3, label='val_precision')\n",
    "\n",
    "sns.lineplot(cnn10_history.epoch, cnn10_history.history['recall'], y=recall, ax=ax4, label='recall')\n",
    "sns.lineplot(cnn10_history.epoch, cnn10_history.history['val_recall'], y=recall, ax=ax4, label='val_recall');\n"
   ]
  },
  {
   "cell_type": "code",
   "execution_count": null,
   "metadata": {},
   "outputs": [],
   "source": [
    "cnn10_model.evaluate(validation_generator)"
   ]
  },
  {
   "cell_type": "code",
   "execution_count": null,
   "metadata": {},
   "outputs": [],
   "source": []
  },
  {
   "cell_type": "code",
   "execution_count": null,
   "metadata": {},
   "outputs": [],
   "source": []
  },
  {
   "cell_type": "markdown",
   "metadata": {},
   "source": [
    "### CNN Model 11"
   ]
  },
  {
   "cell_type": "code",
   "execution_count": null,
   "metadata": {},
   "outputs": [],
   "source": [
    "cnn11_model = models.Sequential()\n",
    "cnn11_model.add(layers.Conv2D(64, (4, 4), activation='relu',\n",
    "                       input_shape=(150, 150, 1), kernel_regularizer=regularizers.l2(l=0.025)))\n",
    "cnn11_model.add(layers.MaxPooling2D((3, 3)))\n",
    "cnn11_model.add(layers.Conv2D(32, (3, 3), activation='relu', \n",
    "                                     kernel_regularizer=regularizers.l2(l=0.025)))\n",
    "cnn11_model.add(layers.MaxPooling2D((3, 3)))\n",
    "cnn11_model.add(layers.Flatten())\n",
    "cnn11_model.add(layers.Dense(16, activation='relu'))\n",
    "cnn11_model.add(layers.Dropout(0.3))\n",
    "cnn11_model.add(layers.Dense(1, activation='sigmoid'))\n",
    "\n",
    "# Define the EarlyStopping object\n",
    "early_stop = EarlyStopping(monitor='val_loss', min_delta=1e-8,\n",
    "                           patience=10,\n",
    "                           verbose=1,\n",
    "                           mode='min')\n",
    "\n",
    "cnn11_model.compile(optimizer=\"adam\",\n",
    "                           loss='binary_crossentropy',\n",
    "                           metrics=['accuracy', metrics.Precision(name='precision'), metrics.Recall(name='recall')])\n",
    "\n",
    "cnn11_model.summary()"
   ]
  },
  {
   "cell_type": "code",
   "execution_count": null,
   "metadata": {},
   "outputs": [],
   "source": [
    "cnn11_history = cnn11_model.fit(train_data,\n",
    "               train_labels,\n",
    "               batch_size=32,\n",
    "               epochs=50,\n",
    "               validation_data=(val_data, val_labels),\n",
    "               callbacks=[early_stop])"
   ]
  },
  {
   "cell_type": "code",
   "execution_count": null,
   "metadata": {
    "scrolled": true
   },
   "outputs": [],
   "source": [
    "cnn11_model.save('models/cnn11')"
   ]
  },
  {
   "cell_type": "code",
   "execution_count": null,
   "metadata": {},
   "outputs": [],
   "source": [
    "fig, ((ax1, ax2), (ax3, ax4)) = plt.subplots(2,2,figsize=(15,8))\n",
    "\n",
    "sns.lineplot(cnn11_history.epoch, cnn11_history.history['loss'], y=loss, ax=ax1, label='loss')\n",
    "sns.lineplot(cnn11_history.epoch, cnn11_history.history['val_loss'], y=loss, ax=ax1, label='val_loss')\n",
    "\n",
    "sns.lineplot(cnn11_history.epoch, cnn11_history.history['accuracy'], y=accuracy, ax=ax2, label='accuracy')\n",
    "sns.lineplot(cnn11_history.epoch, cnn11_history.history['val_accuracy'], y=accuracy, ax=ax2, label='val_accuracy')\n",
    "\n",
    "sns.lineplot(cnn11_history.epoch, cnn11_history.history['precision'], y=precision, ax=ax3, label='precision')\n",
    "sns.lineplot(cnn11_history.epoch, cnn11_history.history['val_precision'], y=precision, ax=ax3, label='val_precision')\n",
    "\n",
    "sns.lineplot(cnn11_history.epoch, cnn11_history.history['recall'], y=recall, ax=ax4, label='recall')\n",
    "sns.lineplot(cnn11_history.epoch, cnn11_history.history['val_recall'], y=recall, ax=ax4, label='val_recall');\n"
   ]
  },
  {
   "cell_type": "code",
   "execution_count": null,
   "metadata": {},
   "outputs": [],
   "source": [
    "cnn11_model.evaluate(validation_generator)"
   ]
  },
  {
   "cell_type": "code",
   "execution_count": null,
   "metadata": {},
   "outputs": [],
   "source": []
  },
  {
   "cell_type": "code",
   "execution_count": null,
   "metadata": {},
   "outputs": [],
   "source": []
  },
  {
   "cell_type": "markdown",
   "metadata": {},
   "source": [
    "### CNN Model 12"
   ]
  },
  {
   "cell_type": "code",
   "execution_count": 23,
   "metadata": {},
   "outputs": [
    {
     "name": "stdout",
     "output_type": "stream",
     "text": [
      "Model: \"sequential_2\"\n",
      "_________________________________________________________________\n",
      " Layer (type)                Output Shape              Param #   \n",
      "=================================================================\n",
      " conv2d_1 (Conv2D)           (None, 147, 147, 64)      1088      \n",
      "                                                                 \n",
      " max_pooling2d_1 (MaxPooling  (None, 49, 49, 64)       0         \n",
      " 2D)                                                             \n",
      "                                                                 \n",
      " conv2d_2 (Conv2D)           (None, 47, 47, 32)        18464     \n",
      "                                                                 \n",
      " max_pooling2d_2 (MaxPooling  (None, 15, 15, 32)       0         \n",
      " 2D)                                                             \n",
      "                                                                 \n",
      " flatten_1 (Flatten)         (None, 7200)              0         \n",
      "                                                                 \n",
      " dense_4 (Dense)             (None, 16)                115216    \n",
      "                                                                 \n",
      " dropout (Dropout)           (None, 16)                0         \n",
      "                                                                 \n",
      " dense_5 (Dense)             (None, 1)                 17        \n",
      "                                                                 \n",
      "=================================================================\n",
      "Total params: 134,785\n",
      "Trainable params: 134,785\n",
      "Non-trainable params: 0\n",
      "_________________________________________________________________\n"
     ]
    }
   ],
   "source": [
    "cnn12_model = models.Sequential()\n",
    "cnn12_model.add(layers.Conv2D(64, (4, 4), activation='relu',\n",
    "                       input_shape=(150, 150, 1), kernel_regularizer=regularizers.l2(l=0.025)))\n",
    "cnn12_model.add(layers.MaxPooling2D((3, 3)))\n",
    "cnn12_model.add(layers.Conv2D(32, (3, 3), activation='relu', \n",
    "                                     kernel_regularizer=regularizers.l2(l=0.025)))\n",
    "cnn12_model.add(layers.MaxPooling2D((3, 3)))\n",
    "cnn12_model.add(layers.Flatten())\n",
    "cnn12_model.add(layers.Dense(16, activation='relu'))\n",
    "cnn12_model.add(layers.Dropout(0.3))\n",
    "cnn12_model.add(layers.Dense(1, activation='sigmoid'))\n",
    "\n",
    "# Define the EarlyStopping object\n",
    "early_stop = EarlyStopping(monitor='val_loss', min_delta=1e-8,\n",
    "                           patience=10,\n",
    "                           verbose=1,\n",
    "                           mode='min')\n",
    "\n",
    "cnn12_model.compile(optimizer=\"adam\",\n",
    "                           loss='binary_crossentropy',\n",
    "                           metrics=['accuracy', metrics.Precision(name='precision', thresholds=0.3), metrics.Recall(name='recall', thresholds=0.3)]) \n",
    "\n",
    "cnn12_model.summary()"
   ]
  },
  {
   "cell_type": "code",
   "execution_count": null,
   "metadata": {},
   "outputs": [],
   "source": [
    "cnn12_history = cnn12_model.fit(train_data,\n",
    "               train_labels,\n",
    "               batch_size=32,\n",
    "               epochs=30,\n",
    "               validation_data=(val_data, val_labels),\n",
    "               callbacks=[early_stop])"
   ]
  },
  {
   "cell_type": "code",
   "execution_count": null,
   "metadata": {
    "scrolled": true
   },
   "outputs": [],
   "source": [
    "cnn12_model.save('models/cnn12')"
   ]
  },
  {
   "cell_type": "code",
   "execution_count": null,
   "metadata": {},
   "outputs": [],
   "source": [
    "fig, ((ax1, ax2), (ax3, ax4)) = plt.subplots(2,2,figsize=(15,8))\n",
    "\n",
    "sns.lineplot(cnn12_history.epoch, cnn12_history.history['loss'], y=loss, ax=ax1, label='loss')\n",
    "sns.lineplot(cnn12_history.epoch, cnn12_history.history['val_loss'], y=loss, ax=ax1, label='val_loss')\n",
    "\n",
    "sns.lineplot(cnn12_history.epoch, cnn12_history.history['accuracy'], y=accuracy, ax=ax2, label='accuracy')\n",
    "sns.lineplot(cnn12_history.epoch, cnn12_history.history['val_accuracy'], y=accuracy, ax=ax2, label='val_accuracy')\n",
    "\n",
    "sns.lineplot(cnn12_history.epoch, cnn12_history.history['precision'], y=precision, ax=ax3, label='precision')\n",
    "sns.lineplot(cnn12_history.epoch, cnn12_history.history['val_precision'], y=precision, ax=ax3, label='val_precision')\n",
    "\n",
    "sns.lineplot(cnn12_history.epoch, cnn12_history.history['recall'], y=recall, ax=ax4, label='recall')\n",
    "sns.lineplot(cnn12_history.epoch, cnn12_history.history['val_recall'], y=recall, ax=ax4, label='val_recall');\n"
   ]
  },
  {
   "cell_type": "code",
   "execution_count": null,
   "metadata": {},
   "outputs": [],
   "source": [
    "cnn12_model.evaluate(validation_generator)"
   ]
  },
  {
   "cell_type": "code",
   "execution_count": null,
   "metadata": {},
   "outputs": [],
   "source": []
  },
  {
   "cell_type": "code",
   "execution_count": null,
   "metadata": {},
   "outputs": [],
   "source": []
  }
 ],
 "metadata": {
  "kernelspec": {
   "display_name": "Python 3",
   "language": "python",
   "name": "python3"
  },
  "language_info": {
   "codemirror_mode": {
    "name": "ipython",
    "version": 3
   },
   "file_extension": ".py",
   "mimetype": "text/x-python",
   "name": "python",
   "nbconvert_exporter": "python",
   "pygments_lexer": "ipython3",
   "version": "3.8.5"
  }
 },
 "nbformat": 4,
 "nbformat_minor": 2
}
