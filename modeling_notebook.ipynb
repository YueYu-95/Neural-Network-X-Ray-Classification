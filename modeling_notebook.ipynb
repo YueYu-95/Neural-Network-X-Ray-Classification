{
 "cells": [
  {
   "cell_type": "markdown",
   "metadata": {},
   "source": [
    "# Image Classification: Detecting Pediatric Pneumonia"
   ]
  },
  {
   "cell_type": "markdown",
   "metadata": {},
   "source": [
    "## Overview"
   ]
  },
  {
   "cell_type": "markdown",
   "metadata": {},
   "source": [
    "## Business Understanding"
   ]
  },
  {
   "cell_type": "markdown",
   "metadata": {},
   "source": [
    "## Data Understanding"
   ]
  },
  {
   "cell_type": "markdown",
   "metadata": {},
   "source": [
    "## Data Preparation"
   ]
  },
  {
   "cell_type": "code",
   "execution_count": 178,
   "metadata": {},
   "outputs": [],
   "source": [
    "#importing packages\n",
    "import pandas as pd \n",
    "import splitfolders\n",
    "import matplotlib.pyplot as plt\n",
    "import seaborn as sns\n",
    "\n",
    "import joblib\n",
    "import os\n",
    "\n",
    "from tensorflow import keras\n",
    "\n",
    "import tensorflow as tf\n",
    "from tensorflow.keras.preprocessing.image import ImageDataGenerator\n",
    "from tensorflow.keras.callbacks import EarlyStopping\n",
    "\n",
    "from tensorflow.keras import models, layers, optimizers, regularizers\n",
    "from tensorflow.keras.models import load_model\n",
    "from sklearn.dummy import DummyClassifier\n",
    "from sklearn.metrics import recall_score, classification_report, precision_score\n",
    "from sklearn.model_selection import cross_val_score\n",
    "from tensorflow.keras import metrics\n",
    "from tensorflow.keras.wrappers import scikit_learn\n",
    "\n",
    "from tensorflow.keras.layers import Dense\n",
    "from sklearn.model_selection import GridSearchCV\n",
    "import numpy as np\n",
    "from sklearn.metrics import plot_confusion_matrix, confusion_matrix, ConfusionMatrixDisplay\n",
    "\n",
    "\n",
    "seed = 42\n",
    "tf.random.set_seed(seed)\n",
    "import warnings\n",
    "warnings.filterwarnings('ignore')\n",
    "%matplotlib inline "
   ]
  },
  {
   "cell_type": "code",
   "execution_count": null,
   "metadata": {},
   "outputs": [],
   "source": []
  },
  {
   "cell_type": "code",
   "execution_count": 2,
   "metadata": {},
   "outputs": [
    {
     "name": "stdout",
     "output_type": "stream",
     "text": [
      "Requirement already satisfied: split-folders in /Users/mysterious/opt/anaconda3/envs/learn-env/lib/python3.8/site-packages (0.5.1)\n",
      "Note: you may need to restart the kernel to use updated packages.\n"
     ]
    }
   ],
   "source": [
    "pip install split-folders"
   ]
  },
  {
   "cell_type": "code",
   "execution_count": 3,
   "metadata": {},
   "outputs": [],
   "source": [
    "#use the splitfolders package to split our image data into train, validation, and test sets.\n",
    "#this is now commented out so that we don't create a new folder each time we run the notebook\n",
    "\n",
    "\n",
    "#splitfolders.ratio(\"Data\", output=\"Data_Split\",\n",
    "#    seed=42, ratio=(.64, .16, .2), group_prefix=None, move=True)"
   ]
  },
  {
   "cell_type": "code",
   "execution_count": 179,
   "metadata": {},
   "outputs": [],
   "source": [
    "# Using ImageDataGenerator to rescale all images \n",
    "train_datagen = ImageDataGenerator(rescale=1./255)\n",
    "val_datagen = ImageDataGenerator(rescale=1./255)\n",
    "test_datagen = ImageDataGenerator(rescale=1./255)"
   ]
  },
  {
   "cell_type": "code",
   "execution_count": 180,
   "metadata": {},
   "outputs": [
    {
     "name": "stdout",
     "output_type": "stream",
     "text": [
      "Found 3747 images belonging to 2 classes.\n"
     ]
    }
   ],
   "source": [
    "train_generator = train_datagen.flow_from_directory(\n",
    "        # This is the target directory\n",
    "        'Data_Split/train',\n",
    "        # All images will be resized to 150x150\n",
    "        target_size=(150, 150),\n",
    "        batch_size=3747,\n",
    "        color_mode='grayscale',\n",
    "        # Since we use binary_crossentropy loss, we need binary labels\n",
    "        class_mode='binary')\n"
   ]
  },
  {
   "cell_type": "code",
   "execution_count": 181,
   "metadata": {},
   "outputs": [
    {
     "name": "stdout",
     "output_type": "stream",
     "text": [
      "Found 936 images belonging to 2 classes.\n",
      "Found 1173 images belonging to 2 classes.\n"
     ]
    }
   ],
   "source": [
    "validation_generator = val_datagen.flow_from_directory('Data_Split/val',\n",
    "                                                        target_size=(150, 150),\n",
    "                                                        batch_size=936,\n",
    "                                                        color_mode='grayscale',\n",
    "                                                        class_mode='binary')\n",
    "test_generator = test_datagen.flow_from_directory('Data_Split/test',\n",
    "                                                  target_size=(150, 150),\n",
    "                                                  batch_size=1173,\n",
    "                                                  color_mode='grayscale',\n",
    "                                                  class_mode='binary')"
   ]
  },
  {
   "cell_type": "code",
   "execution_count": 182,
   "metadata": {},
   "outputs": [
    {
     "name": "stdout",
     "output_type": "stream",
     "text": [
      "Found 3747 images belonging to 2 classes.\n"
     ]
    }
   ],
   "source": [
    "#Creating the augumented data\n",
    "\n",
    "aug_train_images = ImageDataGenerator(rotation_range=30, \n",
    "                                   width_shift_range=0.25, \n",
    "                                   height_shift_range=0.25, \n",
    "                                   shear_range=0.25, \n",
    "                                   zoom_range=0.25, \n",
    "                                   horizontal_flip=True,\n",
    "                                   vertical_flip=True)\n",
    "\n",
    "train_aug = aug_train_images.flow_from_directory('Data_Split/train',\n",
    "                                                  target_size=(150, 150),\n",
    "                                                  batch_size=3747,\n",
    "                                                  color_mode='grayscale',\n",
    "                                                  class_mode='binary')"
   ]
  },
  {
   "cell_type": "code",
   "execution_count": 183,
   "metadata": {},
   "outputs": [],
   "source": [
    "#getting images and labels for models\n",
    "train_data, train_labels = next (train_generator)\n",
    "test_data, test_labels = next (test_generator)\n",
    "val_data, val_labels = next (validation_generator)"
   ]
  },
  {
   "cell_type": "code",
   "execution_count": 188,
   "metadata": {},
   "outputs": [
    {
     "data": {
      "text/plain": [
       "(3747, 22500)"
      ]
     },
     "execution_count": 188,
     "metadata": {},
     "output_type": "execute_result"
    }
   ],
   "source": [
    "#reshaping\n",
    "train_data = train_data.reshape(train_data.shape[0], -1)\n",
    "test_data = test_data.reshape(test_data.shape[0], -1)\n",
    "val_data = val_data.reshape(val_data.shape[0], -1)\n",
    "train_data.shape"
   ]
  },
  {
   "cell_type": "code",
   "execution_count": null,
   "metadata": {},
   "outputs": [],
   "source": []
  },
  {
   "cell_type": "code",
   "execution_count": 10,
   "metadata": {},
   "outputs": [],
   "source": [
    "# Function to show model metrics"
   ]
  },
  {
   "cell_type": "code",
   "execution_count": null,
   "metadata": {},
   "outputs": [],
   "source": []
  },
  {
   "cell_type": "markdown",
   "metadata": {},
   "source": [
    "### Dummy Model\n",
    "We will use a dummy model classifier as our baseline model. This model will predict the majority class. Since the majority class in our data is pneumonia, this model will predict all images are pneumonia."
   ]
  },
  {
   "cell_type": "code",
   "execution_count": 12,
   "metadata": {},
   "outputs": [
    {
     "data": {
      "text/plain": [
       "DummyClassifier(strategy='most_frequent')"
      ]
     },
     "execution_count": 12,
     "metadata": {},
     "output_type": "execute_result"
    }
   ],
   "source": [
    "dummy_model =  DummyClassifier(strategy='most_frequent')\n",
    "dummy_model.fit(train_data, train_labels)"
   ]
  },
  {
   "cell_type": "code",
   "execution_count": 13,
   "metadata": {},
   "outputs": [],
   "source": [
    "y_preds_dummy = dummy_model.predict(val_data)"
   ]
  },
  {
   "cell_type": "code",
   "execution_count": 14,
   "metadata": {},
   "outputs": [
    {
     "name": "stdout",
     "output_type": "stream",
     "text": [
      "Dummy Model accuracy: 0.7297008547008547\n",
      "Dummy Model recall: 1.0\n",
      "Dummy Model precision: 0.7297008547008547\n"
     ]
    }
   ],
   "source": [
    "dummy_acc = dummy_model.score(val_data, val_labels)\n",
    "dummy_rec = recall_score(val_labels,y_preds_dummy)\n",
    "dummy_pre = precision_score(val_labels,y_preds_dummy)\n",
    "\n",
    "print(f\"Dummy Model accuracy: {dummy_acc}\")\n",
    "print(f\"Dummy Model recall: {dummy_rec}\")\n",
    "print(f\"Dummy Model precision: {dummy_pre}\")"
   ]
  },
  {
   "cell_type": "code",
   "execution_count": 15,
   "metadata": {
    "scrolled": true
   },
   "outputs": [
    {
     "data": {
      "image/png": "[encoded data removed]",
      "text/plain": [
       "<Figure size 432x288 with 2 Axes>"
      ]
     },
     "metadata": {
      "needs_background": "light"
     },
     "output_type": "display_data"
    }
   ],
   "source": [
    "# Confusion matrix for dummy model\n",
    "plot_confusion_matrix(dummy_model, val_data, val_labels);"
   ]
  },
  {
   "cell_type": "code",
   "execution_count": null,
   "metadata": {},
   "outputs": [],
   "source": []
  },
  {
   "cell_type": "markdown",
   "metadata": {},
   "source": [
    "### Simple Model 1\n",
    "Our first model will be a simple model - this will give us an idea of what improvements"
   ]
  },
  {
   "cell_type": "code",
   "execution_count": 189,
   "metadata": {},
   "outputs": [],
   "source": [
    "simple_model = models.Sequential()"
   ]
  },
  {
   "cell_type": "code",
   "execution_count": 190,
   "metadata": {},
   "outputs": [],
   "source": [
    "simple_model.add(layers.Dense(12, activation='relu', input_shape=(22500,)))\n",
    "simple_model.add(layers.Dense(1, activation='sigmoid')) "
   ]
  },
  {
   "cell_type": "code",
   "execution_count": 191,
   "metadata": {},
   "outputs": [
    {
     "name": "stdout",
     "output_type": "stream",
     "text": [
      "Model: \"sequential_19\"\n",
      "_________________________________________________________________\n",
      " Layer (type)                Output Shape              Param #   \n",
      "=================================================================\n",
      " dense_36 (Dense)            (None, 12)                270012    \n",
      "                                                                 \n",
      " dense_37 (Dense)            (None, 1)                 13        \n",
      "                                                                 \n",
      "=================================================================\n",
      "Total params: 270,025\n",
      "Trainable params: 270,025\n",
      "Non-trainable params: 0\n",
      "_________________________________________________________________\n"
     ]
    }
   ],
   "source": [
    "simple_model.compile(optimizer='SGD',\n",
    "                       loss='binary_crossentropy',\n",
    "                       metrics=['accuracy', metrics.Precision(), metrics.Recall()])\n",
    "simple_model.summary()"
   ]
  },
  {
   "cell_type": "code",
   "execution_count": 192,
   "metadata": {},
   "outputs": [
    {
     "name": "stdout",
     "output_type": "stream",
     "text": [
      "Epoch 1/10\n",
      "118/118 [==============================] - 2s 11ms/step - loss: 0.5337 - accuracy: 0.7422 - precision_18: 0.7457 - recall_18: 0.9813 - val_loss: 0.7664 - val_accuracy: 0.7297 - val_precision_18: 0.7297 - val_recall_18: 1.0000\n",
      "Epoch 2/10\n",
      "118/118 [==============================] - 1s 8ms/step - loss: 0.3953 - accuracy: 0.8244 - precision_18: 0.8412 - recall_18: 0.9360 - val_loss: 0.4013 - val_accuracy: 0.8259 - val_precision_18: 0.9797 - val_recall_18: 0.7775\n",
      "Epoch 3/10\n",
      "118/118 [==============================] - 1s 8ms/step - loss: 0.3272 - accuracy: 0.8639 - precision_18: 0.8913 - recall_18: 0.9265 - val_loss: 0.2362 - val_accuracy: 0.9038 - val_precision_18: 0.9158 - val_recall_18: 0.9561\n",
      "Epoch 4/10\n",
      "118/118 [==============================] - 1s 9ms/step - loss: 0.2688 - accuracy: 0.8903 - precision_18: 0.9097 - recall_18: 0.9433 - val_loss: 0.7127 - val_accuracy: 0.6741 - val_precision_18: 1.0000 - val_recall_18: 0.5534\n",
      "Epoch 5/10\n",
      "118/118 [==============================] - 1s 8ms/step - loss: 0.2606 - accuracy: 0.8956 - precision_18: 0.9191 - recall_18: 0.9396 - val_loss: 0.2015 - val_accuracy: 0.9177 - val_precision_18: 0.9197 - val_recall_18: 0.9722\n",
      "Epoch 6/10\n",
      "118/118 [==============================] - 1s 7ms/step - loss: 0.2281 - accuracy: 0.9077 - precision_18: 0.9270 - recall_18: 0.9481 - val_loss: 0.9156 - val_accuracy: 0.6303 - val_precision_18: 1.0000 - val_recall_18: 0.4934\n",
      "Epoch 7/10\n",
      "118/118 [==============================] - 1s 8ms/step - loss: 0.2366 - accuracy: 0.9061 - precision_18: 0.9260 - recall_18: 0.9470 - val_loss: 0.3799 - val_accuracy: 0.8301 - val_precision_18: 0.9981 - val_recall_18: 0.7687\n",
      "Epoch 8/10\n",
      "118/118 [==============================] - 1s 7ms/step - loss: 0.2323 - accuracy: 0.9058 - precision_18: 0.9290 - recall_18: 0.9429 - val_loss: 0.3901 - val_accuracy: 0.8237 - val_precision_18: 0.9981 - val_recall_18: 0.7599\n",
      "Epoch 9/10\n",
      "118/118 [==============================] - 1s 7ms/step - loss: 0.2138 - accuracy: 0.9141 - precision_18: 0.9341 - recall_18: 0.9492 - val_loss: 0.1717 - val_accuracy: 0.9252 - val_precision_18: 0.9397 - val_recall_18: 0.9590\n",
      "Epoch 10/10\n",
      "118/118 [==============================] - 1s 7ms/step - loss: 0.2067 - accuracy: 0.9210 - precision_18: 0.9372 - recall_18: 0.9557 - val_loss: 0.1683 - val_accuracy: 0.9316 - val_precision_18: 0.9365 - val_recall_18: 0.9722\n"
     ]
    }
   ],
   "source": [
    "simple_model_history = simple_model.fit(train_data, train_labels, epochs=10, \n",
    "                                    batch_size=32, validation_data= (val_data, val_labels))"
   ]
  },
  {
   "cell_type": "code",
   "execution_count": 195,
   "metadata": {},
   "outputs": [
    {
     "name": "stdout",
     "output_type": "stream",
     "text": [
      "30/30 [==============================] - 0s 5ms/step - loss: 0.1683 - accuracy: 0.9316 - precision_18: 0.9365 - recall_18: 0.9722\n"
     ]
    },
    {
     "data": {
      "text/plain": [
       "[0.16830110549926758,\n",
       " 0.9316239356994629,\n",
       " 0.936530351638794,\n",
       " 0.9721815586090088]"
      ]
     },
     "execution_count": 195,
     "metadata": {},
     "output_type": "execute_result"
    }
   ],
   "source": [
    "simple_model.evaluate(val_data, val_labels)"
   ]
  },
  {
   "cell_type": "code",
   "execution_count": 194,
   "metadata": {},
   "outputs": [
    {
     "ename": "KeyError",
     "evalue": "'precision'",
     "output_type": "error",
     "traceback": [
      "\u001b[0;31m---------------------------------------------------------------------------\u001b[0m",
      "\u001b[0;31mKeyError\u001b[0m                                  Traceback (most recent call last)",
      "\u001b[0;32m<ipython-input-194-4d05e83cbc99>\u001b[0m in \u001b[0;36m<module>\u001b[0;34m\u001b[0m\n\u001b[1;32m      3\u001b[0m \u001b[0mloss\u001b[0m \u001b[0;34m=\u001b[0m \u001b[0msimple_model_history\u001b[0m\u001b[0;34m.\u001b[0m\u001b[0mhistory\u001b[0m\u001b[0;34m[\u001b[0m\u001b[0;34m'loss'\u001b[0m\u001b[0;34m]\u001b[0m\u001b[0;34m\u001b[0m\u001b[0;34m\u001b[0m\u001b[0m\n\u001b[1;32m      4\u001b[0m \u001b[0maccuracy\u001b[0m \u001b[0;34m=\u001b[0m \u001b[0msimple_model_history\u001b[0m\u001b[0;34m.\u001b[0m\u001b[0mhistory\u001b[0m\u001b[0;34m[\u001b[0m\u001b[0;34m'accuracy'\u001b[0m\u001b[0;34m]\u001b[0m\u001b[0;34m\u001b[0m\u001b[0;34m\u001b[0m\u001b[0m\n\u001b[0;32m----> 5\u001b[0;31m \u001b[0mprecision\u001b[0m \u001b[0;34m=\u001b[0m \u001b[0msimple_model_history\u001b[0m\u001b[0;34m.\u001b[0m\u001b[0mhistory\u001b[0m\u001b[0;34m[\u001b[0m\u001b[0;34m'precision'\u001b[0m\u001b[0;34m]\u001b[0m\u001b[0;34m\u001b[0m\u001b[0;34m\u001b[0m\u001b[0m\n\u001b[0m\u001b[1;32m      6\u001b[0m \u001b[0mrecall\u001b[0m \u001b[0;34m=\u001b[0m \u001b[0msimple_model_history\u001b[0m\u001b[0;34m.\u001b[0m\u001b[0mhistory\u001b[0m\u001b[0;34m[\u001b[0m\u001b[0;34m'recall'\u001b[0m\u001b[0;34m]\u001b[0m\u001b[0;34m\u001b[0m\u001b[0;34m\u001b[0m\u001b[0m\n\u001b[1;32m      7\u001b[0m \u001b[0;34m\u001b[0m\u001b[0m\n",
      "\u001b[0;31mKeyError\u001b[0m: 'precision'"
     ]
    },
    {
     "data": {
      "image/png": "[encoded data removed]",
      "text/plain": [
       "<Figure size 1080x576 with 4 Axes>"
      ]
     },
     "metadata": {
      "needs_background": "light"
     },
     "output_type": "display_data"
    }
   ],
   "source": [
    "\n",
    "fig, ((ax1, ax2), (ax3, ax4)) = plt.subplots(2,2,figsize=(15,8))\n",
    "\n",
    "loss = simple_model_history.history['loss']\n",
    "accuracy = simple_model_history.history['accuracy']\n",
    "precision = simple_model_history.history['precision']\n",
    "recall = simple_model_history.history['recall']\n",
    "\n",
    "validation_loss = simple_model_history.history['val_loss']\n",
    "validation_accuracy = simple_model_history.history['val_accuracy']\n",
    "validation_precision = simple_model_history.history['val_precision']\n",
    "validation_recall = simple_model_history.history['val_recall']\n",
    "\n",
    "sns.lineplot(simple_model_history.epoch, simple_model_history.history['loss'], y=loss, ax=ax1, label='loss')\n",
    "sns.lineplot(simple_model_history.epoch, simple_model_history.history['val_loss'], y=loss, ax=ax1, label='val_loss')\n",
    "\n",
    "\n",
    "sns.lineplot(simple_model_history.epoch, simple_model_history.history['accuracy'], y=accuracy, ax=ax2, label='accuracy')\n",
    "sns.lineplot(simple_model_history.epoch, simple_model_history.history['val_accuracy'], y=accuracy, ax=ax2, label='val_accuracy')\n",
    "\n",
    "\n",
    "sns.lineplot(simple_model_history.epoch, simple_model_history.history['precision'], y=precision, ax=ax3, label='precision')\n",
    "sns.lineplot(simple_model_history.epoch, simple_model_history.history['val_precision'], y=precision, ax=ax3, label='val_precision')\n",
    "\n",
    "\n",
    "sns.lineplot(simple_model_history.epoch, simple_model_history.history['recall'], y=recall, ax=ax4, label='recall')\n",
    "sns.lineplot(simple_model_history.epoch, simple_model_history.history['val_recall'], y=recall, ax=ax4, label='val_recall')\n",
    "\n"
   ]
  },
  {
   "cell_type": "code",
   "execution_count": null,
   "metadata": {},
   "outputs": [],
   "source": []
  },
  {
   "cell_type": "code",
   "execution_count": null,
   "metadata": {},
   "outputs": [],
   "source": []
  },
  {
   "cell_type": "markdown",
   "metadata": {},
   "source": [
    "### CNN Model 1\n",
    "Our basic CNN model"
   ]
  },
  {
   "cell_type": "code",
   "execution_count": 92,
   "metadata": {},
   "outputs": [],
   "source": [
    "train_data, train_labels = next (train_generator)\n",
    "test_data, test_labels = next (test_generator)\n",
    "val_data, val_labels = next (validation_generator)"
   ]
  },
  {
   "cell_type": "code",
   "execution_count": 94,
   "metadata": {},
   "outputs": [
    {
     "name": "stdout",
     "output_type": "stream",
     "text": [
      "Model: \"sequential_16\"\n",
      "_________________________________________________________________\n",
      " Layer (type)                Output Shape              Param #   \n",
      "=================================================================\n",
      " conv2d_30 (Conv2D)          (None, 147, 147, 64)      1088      \n",
      "                                                                 \n",
      " max_pooling2d_30 (MaxPoolin  (None, 73, 73, 64)       0         \n",
      " g2D)                                                            \n",
      "                                                                 \n",
      " flatten_14 (Flatten)        (None, 341056)            0         \n",
      "                                                                 \n",
      " dense_30 (Dense)            (None, 16)                5456912   \n",
      "                                                                 \n",
      " dense_31 (Dense)            (None, 1)                 17        \n",
      "                                                                 \n",
      "=================================================================\n",
      "Total params: 5,458,017\n",
      "Trainable params: 5,458,017\n",
      "Non-trainable params: 0\n",
      "_________________________________________________________________\n"
     ]
    }
   ],
   "source": [
    "cnn1_model = models.Sequential()\n",
    "cnn1_model.add(layers.Conv2D(64, (4, 4), activation='relu',\n",
    "                    input_shape=(150, 150, 1)))\n",
    "cnn1_model.add(layers.MaxPooling2D((2, 2)))\n",
    "cnn1_model.add(layers.Flatten())\n",
    "cnn1_model.add(layers.Dense(16, activation='relu'))\n",
    "cnn1_model.add(layers.Dense(1, activation='sigmoid'))\n",
    "\n",
    "cnn1_model.compile(optimizer=\"adam\",\n",
    "                        loss='binary_crossentropy',\n",
    "                        metrics=['accuracy', metrics.Precision(), metrics.Recall()])\n",
    "\n",
    "cnn1_model.summary()"
   ]
  },
  {
   "cell_type": "code",
   "execution_count": 95,
   "metadata": {},
   "outputs": [
    {
     "name": "stdout",
     "output_type": "stream",
     "text": [
      "Epoch 1/10\n",
      "125/125 [==============================] - 125s 963ms/step - loss: 0.5152 - accuracy: 0.7659 - precision_15: 0.7876 - recall_15: 0.9301 - val_loss: 0.3016 - val_accuracy: 0.9188 - val_precision_15: 0.9523 - val_recall_15: 0.9356\n",
      "Epoch 2/10\n",
      "125/125 [==============================] - 119s 954ms/step - loss: 0.2884 - accuracy: 0.9223 - precision_15: 0.9272 - recall_15: 0.9696 - val_loss: 0.2679 - val_accuracy: 0.9466 - val_precision_15: 0.9717 - val_recall_15: 0.9546\n",
      "Epoch 3/10\n",
      "125/125 [==============================] - 117s 938ms/step - loss: 0.2498 - accuracy: 0.9421 - precision_15: 0.9468 - recall_15: 0.9755 - val_loss: 0.2513 - val_accuracy: 0.9391 - val_precision_15: 0.9728 - val_recall_15: 0.9429\n",
      "Epoch 4/10\n",
      "125/125 [==============================] - 121s 966ms/step - loss: 0.2285 - accuracy: 0.9506 - precision_15: 0.9576 - recall_15: 0.9755 - val_loss: 0.2189 - val_accuracy: 0.9551 - val_precision_15: 0.9638 - val_recall_15: 0.9751\n",
      "Epoch 5/10\n",
      "125/125 [==============================] - 116s 928ms/step - loss: 0.2192 - accuracy: 0.9458 - precision_15: 0.9557 - recall_15: 0.9707 - val_loss: 0.2111 - val_accuracy: 0.9487 - val_precision_15: 0.9608 - val_recall_15: 0.9693\n",
      "Epoch 6/10\n",
      "125/125 [==============================] - 125s 1s/step - loss: 0.1932 - accuracy: 0.9597 - precision_15: 0.9684 - recall_15: 0.9766 - val_loss: 0.1992 - val_accuracy: 0.9562 - val_precision_15: 0.9721 - val_recall_15: 0.9678\n",
      "Epoch 7/10\n",
      "125/125 [==============================] - 138s 1s/step - loss: 0.1768 - accuracy: 0.9634 - precision_15: 0.9730 - recall_15: 0.9770 - val_loss: 0.2294 - val_accuracy: 0.9306 - val_precision_15: 0.9187 - val_recall_15: 0.9927\n",
      "Epoch 8/10\n",
      "125/125 [==============================] - 131s 1s/step - loss: 0.1717 - accuracy: 0.9648 - precision_15: 0.9738 - recall_15: 0.9781 - val_loss: 0.2064 - val_accuracy: 0.9444 - val_precision_15: 0.9413 - val_recall_15: 0.9854\n",
      "Epoch 9/10\n",
      "125/125 [==============================] - 132s 1s/step - loss: 0.1521 - accuracy: 0.9733 - precision_15: 0.9807 - recall_15: 0.9828 - val_loss: 0.1906 - val_accuracy: 0.9509 - val_precision_15: 0.9544 - val_recall_15: 0.9795\n",
      "Epoch 10/10\n",
      "125/125 [==============================] - 136s 1s/step - loss: 0.1367 - accuracy: 0.9773 - precision_15: 0.9853 - recall_15: 0.9835 - val_loss: 0.1862 - val_accuracy: 0.9509 - val_precision_15: 0.9570 - val_recall_15: 0.9766\n"
     ]
    }
   ],
   "source": [
    "cnn1_history = cnn1_model.fit(train_data,\n",
    "               train_labels,\n",
    "               batch_size=30,\n",
    "               epochs=10,\n",
    "               validation_data=(val_data, val_labels))"
   ]
  },
  {
   "cell_type": "code",
   "execution_count": 139,
   "metadata": {},
   "outputs": [
    {
     "name": "stderr",
     "output_type": "stream",
     "text": [
      "WARNING:absl:Found untraced functions such as _jit_compiled_convolution_op while saving (showing 1 of 1). These functions will not be directly callable after loading.\n"
     ]
    },
    {
     "name": "stdout",
     "output_type": "stream",
     "text": [
      "INFO:tensorflow:Assets written to: models/cnn1/assets\n"
     ]
    },
    {
     "name": "stderr",
     "output_type": "stream",
     "text": [
      "INFO:tensorflow:Assets written to: models/cnn1/assets\n"
     ]
    }
   ],
   "source": [
    "cnn1_model.save('models/cnn1')"
   ]
  },
  {
   "cell_type": "code",
   "execution_count": 143,
   "metadata": {},
   "outputs": [
    {
     "data": {
      "image/png": "[encoded data removed]",
      "text/plain": [
       "<Figure size 1080x576 with 4 Axes>"
      ]
     },
     "metadata": {
      "needs_background": "light"
     },
     "output_type": "display_data"
    }
   ],
   "source": [
    "fig, ((ax1, ax2), (ax3, ax4)) = plt.subplots(2,2,figsize=(15,8))\n",
    "\n",
    "sns.lineplot(cnn1_history.epoch, cnn1_history.history['loss'], y=loss, ax=ax1, label='loss')\n",
    "sns.lineplot(cnn1_history.epoch, cnn1_history.history['val_loss'], y=loss, ax=ax1, label='val_loss')\n",
    "\n",
    "sns.lineplot(cnn1_history.epoch, cnn1_history.history['accuracy'], y=accuracy, ax=ax2, label='accuracy')\n",
    "sns.lineplot(cnn1_history.epoch, cnn1_history.history['val_accuracy'], y=accuracy, ax=ax2, label='val_accuracy')\n",
    "\n",
    "sns.lineplot(cnn1_history.epoch, cnn1_history.history['precision'], y=precision, ax=ax3, label='precision')\n",
    "sns.lineplot(cnn1_history.epoch, cnn1_history.history['val_precision'], y=precision, ax=ax3, label='val_precision')\n",
    "\n",
    "sns.lineplot(cnn1_history.epoch, cnn1_history.history['recall'], y=recall, ax=ax4, label='recall')\n",
    "sns.lineplot(cnn1_history.epoch, cnn1_history.history['val_recall'], y=recall, ax=ax4, label='val_recall');\n"
   ]
  },
  {
   "cell_type": "code",
   "execution_count": 201,
   "metadata": {},
   "outputs": [
    {
     "name": "stdout",
     "output_type": "stream",
     "text": [
      "1/1 [==============================] - 25s 25s/step - loss: 0.1862 - accuracy: 0.9509 - precision_15: 0.9570 - recall_15: 0.9766\n"
     ]
    }
   ],
   "source": [
    "results = cnn1_model.evaluate(validation_generator)"
   ]
  },
  {
   "cell_type": "code",
   "execution_count": 211,
   "metadata": {},
   "outputs": [
    {
     "name": "stdout",
     "output_type": "stream",
     "text": [
      "Model loss: 0.18623757362365723\n",
      "Model accuracy: 0.9508547186851501\n",
      "Model precision: 0.9569584131240845\n",
      "Model recall: 0.9765739440917969\n"
     ]
    }
   ],
   "source": [
    "print(f\"Model loss: {results[0]}\")\n",
    "print(f\"Model accuracy: {results[1]}\")\n",
    "print(f\"Model precision: {results[2]}\")\n",
    "print(f\"Model recall: {results[3]}\")"
   ]
  },
  {
   "cell_type": "code",
   "execution_count": 197,
   "metadata": {},
   "outputs": [
    {
     "data": {
      "text/plain": [
       "0.9508547186851501"
      ]
     },
     "execution_count": 197,
     "metadata": {},
     "output_type": "execute_result"
    }
   ],
   "source": [
    "results_display[1]"
   ]
  },
  {
   "cell_type": "code",
   "execution_count": 202,
   "metadata": {},
   "outputs": [
    {
     "data": {
      "text/plain": [
       "0.18623757362365723"
      ]
     },
     "execution_count": 202,
     "metadata": {},
     "output_type": "execute_result"
    }
   ],
   "source": [
    "results[0]"
   ]
  },
  {
   "cell_type": "code",
   "execution_count": 199,
   "metadata": {},
   "outputs": [
    {
     "data": {
      "text/plain": [
       "0.9569584131240845"
      ]
     },
     "execution_count": 199,
     "metadata": {},
     "output_type": "execute_result"
    }
   ],
   "source": [
    "results_display[2]"
   ]
  },
  {
   "cell_type": "code",
   "execution_count": 200,
   "metadata": {},
   "outputs": [
    {
     "data": {
      "text/plain": [
       "0.9765739440917969"
      ]
     },
     "execution_count": 200,
     "metadata": {},
     "output_type": "execute_result"
    }
   ],
   "source": [
    "results_display[3]"
   ]
  },
  {
   "cell_type": "code",
   "execution_count": 145,
   "metadata": {
    "scrolled": true
   },
   "outputs": [],
   "source": [
    "#CONFUSION MATRIX"
   ]
  },
  {
   "cell_type": "markdown",
   "metadata": {},
   "source": [
    "## CNN Model 2\n",
    "description"
   ]
  },
  {
   "cell_type": "code",
   "execution_count": 37,
   "metadata": {},
   "outputs": [
    {
     "name": "stdout",
     "output_type": "stream",
     "text": [
      "Model: \"sequential_3\"\n",
      "_________________________________________________________________\n",
      " Layer (type)                Output Shape              Param #   \n",
      "=================================================================\n",
      " conv2d_3 (Conv2D)           (None, 148, 148, 64)      640       \n",
      "                                                                 \n",
      " max_pooling2d_3 (MaxPooling  (None, 74, 74, 64)       0         \n",
      " 2D)                                                             \n",
      "                                                                 \n",
      " conv2d_4 (Conv2D)           (None, 72, 72, 32)        18464     \n",
      "                                                                 \n",
      " max_pooling2d_4 (MaxPooling  (None, 36, 36, 32)       0         \n",
      " 2D)                                                             \n",
      "                                                                 \n",
      " flatten_2 (Flatten)         (None, 41472)             0         \n",
      "                                                                 \n",
      " dense_6 (Dense)             (None, 16)                663568    \n",
      "                                                                 \n",
      " dense_7 (Dense)             (None, 1)                 17        \n",
      "                                                                 \n",
      "=================================================================\n",
      "Total params: 682,689\n",
      "Trainable params: 682,689\n",
      "Non-trainable params: 0\n",
      "_________________________________________________________________\n"
     ]
    }
   ],
   "source": [
    "cnn2_model = models.Sequential()\n",
    "cnn2_model.add(layers.Conv2D(64, (3, 3), activation='relu', \n",
    "                            input_shape=(150,150,1)))\n",
    "cnn2_model.add(layers.MaxPooling2D((2,2)))\n",
    "cnn2_model.add(layers.Conv2D(32, (3,3), activation='relu'))       \n",
    "cnn2_model.add(layers.MaxPooling2D((2,2)))\n",
    "cnn2_model.add(layers.Flatten())\n",
    "cnn2_model.add(Dense(16, activation='relu'))\n",
    "cnn2_model.add(Dense(1, activation='sigmoid')) \n",
    "\n",
    "cnn2_model.compile(optimizer=\"adam\",\n",
    "                        loss='binary_crossentropy',\n",
    "                        metrics=['accuracy', metrics.Precision(), metrics.Recall()])\n",
    "\n",
    "cnn2_model.summary()"
   ]
  },
  {
   "cell_type": "code",
   "execution_count": 38,
   "metadata": {},
   "outputs": [
    {
     "name": "stdout",
     "output_type": "stream",
     "text": [
      "Epoch 1/10\n",
      "75/75 [==============================] - 149s 2s/step - loss: 0.4024 - accuracy: 0.8110 - precision_3: 0.7990 - recall_3: 0.9901 - val_loss: 0.2805 - val_accuracy: 0.8921 - val_precision_3: 0.8789 - val_recall_3: 0.9883\n",
      "Epoch 2/10\n",
      "75/75 [==============================] - 132s 2s/step - loss: 0.2851 - accuracy: 0.9183 - precision_3: 0.9178 - recall_3: 0.9755 - val_loss: 0.2596 - val_accuracy: 0.9135 - val_precision_3: 0.9057 - val_recall_3: 0.9839\n",
      "Epoch 3/10\n",
      "75/75 [==============================] - 132s 2s/step - loss: 0.2569 - accuracy: 0.9341 - precision_3: 0.9365 - recall_3: 0.9759 - val_loss: 0.2489 - val_accuracy: 0.9455 - val_precision_3: 0.9647 - val_recall_3: 0.9605\n",
      "Epoch 4/10\n",
      "75/75 [==============================] - 134s 2s/step - loss: 0.2447 - accuracy: 0.9440 - precision_3: 0.9485 - recall_3: 0.9762 - val_loss: 0.2282 - val_accuracy: 0.9455 - val_precision_3: 0.9426 - val_recall_3: 0.9854\n",
      "Epoch 5/10\n",
      "75/75 [==============================] - 129s 2s/step - loss: 0.2255 - accuracy: 0.9490 - precision_3: 0.9556 - recall_3: 0.9755 - val_loss: 0.2155 - val_accuracy: 0.9530 - val_precision_3: 0.9545 - val_recall_3: 0.9824\n",
      "Epoch 6/10\n",
      "75/75 [==============================] - 131s 2s/step - loss: 0.2101 - accuracy: 0.9549 - precision_3: 0.9589 - recall_3: 0.9802 - val_loss: 0.2045 - val_accuracy: 0.9562 - val_precision_3: 0.9560 - val_recall_3: 0.9854\n",
      "Epoch 7/10\n",
      "75/75 [==============================] - 130s 2s/step - loss: 0.2042 - accuracy: 0.9525 - precision_3: 0.9568 - recall_3: 0.9792 - val_loss: 0.2037 - val_accuracy: 0.9605 - val_precision_3: 0.9614 - val_recall_3: 0.9854\n",
      "Epoch 8/10\n",
      "75/75 [==============================] - 127s 2s/step - loss: 0.1933 - accuracy: 0.9610 - precision_3: 0.9685 - recall_3: 0.9784 - val_loss: 0.1940 - val_accuracy: 0.9562 - val_precision_3: 0.9693 - val_recall_3: 0.9707\n",
      "Epoch 9/10\n",
      "75/75 [==============================] - 130s 2s/step - loss: 0.1814 - accuracy: 0.9645 - precision_3: 0.9707 - recall_3: 0.9810 - val_loss: 0.2170 - val_accuracy: 0.9274 - val_precision_3: 0.9150 - val_recall_3: 0.9927\n",
      "Epoch 10/10\n",
      "75/75 [==============================] - 165s 2s/step - loss: 0.1768 - accuracy: 0.9605 - precision_3: 0.9661 - recall_3: 0.9802 - val_loss: 0.1876 - val_accuracy: 0.9594 - val_precision_3: 0.9627 - val_recall_3: 0.9824\n"
     ]
    }
   ],
   "source": [
    "cnn2_history = cnn2_model.fit(train_data,\n",
    "               train_labels,\n",
    "               batch_size=50,\n",
    "               epochs=10,\n",
    "               validation_data=(val_data, val_labels))"
   ]
  },
  {
   "cell_type": "code",
   "execution_count": 146,
   "metadata": {},
   "outputs": [
    {
     "name": "stderr",
     "output_type": "stream",
     "text": [
      "WARNING:absl:Found untraced functions such as _jit_compiled_convolution_op, _jit_compiled_convolution_op while saving (showing 2 of 2). These functions will not be directly callable after loading.\n"
     ]
    },
    {
     "name": "stdout",
     "output_type": "stream",
     "text": [
      "INFO:tensorflow:Assets written to: models/cnn2/assets\n"
     ]
    },
    {
     "name": "stderr",
     "output_type": "stream",
     "text": [
      "INFO:tensorflow:Assets written to: models/cnn2/assets\n"
     ]
    }
   ],
   "source": [
    "cnn2_model.save('models/cnn2')"
   ]
  },
  {
   "cell_type": "code",
   "execution_count": null,
   "metadata": {},
   "outputs": [],
   "source": [
    "fig, ((ax1, ax2), (ax3, ax4)) = plt.subplots(2,2,figsize=(15,8))\n",
    "\n",
    "sns.lineplot(cnn2_history.epoch, cnn2_history.history['loss'], y=loss, ax=ax1, label='loss')\n",
    "sns.lineplot(cnn2_history.epoch, cnn2_history.history['val_loss'], y=loss, ax=ax1, label='val_loss')\n",
    "\n",
    "sns.lineplot(cnn2_history.epoch, cnn2_history.history['accuracy'], y=accuracy, ax=ax2, label='accuracy')\n",
    "sns.lineplot(cnn2_history.epoch, cnn2_history.history['val_accuracy'], y=accuracy, ax=ax2, label='val_accuracy')\n",
    "\n",
    "sns.lineplot(cnn2_history.epoch, cnn2_history.history['precision'], y=precision, ax=ax3, label='precision')\n",
    "sns.lineplot(cnn2_history.epoch, cnn2_history.history['val_precision'], y=precision, ax=ax3, label='val_precision')\n",
    "\n",
    "sns.lineplot(cnn2_history.epoch, cnn2_history.history['recall'], y=recall, ax=ax4, label='recall')\n",
    "sns.lineplot(cnn2_history.epoch, cnn2_history.history['val_recall'], y=recall, ax=ax4, label='val_recall');"
   ]
  },
  {
   "cell_type": "code",
   "execution_count": 151,
   "metadata": {},
   "outputs": [
    {
     "name": "stdout",
     "output_type": "stream",
     "text": [
      "1/1 [==============================] - 34s 34s/step - loss: 0.1876 - accuracy: 0.9594 - precision_3: 0.9627 - recall_3: 0.9824\n"
     ]
    },
    {
     "data": {
      "text/plain": [
       "[0.18755219876766205,\n",
       " 0.9594017267227173,\n",
       " 0.9626972675323486,\n",
       " 0.9824304580688477]"
      ]
     },
     "execution_count": 151,
     "metadata": {},
     "output_type": "execute_result"
    }
   ],
   "source": [
    "cnn2_model.evaluate(validation_generator)"
   ]
  },
  {
   "cell_type": "code",
   "execution_count": null,
   "metadata": {},
   "outputs": [],
   "source": [
    "CONFUSION MATRIX"
   ]
  },
  {
   "cell_type": "markdown",
   "metadata": {},
   "source": [
    "### CNN Model 3"
   ]
  },
  {
   "cell_type": "code",
   "execution_count": 41,
   "metadata": {},
   "outputs": [
    {
     "name": "stdout",
     "output_type": "stream",
     "text": [
      "Model: \"sequential_4\"\n",
      "_________________________________________________________________\n",
      " Layer (type)                Output Shape              Param #   \n",
      "=================================================================\n",
      " conv2d_5 (Conv2D)           (None, 147, 147, 64)      1088      \n",
      "                                                                 \n",
      " max_pooling2d_5 (MaxPooling  (None, 73, 73, 64)       0         \n",
      " 2D)                                                             \n",
      "                                                                 \n",
      " conv2d_6 (Conv2D)           (None, 71, 71, 32)        18464     \n",
      "                                                                 \n",
      " max_pooling2d_6 (MaxPooling  (None, 35, 35, 32)       0         \n",
      " 2D)                                                             \n",
      "                                                                 \n",
      " flatten_3 (Flatten)         (None, 39200)             0         \n",
      "                                                                 \n",
      " dense_8 (Dense)             (None, 16)                627216    \n",
      "                                                                 \n",
      " dense_9 (Dense)             (None, 1)                 17        \n",
      "                                                                 \n",
      "=================================================================\n",
      "Total params: 646,785\n",
      "Trainable params: 646,785\n",
      "Non-trainable params: 0\n",
      "_________________________________________________________________\n"
     ]
    }
   ],
   "source": [
    "cnn3_model = models.Sequential()\n",
    "cnn3_model.add(layers.Conv2D(64, (4, 4), activation='relu',\n",
    "                      input_shape=(150, 150, 1)))\n",
    "cnn3_model.add(layers.MaxPooling2D((2, 2)))\n",
    "cnn3_model.add(layers.Conv2D(32, (3, 3), activation='relu'))\n",
    "cnn3_model.add(layers.MaxPooling2D((2,2)))\n",
    "cnn3_model.add(layers.Flatten())\n",
    "cnn3_model.add(layers.Dense(16, activation='relu'))\n",
    "cnn3_model.add(layers.Dense(1, activation='sigmoid'))\n",
    "\n",
    "cnn3_model.compile(optimizer=\"adam\",\n",
    "                          loss='binary_crossentropy',\n",
    "                          metrics=['accuracy', metrics.Precision(), metrics.Recall()])\n",
    "\n",
    "cnn3_model.summary()"
   ]
  },
  {
   "cell_type": "code",
   "execution_count": 42,
   "metadata": {},
   "outputs": [
    {
     "name": "stdout",
     "output_type": "stream",
     "text": [
      "Epoch 1/10\n",
      "118/118 [==============================] - 178s 1s/step - loss: 0.3261 - accuracy: 0.8564 - precision_4: 0.8641 - recall_4: 0.9532 - val_loss: 0.1803 - val_accuracy: 0.9241 - val_precision_4: 0.9665 - val_recall_4: 0.9283\n",
      "Epoch 2/10\n",
      "118/118 [==============================] - 165s 1s/step - loss: 0.1672 - accuracy: 0.9381 - precision_4: 0.9497 - recall_4: 0.9663 - val_loss: 0.1495 - val_accuracy: 0.9370 - val_precision_4: 0.9298 - val_recall_4: 0.9883\n",
      "Epoch 3/10\n",
      "118/118 [==============================] - 175s 1s/step - loss: 0.1488 - accuracy: 0.9466 - precision_4: 0.9591 - recall_4: 0.9682 - val_loss: 0.1588 - val_accuracy: 0.9359 - val_precision_4: 0.9860 - val_recall_4: 0.9253\n",
      "Epoch 4/10\n",
      "118/118 [==============================] - 189s 2s/step - loss: 0.1365 - accuracy: 0.9456 - precision_4: 0.9600 - recall_4: 0.9656 - val_loss: 0.1297 - val_accuracy: 0.9562 - val_precision_4: 0.9547 - val_recall_4: 0.9868\n",
      "Epoch 5/10\n",
      "118/118 [==============================] - 191s 2s/step - loss: 0.1327 - accuracy: 0.9512 - precision_4: 0.9640 - recall_4: 0.9693 - val_loss: 0.1219 - val_accuracy: 0.9519 - val_precision_4: 0.9747 - val_recall_4: 0.9590\n",
      "Epoch 6/10\n",
      "118/118 [==============================] - 242s 2s/step - loss: 0.1075 - accuracy: 0.9602 - precision_4: 0.9709 - recall_4: 0.9748 - val_loss: 0.1143 - val_accuracy: 0.9509 - val_precision_4: 0.9747 - val_recall_4: 0.9575\n",
      "Epoch 7/10\n",
      "118/118 [==============================] - 196s 2s/step - loss: 0.0963 - accuracy: 0.9642 - precision_4: 0.9734 - recall_4: 0.9777 - val_loss: 0.1307 - val_accuracy: 0.9444 - val_precision_4: 0.9817 - val_recall_4: 0.9414\n",
      "Epoch 8/10\n",
      "118/118 [==============================] - 164s 1s/step - loss: 0.0793 - accuracy: 0.9688 - precision_4: 0.9760 - recall_4: 0.9813 - val_loss: 0.1154 - val_accuracy: 0.9498 - val_precision_4: 0.9746 - val_recall_4: 0.9561\n",
      "Epoch 9/10\n",
      "118/118 [==============================] - 173s 1s/step - loss: 0.0761 - accuracy: 0.9736 - precision_4: 0.9824 - recall_4: 0.9813 - val_loss: 0.1400 - val_accuracy: 0.9423 - val_precision_4: 0.9338 - val_recall_4: 0.9912\n",
      "Epoch 10/10\n",
      "118/118 [==============================] - 164s 1s/step - loss: 0.0719 - accuracy: 0.9746 - precision_4: 0.9786 - recall_4: 0.9868 - val_loss: 0.3210 - val_accuracy: 0.8803 - val_precision_4: 0.9965 - val_recall_4: 0.8389\n"
     ]
    }
   ],
   "source": [
    "cnn3_history = cnn3_model.fit(train_data,\n",
    "               train_labels,\n",
    "               batch_size=32,\n",
    "               epochs=10,\n",
    "               validation_data=(val_data, val_labels))"
   ]
  },
  {
   "cell_type": "code",
   "execution_count": 147,
   "metadata": {},
   "outputs": [
    {
     "name": "stderr",
     "output_type": "stream",
     "text": [
      "WARNING:absl:Found untraced functions such as _jit_compiled_convolution_op, _jit_compiled_convolution_op while saving (showing 2 of 2). These functions will not be directly callable after loading.\n"
     ]
    },
    {
     "name": "stdout",
     "output_type": "stream",
     "text": [
      "INFO:tensorflow:Assets written to: models/cnn3/assets\n"
     ]
    },
    {
     "name": "stderr",
     "output_type": "stream",
     "text": [
      "INFO:tensorflow:Assets written to: models/cnn3/assets\n"
     ]
    }
   ],
   "source": [
    "cnn3_model.save('models/cnn3')"
   ]
  },
  {
   "cell_type": "code",
   "execution_count": null,
   "metadata": {},
   "outputs": [],
   "source": [
    "fig, ((ax1, ax2), (ax3, ax4)) = plt.subplots(2,2,figsize=(15,8))\n",
    "\n",
    "sns.lineplot(cnn3_history.epoch, cnn3_history.history['loss'], y=loss, ax=ax1, label='loss')\n",
    "sns.lineplot(cnn3_history.epoch, cnn3_history.history['val_loss'], y=loss, ax=ax1, label='val_loss')\n",
    "\n",
    "sns.lineplot(cnn3_history.epoch, cnn3_history.history['accuracy'], y=accuracy, ax=ax2, label='accuracy')\n",
    "sns.lineplot(cnn3_history.epoch, cnn3_history.history['val_accuracy'], y=accuracy, ax=ax2, label='val_accuracy')\n",
    "\n",
    "sns.lineplot(cnn3_history.epoch, cnn3_history.history['precision'], y=precision, ax=ax3, label='precision')\n",
    "sns.lineplot(cnn3_history.epoch, cnn3_history.history['val_precision'], y=precision, ax=ax3, label='val_precision')\n",
    "\n",
    "sns.lineplot(cnn3_history.epoch, cnn3_history.history['recall'], y=recall, ax=ax4, label='recall')\n",
    "sns.lineplot(cnn3_history.epoch, cnn3_history.history['val_recall'], y=recall, ax=ax4, label='val_recall');"
   ]
  },
  {
   "cell_type": "code",
   "execution_count": 152,
   "metadata": {},
   "outputs": [
    {
     "name": "stdout",
     "output_type": "stream",
     "text": [
      "1/1 [==============================] - 25s 25s/step - loss: 0.1227 - accuracy: 0.9509 - precision_4: 0.9636 - recall_4: 0.9693\n"
     ]
    },
    {
     "data": {
      "text/plain": [
       "[0.12268752604722977,\n",
       " 0.9508547186851501,\n",
       " 0.9636098742485046,\n",
       " 0.9692533016204834]"
      ]
     },
     "execution_count": 152,
     "metadata": {},
     "output_type": "execute_result"
    }
   ],
   "source": [
    "cnn3_model.evaluate(validation_generator)"
   ]
  },
  {
   "cell_type": "markdown",
   "metadata": {},
   "source": [
    "### CNN Model 4"
   ]
  },
  {
   "cell_type": "code",
   "execution_count": 47,
   "metadata": {},
   "outputs": [
    {
     "name": "stdout",
     "output_type": "stream",
     "text": [
      "Model: \"sequential_6\"\n",
      "_________________________________________________________________\n",
      " Layer (type)                Output Shape              Param #   \n",
      "=================================================================\n",
      " conv2d_7 (Conv2D)           (None, 147, 147, 64)      1088      \n",
      "                                                                 \n",
      " max_pooling2d_7 (MaxPooling  (None, 73, 73, 64)       0         \n",
      " 2D)                                                             \n",
      "                                                                 \n",
      " conv2d_8 (Conv2D)           (None, 71, 71, 32)        18464     \n",
      "                                                                 \n",
      " max_pooling2d_8 (MaxPooling  (None, 35, 35, 32)       0         \n",
      " 2D)                                                             \n",
      "                                                                 \n",
      " flatten_4 (Flatten)         (None, 39200)             0         \n",
      "                                                                 \n",
      " dense_10 (Dense)            (None, 16)                627216    \n",
      "                                                                 \n",
      " dense_11 (Dense)            (None, 1)                 17        \n",
      "                                                                 \n",
      "=================================================================\n",
      "Total params: 646,785\n",
      "Trainable params: 646,785\n",
      "Non-trainable params: 0\n",
      "_________________________________________________________________\n"
     ]
    }
   ],
   "source": [
    "cnn4_model = models.Sequential()\n",
    "cnn4_model.add(layers.Conv2D(64, (4, 4), activation='relu',\n",
    "                       input_shape=(150, 150, 1), kernel_regularizer=regularizers.l2(l=0.05)))\n",
    "cnn4_model.add(layers.MaxPooling2D((2, 2)))\n",
    "cnn4_model.add(layers.Conv2D(32, (3, 3), activation='relu', \n",
    "                                     kernel_regularizer=regularizers.l2(l=0.05)))\n",
    "cnn4_model.add(layers.MaxPooling2D((2,2)))\n",
    "cnn4_model.add(layers.Flatten())\n",
    "cnn4_model.add(layers.Dense(16, activation='relu'))\n",
    "cnn4_model.add(layers.Dense(1, activation='sigmoid'))\n",
    "\n",
    "cnn4_model.compile(optimizer=\"adam\",\n",
    "                          loss='binary_crossentropy',\n",
    "                           metrics=['accuracy', metrics.Precision(), metrics.Recall()])\n",
    "\n",
    "cnn4_model.summary()"
   ]
  },
  {
   "cell_type": "code",
   "execution_count": 49,
   "metadata": {},
   "outputs": [
    {
     "name": "stdout",
     "output_type": "stream",
     "text": [
      "Epoch 1/10\n",
      "118/118 [==============================] - 153s 1s/step - loss: 0.9946 - accuracy: 0.7913 - precision_5: 0.7866 - recall_5: 0.9799 - val_loss: 0.4253 - val_accuracy: 0.9049 - val_precision_5: 0.9393 - val_recall_5: 0.9297\n",
      "Epoch 2/10\n",
      "118/118 [==============================] - 142s 1s/step - loss: 0.3640 - accuracy: 0.8887 - precision_5: 0.8790 - recall_5: 0.9828 - val_loss: 0.3378 - val_accuracy: 0.9156 - val_precision_5: 0.9646 - val_recall_5: 0.9180\n",
      "Epoch 3/10\n",
      "118/118 [==============================] - 149s 1s/step - loss: 0.3143 - accuracy: 0.9079 - precision_5: 0.9084 - recall_5: 0.9718 - val_loss: 0.3087 - val_accuracy: 0.9263 - val_precision_5: 0.9515 - val_recall_5: 0.9473\n",
      "Epoch 4/10\n",
      "118/118 [==============================] - 138s 1s/step - loss: 0.3032 - accuracy: 0.9125 - precision_5: 0.9143 - recall_5: 0.9711 - val_loss: 0.2923 - val_accuracy: 0.8878 - val_precision_5: 0.8724 - val_recall_5: 0.9912\n",
      "Epoch 5/10\n",
      "118/118 [==============================] - 149s 1s/step - loss: 0.2846 - accuracy: 0.9186 - precision_5: 0.9233 - recall_5: 0.9689 - val_loss: 0.2930 - val_accuracy: 0.9103 - val_precision_5: 0.9717 - val_recall_5: 0.9034\n",
      "Epoch 6/10\n",
      "118/118 [==============================] - 141s 1s/step - loss: 0.2747 - accuracy: 0.9213 - precision_5: 0.9262 - recall_5: 0.9693 - val_loss: 0.2562 - val_accuracy: 0.9263 - val_precision_5: 0.9194 - val_recall_5: 0.9854\n",
      "Epoch 7/10\n",
      "118/118 [==============================] - 141s 1s/step - loss: 0.2616 - accuracy: 0.9282 - precision_5: 0.9375 - recall_5: 0.9660 - val_loss: 0.2509 - val_accuracy: 0.9316 - val_precision_5: 0.9466 - val_recall_5: 0.9605\n",
      "Epoch 8/10\n",
      "118/118 [==============================] - 137s 1s/step - loss: 0.2483 - accuracy: 0.9354 - precision_5: 0.9434 - recall_5: 0.9696 - val_loss: 0.2354 - val_accuracy: 0.9370 - val_precision_5: 0.9432 - val_recall_5: 0.9722\n",
      "Epoch 9/10\n",
      "118/118 [==============================] - 135s 1s/step - loss: 0.2406 - accuracy: 0.9333 - precision_5: 0.9439 - recall_5: 0.9660 - val_loss: 0.2337 - val_accuracy: 0.9348 - val_precision_5: 0.9331 - val_recall_5: 0.9810\n",
      "Epoch 10/10\n",
      "118/118 [==============================] - 140s 1s/step - loss: 0.2302 - accuracy: 0.9378 - precision_5: 0.9493 - recall_5: 0.9663 - val_loss: 0.2332 - val_accuracy: 0.9380 - val_precision_5: 0.9536 - val_recall_5: 0.9619\n"
     ]
    }
   ],
   "source": [
    "cnn4_history = cnn4_model.fit(train_data,\n",
    "              train_labels,\n",
    "              batch_size=32,\n",
    "              epochs=10,\n",
    "              validation_data=(val_data, val_labels))"
   ]
  },
  {
   "cell_type": "code",
   "execution_count": 148,
   "metadata": {},
   "outputs": [
    {
     "name": "stderr",
     "output_type": "stream",
     "text": [
      "WARNING:absl:Found untraced functions such as _jit_compiled_convolution_op, _jit_compiled_convolution_op while saving (showing 2 of 2). These functions will not be directly callable after loading.\n"
     ]
    },
    {
     "name": "stdout",
     "output_type": "stream",
     "text": [
      "INFO:tensorflow:Assets written to: models/cnn4/assets\n"
     ]
    },
    {
     "name": "stderr",
     "output_type": "stream",
     "text": [
      "INFO:tensorflow:Assets written to: models/cnn4/assets\n"
     ]
    }
   ],
   "source": [
    "cnn4_model.save('models/cnn4')"
   ]
  },
  {
   "cell_type": "code",
   "execution_count": null,
   "metadata": {},
   "outputs": [],
   "source": [
    "fig, ((ax1, ax2), (ax3, ax4)) = plt.subplots(2,2,figsize=(15,8))\n",
    "\n",
    "sns.lineplot(cnn4_history.epoch, cnn4_history.history['loss'], y=loss, ax=ax1, label='loss')\n",
    "sns.lineplot(cnn4_history.epoch, cnn4_history.history['val_loss'], y=loss, ax=ax1, label='val_loss')\n",
    "\n",
    "sns.lineplot(cnn4_history.epoch, cnn4_history.history['accuracy'], y=accuracy, ax=ax2, label='accuracy')\n",
    "sns.lineplot(cnn4_history.epoch, cnn4_history.history['val_accuracy'], y=accuracy, ax=ax2, label='val_accuracy')\n",
    "\n",
    "sns.lineplot(cnn4_history.epoch, cnn4_history.history['precision'], y=precision, ax=ax3, label='precision')\n",
    "sns.lineplot(cnn4_history.epoch, cnn4_history.history['val_precision'], y=precision, ax=ax3, label='val_precision')\n",
    "\n",
    "sns.lineplot(cnn4_history.epoch, cnn4_history.history['recall'], y=recall, ax=ax4, label='recall')\n",
    "sns.lineplot(cnn4_history.epoch, cnn4_history.history['val_recall'], y=recall, ax=ax4, label='val_recall');"
   ]
  },
  {
   "cell_type": "code",
   "execution_count": 153,
   "metadata": {},
   "outputs": [
    {
     "name": "stdout",
     "output_type": "stream",
     "text": [
      "WARNING:tensorflow:5 out of the last 327 calls to <function Model.make_test_function.<locals>.test_function at 0x7fc009a53430> triggered tf.function retracing. Tracing is expensive and the excessive number of tracings could be due to (1) creating @tf.function repeatedly in a loop, (2) passing tensors with different shapes, (3) passing Python objects instead of tensors. For (1), please define your @tf.function outside of the loop. For (2), @tf.function has reduce_retracing=True option that can avoid unnecessary retracing. For (3), please refer to https://www.tensorflow.org/guide/function#controlling_retracing and https://www.tensorflow.org/api_docs/python/tf/function for  more details.\n"
     ]
    },
    {
     "name": "stderr",
     "output_type": "stream",
     "text": [
      "WARNING:tensorflow:5 out of the last 327 calls to <function Model.make_test_function.<locals>.test_function at 0x7fc009a53430> triggered tf.function retracing. Tracing is expensive and the excessive number of tracings could be due to (1) creating @tf.function repeatedly in a loop, (2) passing tensors with different shapes, (3) passing Python objects instead of tensors. For (1), please define your @tf.function outside of the loop. For (2), @tf.function has reduce_retracing=True option that can avoid unnecessary retracing. For (3), please refer to https://www.tensorflow.org/guide/function#controlling_retracing and https://www.tensorflow.org/api_docs/python/tf/function for  more details.\n"
     ]
    },
    {
     "name": "stdout",
     "output_type": "stream",
     "text": [
      "1/1 [==============================] - 22s 22s/step - loss: 0.2332 - accuracy: 0.9380 - precision_5: 0.9536 - recall_5: 0.9619\n"
     ]
    },
    {
     "data": {
      "text/plain": [
       "[0.2332402765750885, 0.938034176826477, 0.9535558819770813, 0.9619326591491699]"
      ]
     },
     "execution_count": 153,
     "metadata": {},
     "output_type": "execute_result"
    }
   ],
   "source": [
    "cnn4_model.evaluate(validation_generator)"
   ]
  },
  {
   "cell_type": "code",
   "execution_count": null,
   "metadata": {},
   "outputs": [],
   "source": []
  },
  {
   "cell_type": "markdown",
   "metadata": {},
   "source": [
    "### CNN Model 5"
   ]
  },
  {
   "cell_type": "code",
   "execution_count": 50,
   "metadata": {},
   "outputs": [
    {
     "name": "stdout",
     "output_type": "stream",
     "text": [
      "Model: \"sequential_7\"\n",
      "_________________________________________________________________\n",
      " Layer (type)                Output Shape              Param #   \n",
      "=================================================================\n",
      " conv2d_9 (Conv2D)           (None, 147, 147, 64)      1088      \n",
      "                                                                 \n",
      " max_pooling2d_9 (MaxPooling  (None, 73, 73, 64)       0         \n",
      " 2D)                                                             \n",
      "                                                                 \n",
      " conv2d_10 (Conv2D)          (None, 71, 71, 32)        18464     \n",
      "                                                                 \n",
      " max_pooling2d_10 (MaxPoolin  (None, 35, 35, 32)       0         \n",
      " g2D)                                                            \n",
      "                                                                 \n",
      " flatten_5 (Flatten)         (None, 39200)             0         \n",
      "                                                                 \n",
      " dense_12 (Dense)            (None, 16)                627216    \n",
      "                                                                 \n",
      " dropout (Dropout)           (None, 16)                0         \n",
      "                                                                 \n",
      " dense_13 (Dense)            (None, 1)                 17        \n",
      "                                                                 \n",
      "=================================================================\n",
      "Total params: 646,785\n",
      "Trainable params: 646,785\n",
      "Non-trainable params: 0\n",
      "_________________________________________________________________\n"
     ]
    }
   ],
   "source": [
    "cnn5_model = models.Sequential()\n",
    "cnn5_model.add(layers.Conv2D(64, (4, 4), activation='relu',\n",
    "                       input_shape=(150, 150, 1), kernel_regularizer=regularizers.l2(l=0.05)))\n",
    "cnn5_model.add(layers.MaxPooling2D((2, 2)))\n",
    "cnn5_model.add(layers.Conv2D(32, (3, 3), activation='relu', \n",
    "                                     kernel_regularizer=regularizers.l2(l=0.05)))\n",
    "cnn5_model.add(layers.MaxPooling2D((2,2)))\n",
    "cnn5_model.add(layers.Flatten())\n",
    "cnn5_model.add(layers.Dense(16, activation='relu'))\n",
    "cnn5_model.add(layers.Dropout(0.5))\n",
    "cnn5_model.add(layers.Dense(1, activation='sigmoid'))\n",
    "\n",
    "cnn5_model.compile(optimizer=\"adam\",\n",
    "                          loss='binary_crossentropy',\n",
    "                          metrics=['accuracy', metrics.Precision(), metrics.Recall()])\n",
    "\n",
    "cnn5_model.summary()"
   ]
  },
  {
   "cell_type": "code",
   "execution_count": 51,
   "metadata": {},
   "outputs": [
    {
     "name": "stdout",
     "output_type": "stream",
     "text": [
      "Epoch 1/10\n",
      "118/118 [==============================] - 139s 1s/step - loss: 1.0964 - accuracy: 0.7275 - precision_6: 0.7298 - recall_6: 0.9949 - val_loss: 0.4480 - val_accuracy: 0.7297 - val_precision_6: 0.7297 - val_recall_6: 1.0000\n",
      "Epoch 2/10\n",
      "118/118 [==============================] - 126s 1s/step - loss: 0.4560 - accuracy: 0.7353 - precision_6: 0.7362 - recall_6: 0.9931 - val_loss: 0.3410 - val_accuracy: 0.9017 - val_precision_6: 0.8966 - val_recall_6: 0.9780\n",
      "Epoch 3/10\n",
      "118/118 [==============================] - 139s 1s/step - loss: 0.4072 - accuracy: 0.8164 - precision_6: 0.9056 - recall_6: 0.8354 - val_loss: 0.3398 - val_accuracy: 0.9167 - val_precision_6: 0.9172 - val_recall_6: 0.9736\n",
      "Epoch 4/10\n",
      "118/118 [==============================] - 127s 1s/step - loss: 0.4068 - accuracy: 0.8110 - precision_6: 0.9158 - recall_6: 0.8160 - val_loss: 0.3144 - val_accuracy: 0.8739 - val_precision_6: 0.8545 - val_recall_6: 0.9971\n",
      "Epoch 5/10\n",
      "118/118 [==============================] - 125s 1s/step - loss: 0.3776 - accuracy: 0.8300 - precision_6: 0.9247 - recall_6: 0.8350 - val_loss: 0.3055 - val_accuracy: 0.9135 - val_precision_6: 0.9453 - val_recall_6: 0.9356\n",
      "Epoch 6/10\n",
      "118/118 [==============================] - 129s 1s/step - loss: 0.3753 - accuracy: 0.8343 - precision_6: 0.9332 - recall_6: 0.8325 - val_loss: 0.2902 - val_accuracy: 0.9167 - val_precision_6: 0.9161 - val_recall_6: 0.9751\n",
      "Epoch 7/10\n",
      "118/118 [==============================] - 131s 1s/step - loss: 0.3815 - accuracy: 0.8263 - precision_6: 0.9288 - recall_6: 0.8252 - val_loss: 0.3262 - val_accuracy: 0.9049 - val_precision_6: 0.9393 - val_recall_6: 0.9297\n",
      "Epoch 8/10\n",
      "118/118 [==============================] - 141s 1s/step - loss: 0.3712 - accuracy: 0.8308 - precision_6: 0.9314 - recall_6: 0.8292 - val_loss: 0.2797 - val_accuracy: 0.9263 - val_precision_6: 0.9336 - val_recall_6: 0.9678\n",
      "Epoch 9/10\n",
      "118/118 [==============================] - 134s 1s/step - loss: 0.3720 - accuracy: 0.8337 - precision_6: 0.9356 - recall_6: 0.8292 - val_loss: 0.2781 - val_accuracy: 0.9284 - val_precision_6: 0.9611 - val_recall_6: 0.9400\n",
      "Epoch 10/10\n",
      "118/118 [==============================] - 136s 1s/step - loss: 0.3615 - accuracy: 0.8316 - precision_6: 0.9333 - recall_6: 0.8285 - val_loss: 0.2962 - val_accuracy: 0.9156 - val_precision_6: 0.9590 - val_recall_6: 0.9239\n"
     ]
    }
   ],
   "source": [
    "cnn5_history = cnn5_model.fit(train_data,\n",
    "               train_labels,\n",
    "               batch_size=32,\n",
    "               epochs=10,\n",
    "               validation_data=(val_data, val_labels))"
   ]
  },
  {
   "cell_type": "code",
   "execution_count": 149,
   "metadata": {},
   "outputs": [
    {
     "name": "stderr",
     "output_type": "stream",
     "text": [
      "WARNING:absl:Found untraced functions such as _jit_compiled_convolution_op, _jit_compiled_convolution_op while saving (showing 2 of 2). These functions will not be directly callable after loading.\n"
     ]
    },
    {
     "name": "stdout",
     "output_type": "stream",
     "text": [
      "INFO:tensorflow:Assets written to: models/cnn5/assets\n"
     ]
    },
    {
     "name": "stderr",
     "output_type": "stream",
     "text": [
      "INFO:tensorflow:Assets written to: models/cnn5/assets\n"
     ]
    }
   ],
   "source": [
    "cnn5_model.save('models/cnn5')"
   ]
  },
  {
   "cell_type": "code",
   "execution_count": null,
   "metadata": {},
   "outputs": [],
   "source": [
    "fig, ((ax1, ax2), (ax3, ax4)) = plt.subplots(2,2,figsize=(15,8))\n",
    "\n",
    "sns.lineplot(cnn5_history.epoch, cnn5_history.history['loss'], y=loss, ax=ax1, label='loss')\n",
    "sns.lineplot(cnn5_history.epoch, cnn5_history.history['val_loss'], y=loss, ax=ax1, label='val_loss')\n",
    "\n",
    "sns.lineplot(cnn5_history.epoch, cnn5_history.history['accuracy'], y=accuracy, ax=ax2, label='accuracy')\n",
    "sns.lineplot(cnn5_history.epoch, cnn5_history.history['val_accuracy'], y=accuracy, ax=ax2, label='val_accuracy')\n",
    "\n",
    "sns.lineplot(cnn5_history.epoch, cnn5_history.history['precision'], y=precision, ax=ax3, label='precision')\n",
    "sns.lineplot(cnn5_history.epoch, cnn5_history.history['val_precision'], y=precision, ax=ax3, label='val_precision')\n",
    "\n",
    "sns.lineplot(cnn5_history.epoch, cnn5_history.history['recall'], y=recall, ax=ax4, label='recall')\n",
    "sns.lineplot(cnn5_history.epoch, cnn5_history.history['val_recall'], y=recall, ax=ax4, label='val_recall');"
   ]
  },
  {
   "cell_type": "code",
   "execution_count": 154,
   "metadata": {},
   "outputs": [
    {
     "name": "stdout",
     "output_type": "stream",
     "text": [
      "WARNING:tensorflow:6 out of the last 328 calls to <function Model.make_test_function.<locals>.test_function at 0x7fc00b6f4ca0> triggered tf.function retracing. Tracing is expensive and the excessive number of tracings could be due to (1) creating @tf.function repeatedly in a loop, (2) passing tensors with different shapes, (3) passing Python objects instead of tensors. For (1), please define your @tf.function outside of the loop. For (2), @tf.function has reduce_retracing=True option that can avoid unnecessary retracing. For (3), please refer to https://www.tensorflow.org/guide/function#controlling_retracing and https://www.tensorflow.org/api_docs/python/tf/function for  more details.\n"
     ]
    },
    {
     "name": "stderr",
     "output_type": "stream",
     "text": [
      "WARNING:tensorflow:6 out of the last 328 calls to <function Model.make_test_function.<locals>.test_function at 0x7fc00b6f4ca0> triggered tf.function retracing. Tracing is expensive and the excessive number of tracings could be due to (1) creating @tf.function repeatedly in a loop, (2) passing tensors with different shapes, (3) passing Python objects instead of tensors. For (1), please define your @tf.function outside of the loop. For (2), @tf.function has reduce_retracing=True option that can avoid unnecessary retracing. For (3), please refer to https://www.tensorflow.org/guide/function#controlling_retracing and https://www.tensorflow.org/api_docs/python/tf/function for  more details.\n"
     ]
    },
    {
     "name": "stdout",
     "output_type": "stream",
     "text": [
      "1/1 [==============================] - 22s 22s/step - loss: 0.2962 - accuracy: 0.9156 - precision_6: 0.9590 - recall_6: 0.9239\n"
     ]
    },
    {
     "data": {
      "text/plain": [
       "[0.2961672246456146,\n",
       " 0.9155982732772827,\n",
       " 0.9589665532112122,\n",
       " 0.9238653182983398]"
      ]
     },
     "execution_count": 154,
     "metadata": {},
     "output_type": "execute_result"
    }
   ],
   "source": [
    "cnn5_model.evaluate(validation_generator)"
   ]
  },
  {
   "cell_type": "code",
   "execution_count": null,
   "metadata": {},
   "outputs": [],
   "source": []
  },
  {
   "cell_type": "markdown",
   "metadata": {},
   "source": [
    "### CNN Model 6"
   ]
  },
  {
   "cell_type": "code",
   "execution_count": 52,
   "metadata": {},
   "outputs": [
    {
     "name": "stdout",
     "output_type": "stream",
     "text": [
      "Model: \"sequential_8\"\n",
      "_________________________________________________________________\n",
      " Layer (type)                Output Shape              Param #   \n",
      "=================================================================\n",
      " conv2d_11 (Conv2D)          (None, 147, 147, 64)      1088      \n",
      "                                                                 \n",
      " max_pooling2d_11 (MaxPoolin  (None, 73, 73, 64)       0         \n",
      " g2D)                                                            \n",
      "                                                                 \n",
      " conv2d_12 (Conv2D)          (None, 71, 71, 32)        18464     \n",
      "                                                                 \n",
      " max_pooling2d_12 (MaxPoolin  (None, 35, 35, 32)       0         \n",
      " g2D)                                                            \n",
      "                                                                 \n",
      " flatten_6 (Flatten)         (None, 39200)             0         \n",
      "                                                                 \n",
      " dense_14 (Dense)            (None, 16)                627216    \n",
      "                                                                 \n",
      " dropout_1 (Dropout)         (None, 16)                0         \n",
      "                                                                 \n",
      " dense_15 (Dense)            (None, 1)                 17        \n",
      "                                                                 \n",
      "=================================================================\n",
      "Total params: 646,785\n",
      "Trainable params: 646,785\n",
      "Non-trainable params: 0\n",
      "_________________________________________________________________\n"
     ]
    }
   ],
   "source": [
    "cnn6_model = models.Sequential()\n",
    "cnn6_model.add(layers.Conv2D(64, (4, 4), activation='relu',\n",
    "                       input_shape=(150, 150, 1), kernel_regularizer=regularizers.l2(l=0.05)))\n",
    "cnn6_model.add(layers.MaxPooling2D((2, 2)))\n",
    "cnn6_model.add(layers.Conv2D(32, (3, 3), activation='relu', \n",
    "                                     kernel_regularizer=regularizers.l2(l=0.05)))\n",
    "cnn6_model.add(layers.MaxPooling2D((2,2)))\n",
    "cnn6_model.add(layers.Flatten())\n",
    "cnn6_model.add(layers.Dense(16, activation='relu'))\n",
    "cnn6_model.add(layers.Dropout(0.3))\n",
    "cnn6_model.add(layers.Dense(1, activation='sigmoid'))\n",
    "\n",
    "cnn6_model.compile(optimizer=\"adam\",\n",
    "                          loss='binary_crossentropy',\n",
    "                          metrics=['accuracy', metrics.Precision(), metrics.Recall()])\n",
    "\n",
    "cnn6_model.summary()"
   ]
  },
  {
   "cell_type": "code",
   "execution_count": 53,
   "metadata": {},
   "outputs": [
    {
     "name": "stdout",
     "output_type": "stream",
     "text": [
      "Epoch 1/25\n",
      "118/118 [==============================] - 144s 1s/step - loss: 1.0385 - accuracy: 0.7494 - precision_7: 0.7510 - recall_7: 0.9821 - val_loss: 0.4402 - val_accuracy: 0.8868 - val_precision_7: 0.8842 - val_recall_7: 0.9722\n",
      "Epoch 2/25\n",
      "118/118 [==============================] - 141s 1s/step - loss: 0.4093 - accuracy: 0.8740 - precision_7: 0.8971 - recall_7: 0.9345 - val_loss: 0.3522 - val_accuracy: 0.8568 - val_precision_7: 0.8376 - val_recall_7: 0.9971\n",
      "Epoch 3/25\n",
      "118/118 [==============================] - 138s 1s/step - loss: 0.3654 - accuracy: 0.8879 - precision_7: 0.9132 - recall_7: 0.9353 - val_loss: 0.3393 - val_accuracy: 0.9017 - val_precision_7: 0.9098 - val_recall_7: 0.9605\n",
      "Epoch 4/25\n",
      "118/118 [==============================] - 143s 1s/step - loss: 0.3452 - accuracy: 0.8916 - precision_7: 0.9211 - recall_7: 0.9312 - val_loss: 0.2843 - val_accuracy: 0.9263 - val_precision_7: 0.9449 - val_recall_7: 0.9546\n",
      "Epoch 5/25\n",
      "118/118 [==============================] - 151s 1s/step - loss: 0.3138 - accuracy: 0.8989 - precision_7: 0.9324 - recall_7: 0.9287 - val_loss: 0.2787 - val_accuracy: 0.9092 - val_precision_7: 0.8966 - val_recall_7: 0.9898\n",
      "Epoch 6/25\n",
      "118/118 [==============================] - 149s 1s/step - loss: 0.3144 - accuracy: 0.9010 - precision_7: 0.9310 - recall_7: 0.9334 - val_loss: 0.2684 - val_accuracy: 0.9295 - val_precision_7: 0.9452 - val_recall_7: 0.9590\n",
      "Epoch 7/25\n",
      "118/118 [==============================] - 146s 1s/step - loss: 0.3034 - accuracy: 0.9082 - precision_7: 0.9390 - recall_7: 0.9349 - val_loss: 0.2848 - val_accuracy: 0.9135 - val_precision_7: 0.9216 - val_recall_7: 0.9634\n",
      "Epoch 8/25\n",
      "118/118 [==============================] - 152s 1s/step - loss: 0.3069 - accuracy: 0.9037 - precision_7: 0.9459 - recall_7: 0.9206 - val_loss: 0.2593 - val_accuracy: 0.9338 - val_precision_7: 0.9455 - val_recall_7: 0.9649\n",
      "Epoch 9/25\n",
      "118/118 [==============================] - 160s 1s/step - loss: 0.2991 - accuracy: 0.8994 - precision_7: 0.9406 - recall_7: 0.9203 - val_loss: 0.2472 - val_accuracy: 0.9338 - val_precision_7: 0.9417 - val_recall_7: 0.9693\n",
      "Epoch 10/25\n",
      "118/118 [==============================] - 142s 1s/step - loss: 0.2832 - accuracy: 0.9095 - precision_7: 0.9477 - recall_7: 0.9272 - val_loss: 0.3214 - val_accuracy: 0.8814 - val_precision_7: 0.9799 - val_recall_7: 0.8551\n",
      "Epoch 11/25\n",
      "118/118 [==============================] - 144s 1s/step - loss: 0.2969 - accuracy: 0.8959 - precision_7: 0.9419 - recall_7: 0.9137 - val_loss: 0.2363 - val_accuracy: 0.9338 - val_precision_7: 0.9455 - val_recall_7: 0.9649\n",
      "Epoch 12/25\n",
      "118/118 [==============================] - 141s 1s/step - loss: 0.2857 - accuracy: 0.9090 - precision_7: 0.9463 - recall_7: 0.9279 - val_loss: 0.2387 - val_accuracy: 0.9263 - val_precision_7: 0.9361 - val_recall_7: 0.9649\n",
      "Epoch 13/25\n",
      "118/118 [==============================] - 142s 1s/step - loss: 0.2789 - accuracy: 0.9079 - precision_7: 0.9513 - recall_7: 0.9210 - val_loss: 0.2362 - val_accuracy: 0.9263 - val_precision_7: 0.9488 - val_recall_7: 0.9502\n",
      "Epoch 14/25\n",
      "118/118 [==============================] - 142s 1s/step - loss: 0.2838 - accuracy: 0.9053 - precision_7: 0.9494 - recall_7: 0.9192 - val_loss: 0.2339 - val_accuracy: 0.9327 - val_precision_7: 0.9342 - val_recall_7: 0.9766\n",
      "Epoch 15/25\n",
      "118/118 [==============================] - 149s 1s/step - loss: 0.2790 - accuracy: 0.9087 - precision_7: 0.9520 - recall_7: 0.9214 - val_loss: 0.2455 - val_accuracy: 0.9135 - val_precision_7: 0.9645 - val_recall_7: 0.9151\n",
      "Epoch 16/25\n",
      "118/118 [==============================] - 144s 1s/step - loss: 0.2742 - accuracy: 0.9103 - precision_7: 0.9521 - recall_7: 0.9236 - val_loss: 0.2312 - val_accuracy: 0.9274 - val_precision_7: 0.9624 - val_recall_7: 0.9370\n",
      "Epoch 17/25\n",
      "118/118 [==============================] - 143s 1s/step - loss: 0.2681 - accuracy: 0.9077 - precision_7: 0.9554 - recall_7: 0.9162 - val_loss: 0.2445 - val_accuracy: 0.9252 - val_precision_7: 0.9251 - val_recall_7: 0.9766\n",
      "Epoch 18/25\n",
      "118/118 [==============================] - 143s 1s/step - loss: 0.2568 - accuracy: 0.9101 - precision_7: 0.9541 - recall_7: 0.9210 - val_loss: 0.2203 - val_accuracy: 0.9316 - val_precision_7: 0.9572 - val_recall_7: 0.9488\n",
      "Epoch 19/25\n",
      "118/118 [==============================] - 142s 1s/step - loss: 0.2556 - accuracy: 0.9154 - precision_7: 0.9583 - recall_7: 0.9243 - val_loss: 0.2147 - val_accuracy: 0.9316 - val_precision_7: 0.9585 - val_recall_7: 0.9473\n",
      "Epoch 20/25\n",
      "118/118 [==============================] - 144s 1s/step - loss: 0.2547 - accuracy: 0.9143 - precision_7: 0.9589 - recall_7: 0.9221 - val_loss: 0.2507 - val_accuracy: 0.9113 - val_precision_7: 0.9808 - val_recall_7: 0.8960\n",
      "Epoch 21/25\n",
      "118/118 [==============================] - 140s 1s/step - loss: 0.2595 - accuracy: 0.9133 - precision_7: 0.9554 - recall_7: 0.9243 - val_loss: 0.2093 - val_accuracy: 0.9295 - val_precision_7: 0.9543 - val_recall_7: 0.9488\n",
      "Epoch 22/25\n",
      "118/118 [==============================] - 143s 1s/step - loss: 0.2542 - accuracy: 0.9178 - precision_7: 0.9598 - recall_7: 0.9261 - val_loss: 0.2140 - val_accuracy: 0.9295 - val_precision_7: 0.9530 - val_recall_7: 0.9502\n",
      "Epoch 23/25\n",
      "118/118 [==============================] - 142s 1s/step - loss: 0.2478 - accuracy: 0.9189 - precision_7: 0.9595 - recall_7: 0.9279 - val_loss: 0.2074 - val_accuracy: 0.9359 - val_precision_7: 0.9521 - val_recall_7: 0.9605\n",
      "Epoch 24/25\n",
      "118/118 [==============================] - 144s 1s/step - loss: 0.2329 - accuracy: 0.9234 - precision_7: 0.9636 - recall_7: 0.9301 - val_loss: 0.2221 - val_accuracy: 0.9274 - val_precision_7: 0.9362 - val_recall_7: 0.9663\n",
      "Epoch 25/25\n",
      "118/118 [==============================] - 139s 1s/step - loss: 0.2544 - accuracy: 0.9117 - precision_7: 0.9605 - recall_7: 0.9166 - val_loss: 0.2177 - val_accuracy: 0.9252 - val_precision_7: 0.9474 - val_recall_7: 0.9502\n"
     ]
    }
   ],
   "source": [
    "cnn6_history = cnn6_model.fit(train_data,\n",
    "               train_labels,\n",
    "               batch_size=32,\n",
    "               epochs=25,\n",
    "               validation_data=(val_data, val_labels))"
   ]
  },
  {
   "cell_type": "code",
   "execution_count": 150,
   "metadata": {},
   "outputs": [
    {
     "name": "stderr",
     "output_type": "stream",
     "text": [
      "WARNING:absl:Found untraced functions such as _jit_compiled_convolution_op, _jit_compiled_convolution_op while saving (showing 2 of 2). These functions will not be directly callable after loading.\n"
     ]
    },
    {
     "name": "stdout",
     "output_type": "stream",
     "text": [
      "INFO:tensorflow:Assets written to: models/cnn6/assets\n"
     ]
    },
    {
     "name": "stderr",
     "output_type": "stream",
     "text": [
      "INFO:tensorflow:Assets written to: models/cnn6/assets\n"
     ]
    }
   ],
   "source": [
    "cnn6_model.save('models/cnn6')"
   ]
  },
  {
   "cell_type": "code",
   "execution_count": null,
   "metadata": {},
   "outputs": [],
   "source": [
    "fig, ((ax1, ax2), (ax3, ax4)) = plt.subplots(2,2,figsize=(15,8))\n",
    "\n",
    "sns.lineplot(cnn6_history.epoch, cnn6_history.history['loss'], y=loss, ax=ax1, label='loss')\n",
    "sns.lineplot(cnn6_history.epoch, cnn6_history.history['val_loss'], y=loss, ax=ax1, label='val_loss')\n",
    "\n",
    "sns.lineplot(cnn6_history.epoch, cnn6_history.history['accuracy'], y=accuracy, ax=ax2, label='accuracy')\n",
    "sns.lineplot(cnn6_history.epoch, cnn6_history.history['val_accuracy'], y=accuracy, ax=ax2, label='val_accuracy')\n",
    "\n",
    "sns.lineplot(cnn6_history.epoch, cnn6_history.history['precision'], y=precision, ax=ax3, label='precision')\n",
    "sns.lineplot(cnn6_history.epoch, cnn6_history.history['val_precision'], y=precision, ax=ax3, label='val_precision')\n",
    "\n",
    "sns.lineplot(cnn6_history.epoch, cnn6_history.history['recall'], y=recall, ax=ax4, label='recall')\n",
    "sns.lineplot(cnn6_history.epoch, cnn6_history.history['val_recall'], y=recall, ax=ax4, label='val_recall');"
   ]
  },
  {
   "cell_type": "code",
   "execution_count": 155,
   "metadata": {},
   "outputs": [
    {
     "name": "stdout",
     "output_type": "stream",
     "text": [
      "1/1 [==============================] - 22s 22s/step - loss: 0.2177 - accuracy: 0.9252 - precision_7: 0.9474 - recall_7: 0.9502\n"
     ]
    },
    {
     "data": {
      "text/plain": [
       "[0.21771812438964844,\n",
       " 0.9252136945724487,\n",
       " 0.947445273399353,\n",
       " 0.9502196311950684]"
      ]
     },
     "execution_count": 155,
     "metadata": {},
     "output_type": "execute_result"
    }
   ],
   "source": [
    "cnn6_model.evaluate(validation_generator)"
   ]
  },
  {
   "cell_type": "code",
   "execution_count": null,
   "metadata": {},
   "outputs": [],
   "source": []
  },
  {
   "cell_type": "markdown",
   "metadata": {},
   "source": [
    "### CNN Model 7"
   ]
  },
  {
   "cell_type": "code",
   "execution_count": 55,
   "metadata": {},
   "outputs": [
    {
     "name": "stdout",
     "output_type": "stream",
     "text": [
      "Model: \"sequential_9\"\n",
      "_________________________________________________________________\n",
      " Layer (type)                Output Shape              Param #   \n",
      "=================================================================\n",
      " conv2d_13 (Conv2D)          (None, 147, 147, 64)      1088      \n",
      "                                                                 \n",
      " max_pooling2d_13 (MaxPoolin  (None, 73, 73, 64)       0         \n",
      " g2D)                                                            \n",
      "                                                                 \n",
      " conv2d_14 (Conv2D)          (None, 71, 71, 32)        18464     \n",
      "                                                                 \n",
      " max_pooling2d_14 (MaxPoolin  (None, 35, 35, 32)       0         \n",
      " g2D)                                                            \n",
      "                                                                 \n",
      " flatten_7 (Flatten)         (None, 39200)             0         \n",
      "                                                                 \n",
      " dense_16 (Dense)            (None, 16)                627216    \n",
      "                                                                 \n",
      " dropout_2 (Dropout)         (None, 16)                0         \n",
      "                                                                 \n",
      " dense_17 (Dense)            (None, 1)                 17        \n",
      "                                                                 \n",
      "=================================================================\n",
      "Total params: 646,785\n",
      "Trainable params: 646,785\n",
      "Non-trainable params: 0\n",
      "_________________________________________________________________\n"
     ]
    }
   ],
   "source": [
    "cnn7_model = models.Sequential()\n",
    "cnn7_model.add(layers.Conv2D(64, (4, 4), activation='relu',\n",
    "                       input_shape=(150, 150, 1), kernel_regularizer=regularizers.l2(l=0.025)))\n",
    "cnn7_model.add(layers.MaxPooling2D((2, 2)))\n",
    "cnn7_model.add(layers.Conv2D(32, (3, 3), activation='relu', \n",
    "                                     kernel_regularizer=regularizers.l2(l=0.025)))\n",
    "cnn7_model.add(layers.MaxPooling2D((2,2)))\n",
    "cnn7_model.add(layers.Flatten())\n",
    "cnn7_model.add(layers.Dense(16, activation='relu'))\n",
    "cnn7_model.add(layers.Dropout(0.3))\n",
    "cnn7_model.add(layers.Dense(1, activation='sigmoid'))\n",
    "\n",
    "cnn7_model.compile(optimizer=\"adam\",\n",
    "                          loss='binary_crossentropy',\n",
    "                          metrics=['accuracy', metrics.Precision(), metrics.Recall()])\n",
    "cnn7_model.summary()"
   ]
  },
  {
   "cell_type": "code",
   "execution_count": 56,
   "metadata": {},
   "outputs": [
    {
     "name": "stdout",
     "output_type": "stream",
     "text": [
      "Epoch 1/25\n",
      "118/118 [==============================] - 153s 1s/step - loss: 0.8420 - accuracy: 0.7830 - precision_8: 0.7748 - recall_8: 0.9905 - val_loss: 0.4675 - val_accuracy: 0.8622 - val_precision_8: 0.8471 - val_recall_8: 0.9898\n",
      "Epoch 2/25\n",
      "118/118 [==============================] - 126s 1s/step - loss: 0.4277 - accuracy: 0.8986 - precision_8: 0.8987 - recall_8: 0.9704 - val_loss: 0.3526 - val_accuracy: 0.9103 - val_precision_8: 0.8988 - val_recall_8: 0.9883\n",
      "Epoch 3/25\n",
      "118/118 [==============================] - 129s 1s/step - loss: 0.3625 - accuracy: 0.9037 - precision_8: 0.9104 - recall_8: 0.9627 - val_loss: 0.3778 - val_accuracy: 0.9124 - val_precision_8: 0.9703 - val_recall_8: 0.9078\n",
      "Epoch 4/25\n",
      "118/118 [==============================] - 135s 1s/step - loss: 0.3485 - accuracy: 0.9061 - precision_8: 0.9206 - recall_8: 0.9535 - val_loss: 0.2911 - val_accuracy: 0.9220 - val_precision_8: 0.9357 - val_recall_8: 0.9590\n",
      "Epoch 5/25\n",
      "118/118 [==============================] - 135s 1s/step - loss: 0.3229 - accuracy: 0.9130 - precision_8: 0.9273 - recall_8: 0.9557 - val_loss: 0.2933 - val_accuracy: 0.9316 - val_precision_8: 0.9697 - val_recall_8: 0.9356\n",
      "Epoch 6/25\n",
      "118/118 [==============================] - 139s 1s/step - loss: 0.3067 - accuracy: 0.9186 - precision_8: 0.9399 - recall_8: 0.9492 - val_loss: 0.2563 - val_accuracy: 0.9370 - val_precision_8: 0.9407 - val_recall_8: 0.9751\n",
      "Epoch 7/25\n",
      "118/118 [==============================] - 145s 1s/step - loss: 0.2890 - accuracy: 0.9199 - precision_8: 0.9381 - recall_8: 0.9532 - val_loss: 0.3211 - val_accuracy: 0.8697 - val_precision_8: 0.8484 - val_recall_8: 1.0000\n",
      "Epoch 8/25\n",
      "118/118 [==============================] - 151s 1s/step - loss: 0.2798 - accuracy: 0.9247 - precision_8: 0.9471 - recall_8: 0.9499 - val_loss: 0.2398 - val_accuracy: 0.9380 - val_precision_8: 0.9358 - val_recall_8: 0.9824\n",
      "Epoch 9/25\n",
      "118/118 [==============================] - 141s 1s/step - loss: 0.2595 - accuracy: 0.9319 - precision_8: 0.9552 - recall_8: 0.9514 - val_loss: 0.2578 - val_accuracy: 0.9284 - val_precision_8: 0.9185 - val_recall_8: 0.9898\n",
      "Epoch 10/25\n",
      "118/118 [==============================] - 145s 1s/step - loss: 0.2532 - accuracy: 0.9354 - precision_8: 0.9534 - recall_8: 0.9583 - val_loss: 0.2300 - val_accuracy: 0.9455 - val_precision_8: 0.9716 - val_recall_8: 0.9531\n",
      "Epoch 11/25\n",
      "118/118 [==============================] - 145s 1s/step - loss: 0.2420 - accuracy: 0.9386 - precision_8: 0.9573 - recall_8: 0.9587 - val_loss: 0.2287 - val_accuracy: 0.9423 - val_precision_8: 0.9374 - val_recall_8: 0.9868\n",
      "Epoch 12/25\n",
      "118/118 [==============================] - 141s 1s/step - loss: 0.2396 - accuracy: 0.9365 - precision_8: 0.9595 - recall_8: 0.9532 - val_loss: 0.2082 - val_accuracy: 0.9434 - val_precision_8: 0.9539 - val_recall_8: 0.9693\n",
      "Epoch 13/25\n",
      "118/118 [==============================] - 143s 1s/step - loss: 0.2317 - accuracy: 0.9397 - precision_8: 0.9631 - recall_8: 0.9539 - val_loss: 0.2103 - val_accuracy: 0.9444 - val_precision_8: 0.9744 - val_recall_8: 0.9488\n",
      "Epoch 14/25\n",
      "118/118 [==============================] - 154s 1s/step - loss: 0.2503 - accuracy: 0.9298 - precision_8: 0.9584 - recall_8: 0.9448 - val_loss: 0.2142 - val_accuracy: 0.9412 - val_precision_8: 0.9604 - val_recall_8: 0.9590\n",
      "Epoch 15/25\n",
      "118/118 [==============================] - 143s 1s/step - loss: 0.2328 - accuracy: 0.9354 - precision_8: 0.9639 - recall_8: 0.9470 - val_loss: 0.2038 - val_accuracy: 0.9487 - val_precision_8: 0.9622 - val_recall_8: 0.9678\n",
      "Epoch 16/25\n",
      "118/118 [==============================] - 126s 1s/step - loss: 0.2209 - accuracy: 0.9405 - precision_8: 0.9648 - recall_8: 0.9532 - val_loss: 0.1930 - val_accuracy: 0.9487 - val_precision_8: 0.9635 - val_recall_8: 0.9663\n",
      "Epoch 17/25\n",
      "118/118 [==============================] - 124s 1s/step - loss: 0.2075 - accuracy: 0.9416 - precision_8: 0.9708 - recall_8: 0.9484 - val_loss: 0.1935 - val_accuracy: 0.9402 - val_precision_8: 0.9485 - val_recall_8: 0.9707\n",
      "Epoch 18/25\n",
      "118/118 [==============================] - 130s 1s/step - loss: 0.2089 - accuracy: 0.9389 - precision_8: 0.9665 - recall_8: 0.9492 - val_loss: 0.1901 - val_accuracy: 0.9466 - val_precision_8: 0.9774 - val_recall_8: 0.9488\n",
      "Epoch 19/25\n",
      "118/118 [==============================] - 125s 1s/step - loss: 0.2116 - accuracy: 0.9384 - precision_8: 0.9696 - recall_8: 0.9451 - val_loss: 0.1901 - val_accuracy: 0.9444 - val_precision_8: 0.9773 - val_recall_8: 0.9458\n",
      "Epoch 20/25\n",
      "118/118 [==============================] - 124s 1s/step - loss: 0.1962 - accuracy: 0.9464 - precision_8: 0.9731 - recall_8: 0.9528 - val_loss: 0.2183 - val_accuracy: 0.9209 - val_precision_8: 0.9903 - val_recall_8: 0.9004\n",
      "Epoch 21/25\n",
      "118/118 [==============================] - 122s 1s/step - loss: 0.1850 - accuracy: 0.9488 - precision_8: 0.9725 - recall_8: 0.9568 - val_loss: 0.1797 - val_accuracy: 0.9530 - val_precision_8: 0.9678 - val_recall_8: 0.9678\n",
      "Epoch 22/25\n",
      "118/118 [==============================] - 128s 1s/step - loss: 0.1905 - accuracy: 0.9482 - precision_8: 0.9721 - recall_8: 0.9565 - val_loss: 0.1787 - val_accuracy: 0.9455 - val_precision_8: 0.9773 - val_recall_8: 0.9473\n",
      "Epoch 23/25\n",
      "118/118 [==============================] - 133s 1s/step - loss: 0.1846 - accuracy: 0.9512 - precision_8: 0.9772 - recall_8: 0.9554 - val_loss: 0.2051 - val_accuracy: 0.9316 - val_precision_8: 0.9874 - val_recall_8: 0.9180\n",
      "Epoch 24/25\n",
      "118/118 [==============================] - 132s 1s/step - loss: 0.1796 - accuracy: 0.9509 - precision_8: 0.9772 - recall_8: 0.9550 - val_loss: 0.1824 - val_accuracy: 0.9509 - val_precision_8: 0.9505 - val_recall_8: 0.9839\n",
      "Epoch 25/25\n",
      "118/118 [==============================] - 146s 1s/step - loss: 0.1708 - accuracy: 0.9528 - precision_8: 0.9747 - recall_8: 0.9601 - val_loss: 0.1785 - val_accuracy: 0.9444 - val_precision_8: 0.9759 - val_recall_8: 0.9473\n"
     ]
    }
   ],
   "source": [
    "cnn7_history = cnn7_model.fit(train_data,\n",
    "               train_labels,\n",
    "               batch_size=32,\n",
    "               epochs=25,\n",
    "               validation_data=(val_data, val_labels))"
   ]
  },
  {
   "cell_type": "code",
   "execution_count": 156,
   "metadata": {},
   "outputs": [
    {
     "name": "stderr",
     "output_type": "stream",
     "text": [
      "WARNING:absl:Found untraced functions such as _jit_compiled_convolution_op, _jit_compiled_convolution_op while saving (showing 2 of 2). These functions will not be directly callable after loading.\n"
     ]
    },
    {
     "name": "stdout",
     "output_type": "stream",
     "text": [
      "INFO:tensorflow:Assets written to: models/cnn7/assets\n"
     ]
    },
    {
     "name": "stderr",
     "output_type": "stream",
     "text": [
      "INFO:tensorflow:Assets written to: models/cnn7/assets\n"
     ]
    }
   ],
   "source": [
    "cnn7_model.save('models/cnn7')"
   ]
  },
  {
   "cell_type": "code",
   "execution_count": null,
   "metadata": {},
   "outputs": [],
   "source": [
    "fig, ((ax1, ax2), (ax3, ax4)) = plt.subplots(2,2,figsize=(15,8))\n",
    "\n",
    "sns.lineplot(cnn7_history.epoch, cnn7_history.history['loss'], y=loss, ax=ax1, label='loss')\n",
    "sns.lineplot(cnn7_history.epoch, cnn7_history.history['val_loss'], y=loss, ax=ax1, label='val_loss')\n",
    "\n",
    "sns.lineplot(cnn7_history.epoch, cnn7_history.history['accuracy'], y=accuracy, ax=ax2, label='accuracy')\n",
    "sns.lineplot(cnn7_history.epoch, cnn7_history.history['val_accuracy'], y=accuracy, ax=ax2, label='val_accuracy')\n",
    "\n",
    "sns.lineplot(cnn7_history.epoch, cnn7_history.history['precision'], y=precision, ax=ax3, label='precision')\n",
    "sns.lineplot(cnn7_history.epoch, cnn7_history.history['val_precision'], y=precision, ax=ax3, label='val_precision')\n",
    "\n",
    "sns.lineplot(cnn7_history.epoch, cnn7_history.history['recall'], y=recall, ax=ax4, label='recall')\n",
    "sns.lineplot(cnn7_history.epoch, cnn7_history.history['val_recall'], y=recall, ax=ax4, label='val_recall');"
   ]
  },
  {
   "cell_type": "code",
   "execution_count": 164,
   "metadata": {},
   "outputs": [
    {
     "name": "stdout",
     "output_type": "stream",
     "text": [
      "1/1 [==============================] - 26s 26s/step - loss: 0.1785 - accuracy: 0.9444 - precision_8: 0.9759 - recall_8: 0.9473\n"
     ]
    },
    {
     "data": {
      "text/plain": [
       "[0.17852814495563507,\n",
       " 0.9444444179534912,\n",
       " 0.9758672714233398,\n",
       " 0.947291374206543]"
      ]
     },
     "execution_count": 164,
     "metadata": {},
     "output_type": "execute_result"
    }
   ],
   "source": [
    "cnn7_model.evaluate(validation_generator)"
   ]
  },
  {
   "cell_type": "code",
   "execution_count": null,
   "metadata": {},
   "outputs": [],
   "source": []
  },
  {
   "cell_type": "markdown",
   "metadata": {},
   "source": [
    "### CNN Model 8"
   ]
  },
  {
   "cell_type": "code",
   "execution_count": 57,
   "metadata": {},
   "outputs": [
    {
     "name": "stdout",
     "output_type": "stream",
     "text": [
      "Model: \"sequential_10\"\n",
      "_________________________________________________________________\n",
      " Layer (type)                Output Shape              Param #   \n",
      "=================================================================\n",
      " conv2d_15 (Conv2D)          (None, 147, 147, 64)      1088      \n",
      "                                                                 \n",
      " max_pooling2d_15 (MaxPoolin  (None, 49, 49, 64)       0         \n",
      " g2D)                                                            \n",
      "                                                                 \n",
      " conv2d_16 (Conv2D)          (None, 47, 47, 32)        18464     \n",
      "                                                                 \n",
      " max_pooling2d_16 (MaxPoolin  (None, 15, 15, 32)       0         \n",
      " g2D)                                                            \n",
      "                                                                 \n",
      " flatten_8 (Flatten)         (None, 7200)              0         \n",
      "                                                                 \n",
      " dense_18 (Dense)            (None, 16)                115216    \n",
      "                                                                 \n",
      " dropout_3 (Dropout)         (None, 16)                0         \n",
      "                                                                 \n",
      " dense_19 (Dense)            (None, 1)                 17        \n",
      "                                                                 \n",
      "=================================================================\n",
      "Total params: 134,785\n",
      "Trainable params: 134,785\n",
      "Non-trainable params: 0\n",
      "_________________________________________________________________\n"
     ]
    }
   ],
   "source": [
    "\n",
    "cnn8_model = models.Sequential()\n",
    "cnn8_model.add(layers.Conv2D(64, (4, 4), activation='relu',\n",
    "                       input_shape=(150, 150, 1), kernel_regularizer=regularizers.l2(l=0.025)))\n",
    "cnn8_model.add(layers.MaxPooling2D((3, 3)))\n",
    "cnn8_model.add(layers.Conv2D(32, (3, 3), activation='relu', \n",
    "                                     kernel_regularizer=regularizers.l2(l=0.025)))\n",
    "cnn8_model.add(layers.MaxPooling2D((3, 3)))\n",
    "cnn8_model.add(layers.Flatten())\n",
    "cnn8_model.add(layers.Dense(16, activation='relu'))\n",
    "cnn8_model.add(layers.Dropout(0.3))\n",
    "cnn8_model.add(layers.Dense(1, activation='sigmoid'))\n",
    "\n",
    "cnn8_model.compile(optimizer=\"adam\",\n",
    "                          loss='binary_crossentropy',\n",
    "                          metrics=['accuracy', metrics.Precision(), metrics.Recall()])\n",
    "\n",
    "cnn8_model.summary()"
   ]
  },
  {
   "cell_type": "code",
   "execution_count": 58,
   "metadata": {},
   "outputs": [
    {
     "name": "stdout",
     "output_type": "stream",
     "text": [
      "Epoch 1/25\n",
      "118/118 [==============================] - 98s 818ms/step - loss: 0.7753 - accuracy: 0.7510 - precision_9: 0.7464 - recall_9: 0.9978 - val_loss: 0.4129 - val_accuracy: 0.8868 - val_precision_9: 0.8781 - val_recall_9: 0.9810\n",
      "Epoch 2/25\n",
      "118/118 [==============================] - 95s 808ms/step - loss: 0.3963 - accuracy: 0.8820 - precision_9: 0.8699 - recall_9: 0.9857 - val_loss: 0.3482 - val_accuracy: 0.8739 - val_precision_9: 0.8553 - val_recall_9: 0.9956\n",
      "Epoch 3/25\n",
      "118/118 [==============================] - 96s 814ms/step - loss: 0.3542 - accuracy: 0.9037 - precision_9: 0.8967 - recall_9: 0.9810 - val_loss: 0.3747 - val_accuracy: 0.9263 - val_precision_9: 0.9596 - val_recall_9: 0.9385\n",
      "Epoch 4/25\n",
      "118/118 [==============================] - 97s 822ms/step - loss: 0.3332 - accuracy: 0.9175 - precision_9: 0.9154 - recall_9: 0.9773 - val_loss: 0.2829 - val_accuracy: 0.9252 - val_precision_9: 0.9204 - val_recall_9: 0.9824\n",
      "Epoch 5/25\n",
      "118/118 [==============================] - 96s 818ms/step - loss: 0.3017 - accuracy: 0.9250 - precision_9: 0.9290 - recall_9: 0.9715 - val_loss: 0.2645 - val_accuracy: 0.9359 - val_precision_9: 0.9431 - val_recall_9: 0.9707\n",
      "Epoch 6/25\n",
      "118/118 [==============================] - 99s 836ms/step - loss: 0.2909 - accuracy: 0.9330 - precision_9: 0.9404 - recall_9: 0.9696 - val_loss: 0.2616 - val_accuracy: 0.9370 - val_precision_9: 0.9535 - val_recall_9: 0.9605\n",
      "Epoch 7/25\n",
      "118/118 [==============================] - 99s 840ms/step - loss: 0.2758 - accuracy: 0.9346 - precision_9: 0.9396 - recall_9: 0.9729 - val_loss: 0.2554 - val_accuracy: 0.9295 - val_precision_9: 0.9209 - val_recall_9: 0.9883\n",
      "Epoch 8/25\n",
      "118/118 [==============================] - 96s 816ms/step - loss: 0.2662 - accuracy: 0.9426 - precision_9: 0.9519 - recall_9: 0.9704 - val_loss: 0.2502 - val_accuracy: 0.9252 - val_precision_9: 0.9147 - val_recall_9: 0.9898\n",
      "Epoch 9/25\n",
      "118/118 [==============================] - 95s 806ms/step - loss: 0.2537 - accuracy: 0.9386 - precision_9: 0.9487 - recall_9: 0.9682 - val_loss: 0.2190 - val_accuracy: 0.9434 - val_precision_9: 0.9412 - val_recall_9: 0.9839\n",
      "Epoch 10/25\n",
      "118/118 [==============================] - 97s 822ms/step - loss: 0.2470 - accuracy: 0.9426 - precision_9: 0.9562 - recall_9: 0.9656 - val_loss: 0.2272 - val_accuracy: 0.9509 - val_precision_9: 0.9691 - val_recall_9: 0.9634\n",
      "Epoch 11/25\n",
      "118/118 [==============================] - 96s 815ms/step - loss: 0.2436 - accuracy: 0.9389 - precision_9: 0.9514 - recall_9: 0.9656 - val_loss: 0.2036 - val_accuracy: 0.9541 - val_precision_9: 0.9692 - val_recall_9: 0.9678\n",
      "Epoch 12/25\n",
      "118/118 [==============================] - 98s 829ms/step - loss: 0.2371 - accuracy: 0.9432 - precision_9: 0.9569 - recall_9: 0.9656 - val_loss: 0.2213 - val_accuracy: 0.9412 - val_precision_9: 0.9349 - val_recall_9: 0.9883\n",
      "Epoch 13/25\n",
      "118/118 [==============================] - 97s 822ms/step - loss: 0.2304 - accuracy: 0.9397 - precision_9: 0.9563 - recall_9: 0.9612 - val_loss: 0.2044 - val_accuracy: 0.9434 - val_precision_9: 0.9674 - val_recall_9: 0.9546\n",
      "Epoch 14/25\n",
      "118/118 [==============================] - 100s 848ms/step - loss: 0.2396 - accuracy: 0.9362 - precision_9: 0.9535 - recall_9: 0.9594 - val_loss: 0.1999 - val_accuracy: 0.9562 - val_precision_9: 0.9707 - val_recall_9: 0.9693\n",
      "Epoch 15/25\n",
      "118/118 [==============================] - 113s 961ms/step - loss: 0.2222 - accuracy: 0.9402 - precision_9: 0.9570 - recall_9: 0.9612 - val_loss: 0.1993 - val_accuracy: 0.9509 - val_precision_9: 0.9531 - val_recall_9: 0.9810\n",
      "Epoch 16/25\n",
      "118/118 [==============================] - 102s 862ms/step - loss: 0.2171 - accuracy: 0.9442 - precision_9: 0.9609 - recall_9: 0.9627 - val_loss: 0.1895 - val_accuracy: 0.9562 - val_precision_9: 0.9749 - val_recall_9: 0.9649\n",
      "Epoch 17/25\n",
      "118/118 [==============================] - 94s 798ms/step - loss: 0.2051 - accuracy: 0.9472 - precision_9: 0.9624 - recall_9: 0.9653 - val_loss: 0.1905 - val_accuracy: 0.9444 - val_precision_9: 0.9388 - val_recall_9: 0.9883\n",
      "Epoch 18/25\n",
      "118/118 [==============================] - 97s 824ms/step - loss: 0.2083 - accuracy: 0.9466 - precision_9: 0.9638 - recall_9: 0.9631 - val_loss: 0.1812 - val_accuracy: 0.9509 - val_precision_9: 0.9733 - val_recall_9: 0.9590\n",
      "Epoch 19/25\n",
      "118/118 [==============================] - 88s 746ms/step - loss: 0.1994 - accuracy: 0.9464 - precision_9: 0.9627 - recall_9: 0.9638 - val_loss: 0.1770 - val_accuracy: 0.9519 - val_precision_9: 0.9775 - val_recall_9: 0.9561\n",
      "Epoch 20/25\n",
      "118/118 [==============================] - 82s 691ms/step - loss: 0.1942 - accuracy: 0.9509 - precision_9: 0.9640 - recall_9: 0.9689 - val_loss: 0.2602 - val_accuracy: 0.8996 - val_precision_9: 0.9950 - val_recall_9: 0.8668\n",
      "Epoch 21/25\n",
      "118/118 [==============================] - 81s 689ms/step - loss: 0.1944 - accuracy: 0.9477 - precision_9: 0.9665 - recall_9: 0.9616 - val_loss: 0.1815 - val_accuracy: 0.9455 - val_precision_9: 0.9802 - val_recall_9: 0.9444\n",
      "Epoch 22/25\n",
      "118/118 [==============================] - 81s 689ms/step - loss: 0.1924 - accuracy: 0.9456 - precision_9: 0.9658 - recall_9: 0.9594 - val_loss: 0.1676 - val_accuracy: 0.9562 - val_precision_9: 0.9791 - val_recall_9: 0.9605\n",
      "Epoch 23/25\n",
      "118/118 [==============================] - 87s 741ms/step - loss: 0.1865 - accuracy: 0.9482 - precision_9: 0.9676 - recall_9: 0.9612 - val_loss: 0.1614 - val_accuracy: 0.9573 - val_precision_9: 0.9707 - val_recall_9: 0.9707\n",
      "Epoch 24/25\n",
      "118/118 [==============================] - 86s 731ms/step - loss: 0.1862 - accuracy: 0.9525 - precision_9: 0.9702 - recall_9: 0.9645 - val_loss: 0.1691 - val_accuracy: 0.9530 - val_precision_9: 0.9494 - val_recall_9: 0.9883\n",
      "Epoch 25/25\n",
      "118/118 [==============================] - 82s 699ms/step - loss: 0.1878 - accuracy: 0.9469 - precision_9: 0.9658 - recall_9: 0.9612 - val_loss: 0.1775 - val_accuracy: 0.9455 - val_precision_9: 0.9847 - val_recall_9: 0.9400\n"
     ]
    }
   ],
   "source": [
    "cnn8_history = cnn8_model.fit(train_data,\n",
    "               train_labels,\n",
    "               batch_size=32,\n",
    "               epochs=25,\n",
    "               validation_data=(val_data, val_labels))"
   ]
  },
  {
   "cell_type": "code",
   "execution_count": 157,
   "metadata": {},
   "outputs": [
    {
     "name": "stderr",
     "output_type": "stream",
     "text": [
      "WARNING:absl:Found untraced functions such as _jit_compiled_convolution_op, _jit_compiled_convolution_op while saving (showing 2 of 2). These functions will not be directly callable after loading.\n"
     ]
    },
    {
     "name": "stdout",
     "output_type": "stream",
     "text": [
      "INFO:tensorflow:Assets written to: models/cnn8/assets\n"
     ]
    },
    {
     "name": "stderr",
     "output_type": "stream",
     "text": [
      "INFO:tensorflow:Assets written to: models/cnn8/assets\n"
     ]
    }
   ],
   "source": [
    "cnn8_model.save('models/cnn8')"
   ]
  },
  {
   "cell_type": "code",
   "execution_count": null,
   "metadata": {},
   "outputs": [],
   "source": [
    "fig, ((ax1, ax2), (ax3, ax4)) = plt.subplots(2,2,figsize=(15,8))\n",
    "\n",
    "sns.lineplot(cnn8_history.epoch, cnn8_history.history['loss'], y=loss, ax=ax1, label='loss')\n",
    "sns.lineplot(cnn8_history.epoch, cnn8_history.history['val_loss'], y=loss, ax=ax1, label='val_loss')\n",
    "\n",
    "sns.lineplot(cnn8_history.epoch, cnn8_history.history['accuracy'], y=accuracy, ax=ax2, label='accuracy')\n",
    "sns.lineplot(cnn8_history.epoch, cnn8_history.history['val_accuracy'], y=accuracy, ax=ax2, label='val_accuracy')\n",
    "\n",
    "sns.lineplot(cnn8_history.epoch, cnn8_history.history['precision'], y=precision, ax=ax3, label='precision')\n",
    "sns.lineplot(cnn8_history.epoch, cnn8_history.history['val_precision'], y=precision, ax=ax3, label='val_precision')\n",
    "\n",
    "sns.lineplot(cnn8_history.epoch, cnn8_history.history['recall'], y=recall, ax=ax4, label='recall')\n",
    "sns.lineplot(cnn8_history.epoch, cnn8_history.history['val_recall'], y=recall, ax=ax4, label='val_recall');"
   ]
  },
  {
   "cell_type": "code",
   "execution_count": 165,
   "metadata": {},
   "outputs": [
    {
     "name": "stdout",
     "output_type": "stream",
     "text": [
      "1/1 [==============================] - 20s 20s/step - loss: 0.1775 - accuracy: 0.9455 - precision_9: 0.9847 - recall_9: 0.9400\n"
     ]
    },
    {
     "data": {
      "text/plain": [
       "[0.17749109864234924,\n",
       " 0.9455128312110901,\n",
       " 0.9846625924110413,\n",
       " 0.9399707317352295]"
      ]
     },
     "execution_count": 165,
     "metadata": {},
     "output_type": "execute_result"
    }
   ],
   "source": [
    "cnn8_model.evaluate(validation_generator)"
   ]
  },
  {
   "cell_type": "code",
   "execution_count": null,
   "metadata": {},
   "outputs": [],
   "source": []
  },
  {
   "cell_type": "markdown",
   "metadata": {},
   "source": [
    "### CNN Model 9"
   ]
  },
  {
   "cell_type": "code",
   "execution_count": 59,
   "metadata": {},
   "outputs": [
    {
     "name": "stdout",
     "output_type": "stream",
     "text": [
      "Model: \"sequential_11\"\n",
      "_________________________________________________________________\n",
      " Layer (type)                Output Shape              Param #   \n",
      "=================================================================\n",
      " conv2d_17 (Conv2D)          (None, 147, 147, 64)      1088      \n",
      "                                                                 \n",
      " max_pooling2d_17 (MaxPoolin  (None, 49, 49, 64)       0         \n",
      " g2D)                                                            \n",
      "                                                                 \n",
      " conv2d_18 (Conv2D)          (None, 47, 47, 32)        18464     \n",
      "                                                                 \n",
      " max_pooling2d_18 (MaxPoolin  (None, 15, 15, 32)       0         \n",
      " g2D)                                                            \n",
      "                                                                 \n",
      " conv2d_19 (Conv2D)          (None, 14, 14, 16)        2064      \n",
      "                                                                 \n",
      " max_pooling2d_19 (MaxPoolin  (None, 4, 4, 16)         0         \n",
      " g2D)                                                            \n",
      "                                                                 \n",
      " flatten_9 (Flatten)         (None, 256)               0         \n",
      "                                                                 \n",
      " dense_20 (Dense)            (None, 16)                4112      \n",
      "                                                                 \n",
      " dropout_4 (Dropout)         (None, 16)                0         \n",
      "                                                                 \n",
      " dense_21 (Dense)            (None, 1)                 17        \n",
      "                                                                 \n",
      "=================================================================\n",
      "Total params: 25,745\n",
      "Trainable params: 25,745\n",
      "Non-trainable params: 0\n",
      "_________________________________________________________________\n"
     ]
    }
   ],
   "source": [
    "cnn9_model = models.Sequential()\n",
    "cnn9_model.add(layers.Conv2D(64, (4, 4), activation='relu',\n",
    "                       input_shape=(150, 150, 1), kernel_regularizer=regularizers.l2(l=0.025)))\n",
    "cnn9_model.add(layers.MaxPooling2D((3, 3)))\n",
    "cnn9_model.add(layers.Conv2D(32, (3, 3), activation='relu', \n",
    "                                     kernel_regularizer=regularizers.l2(l=0.025)))\n",
    "cnn9_model.add(layers.MaxPooling2D((3, 3)))\n",
    "cnn9_model.add(layers.Conv2D(16, (2, 2), activation='relu', \n",
    "                                     kernel_regularizer=regularizers.l2(l=0.025)))\n",
    "cnn9_model.add(layers.MaxPooling2D((3, 3)))\n",
    "cnn9_model.add(layers.Flatten())\n",
    "cnn9_model.add(layers.Dense(16, activation='relu'))\n",
    "cnn9_model.add(layers.Dropout(0.3))\n",
    "cnn9_model.add(layers.Dense(1, activation='sigmoid'))\n",
    "\n",
    "cnn9_model.compile(optimizer=\"adam\",\n",
    "                          loss='binary_crossentropy',\n",
    "                          metrics=['accuracy', metrics.Precision(), metrics.Recall()])\n",
    "\n",
    "cnn9_model.summary()"
   ]
  },
  {
   "cell_type": "code",
   "execution_count": 60,
   "metadata": {},
   "outputs": [
    {
     "name": "stdout",
     "output_type": "stream",
     "text": [
      "Epoch 1/25\n",
      "118/118 [==============================] - 83s 695ms/step - loss: 1.0994 - accuracy: 0.7256 - precision_10: 0.7298 - recall_10: 0.9909 - val_loss: 0.6757 - val_accuracy: 0.7297 - val_precision_10: 0.7297 - val_recall_10: 1.0000\n",
      "Epoch 2/25\n",
      "118/118 [==============================] - 82s 691ms/step - loss: 0.6395 - accuracy: 0.7297 - precision_10: 0.7297 - recall_10: 1.0000 - val_loss: 0.6039 - val_accuracy: 0.7297 - val_precision_10: 0.7297 - val_recall_10: 1.0000\n",
      "Epoch 3/25\n",
      "118/118 [==============================] - 81s 685ms/step - loss: 0.6072 - accuracy: 0.7297 - precision_10: 0.7297 - recall_10: 1.0000 - val_loss: 0.5890 - val_accuracy: 0.7297 - val_precision_10: 0.7297 - val_recall_10: 1.0000\n",
      "Epoch 4/25\n",
      "118/118 [==============================] - 81s 689ms/step - loss: 0.5362 - accuracy: 0.7558 - precision_10: 0.7531 - recall_10: 0.9898 - val_loss: 0.4181 - val_accuracy: 0.7874 - val_precision_10: 0.7750 - val_recall_10: 0.9985\n",
      "Epoch 5/25\n",
      "118/118 [==============================] - 87s 738ms/step - loss: 0.4268 - accuracy: 0.8292 - precision_10: 0.8328 - recall_10: 0.9583 - val_loss: 0.3324 - val_accuracy: 0.9135 - val_precision_10: 0.9157 - val_recall_10: 0.9707\n",
      "Epoch 6/25\n",
      "118/118 [==============================] - 91s 768ms/step - loss: 0.3932 - accuracy: 0.8452 - precision_10: 0.8506 - recall_10: 0.9557 - val_loss: 0.3405 - val_accuracy: 0.8857 - val_precision_10: 0.8711 - val_recall_10: 0.9898\n",
      "Epoch 7/25\n",
      "118/118 [==============================] - 93s 790ms/step - loss: 0.3717 - accuracy: 0.8532 - precision_10: 0.8611 - recall_10: 0.9525 - val_loss: 0.3048 - val_accuracy: 0.9295 - val_precision_10: 0.9401 - val_recall_10: 0.9649\n",
      "Epoch 8/25\n",
      "118/118 [==============================] - 98s 827ms/step - loss: 0.3585 - accuracy: 0.8481 - precision_10: 0.8571 - recall_10: 0.9503 - val_loss: 0.2885 - val_accuracy: 0.9252 - val_precision_10: 0.9311 - val_recall_10: 0.9693\n",
      "Epoch 9/25\n",
      "118/118 [==============================] - 93s 786ms/step - loss: 0.3536 - accuracy: 0.8940 - precision_10: 0.9122 - recall_10: 0.9459 - val_loss: 0.3140 - val_accuracy: 0.8953 - val_precision_10: 0.8804 - val_recall_10: 0.9912\n",
      "Epoch 10/25\n",
      "118/118 [==============================] - 83s 700ms/step - loss: 0.3414 - accuracy: 0.8986 - precision_10: 0.9186 - recall_10: 0.9448 - val_loss: 0.2765 - val_accuracy: 0.9306 - val_precision_10: 0.9402 - val_recall_10: 0.9663\n",
      "Epoch 11/25\n",
      "118/118 [==============================] - 100s 852ms/step - loss: 0.3332 - accuracy: 0.9053 - precision_10: 0.9190 - recall_10: 0.9543 - val_loss: 0.2567 - val_accuracy: 0.9338 - val_precision_10: 0.9442 - val_recall_10: 0.9663\n",
      "Epoch 12/25\n",
      "118/118 [==============================] - 96s 813ms/step - loss: 0.3289 - accuracy: 0.9026 - precision_10: 0.9223 - recall_10: 0.9462 - val_loss: 0.2679 - val_accuracy: 0.9338 - val_precision_10: 0.9641 - val_recall_10: 0.9444\n",
      "Epoch 13/25\n",
      "118/118 [==============================] - 98s 828ms/step - loss: 0.3322 - accuracy: 0.8981 - precision_10: 0.9206 - recall_10: 0.9415 - val_loss: 0.2647 - val_accuracy: 0.9370 - val_precision_10: 0.9483 - val_recall_10: 0.9663\n",
      "Epoch 14/25\n",
      "118/118 [==============================] - 99s 842ms/step - loss: 0.3209 - accuracy: 0.9037 - precision_10: 0.9242 - recall_10: 0.9455 - val_loss: 0.2527 - val_accuracy: 0.9274 - val_precision_10: 0.9277 - val_recall_10: 0.9766\n",
      "Epoch 15/25\n",
      "118/118 [==============================] - 94s 792ms/step - loss: 0.3201 - accuracy: 0.9061 - precision_10: 0.9263 - recall_10: 0.9466 - val_loss: 0.2633 - val_accuracy: 0.9402 - val_precision_10: 0.9617 - val_recall_10: 0.9561\n",
      "Epoch 16/25\n",
      "118/118 [==============================] - 98s 831ms/step - loss: 0.3147 - accuracy: 0.9063 - precision_10: 0.9254 - recall_10: 0.9481 - val_loss: 0.2383 - val_accuracy: 0.9316 - val_precision_10: 0.9317 - val_recall_10: 0.9780\n",
      "Epoch 17/25\n",
      "118/118 [==============================] - 91s 772ms/step - loss: 0.3069 - accuracy: 0.9101 - precision_10: 0.9255 - recall_10: 0.9535 - val_loss: 0.2416 - val_accuracy: 0.9370 - val_precision_10: 0.9470 - val_recall_10: 0.9678\n",
      "Epoch 18/25\n",
      "118/118 [==============================] - 108s 919ms/step - loss: 0.3014 - accuracy: 0.9114 - precision_10: 0.9317 - recall_10: 0.9481 - val_loss: 0.2345 - val_accuracy: 0.9380 - val_precision_10: 0.9471 - val_recall_10: 0.9693\n",
      "Epoch 19/25\n",
      "118/118 [==============================] - 153s 1s/step - loss: 0.2980 - accuracy: 0.9055 - precision_10: 0.9256 - recall_10: 0.9466 - val_loss: 0.2487 - val_accuracy: 0.9359 - val_precision_10: 0.9741 - val_recall_10: 0.9370\n",
      "Epoch 20/25\n",
      "118/118 [==============================] - 106s 895ms/step - loss: 0.3055 - accuracy: 0.9095 - precision_10: 0.9297 - recall_10: 0.9477 - val_loss: 0.2601 - val_accuracy: 0.9263 - val_precision_10: 0.9782 - val_recall_10: 0.9195\n",
      "Epoch 21/25\n",
      "118/118 [==============================] - 92s 783ms/step - loss: 0.2948 - accuracy: 0.9175 - precision_10: 0.9369 - recall_10: 0.9510 - val_loss: 0.2356 - val_accuracy: 0.9359 - val_precision_10: 0.9456 - val_recall_10: 0.9678\n",
      "Epoch 22/25\n",
      "118/118 [==============================] - 93s 785ms/step - loss: 0.2932 - accuracy: 0.9199 - precision_10: 0.9384 - recall_10: 0.9528 - val_loss: 0.2267 - val_accuracy: 0.9391 - val_precision_10: 0.9510 - val_recall_10: 0.9663\n",
      "Epoch 23/25\n",
      "118/118 [==============================] - 105s 893ms/step - loss: 0.2939 - accuracy: 0.9135 - precision_10: 0.9375 - recall_10: 0.9444 - val_loss: 0.2564 - val_accuracy: 0.9113 - val_precision_10: 0.9021 - val_recall_10: 0.9854\n",
      "Epoch 24/25\n",
      "118/118 [==============================] - 105s 893ms/step - loss: 0.2880 - accuracy: 0.9197 - precision_10: 0.9377 - recall_10: 0.9532 - val_loss: 0.2151 - val_accuracy: 0.9466 - val_precision_10: 0.9620 - val_recall_10: 0.9649\n",
      "Epoch 25/25\n",
      "118/118 [==============================] - 110s 930ms/step - loss: 0.3036 - accuracy: 0.9090 - precision_10: 0.9334 - recall_10: 0.9426 - val_loss: 0.2428 - val_accuracy: 0.9327 - val_precision_10: 0.9379 - val_recall_10: 0.9722\n"
     ]
    }
   ],
   "source": [
    "cnn9_history = cnn9_model.fit(train_data,\n",
    "               train_labels,\n",
    "               batch_size=32,\n",
    "               epochs=25,\n",
    "               validation_data=(val_data, val_labels))"
   ]
  },
  {
   "cell_type": "code",
   "execution_count": 158,
   "metadata": {},
   "outputs": [
    {
     "name": "stderr",
     "output_type": "stream",
     "text": [
      "WARNING:absl:Found untraced functions such as _jit_compiled_convolution_op, _jit_compiled_convolution_op, _jit_compiled_convolution_op while saving (showing 3 of 3). These functions will not be directly callable after loading.\n"
     ]
    },
    {
     "name": "stdout",
     "output_type": "stream",
     "text": [
      "INFO:tensorflow:Assets written to: models/cnn9/assets\n"
     ]
    },
    {
     "name": "stderr",
     "output_type": "stream",
     "text": [
      "INFO:tensorflow:Assets written to: models/cnn9/assets\n"
     ]
    }
   ],
   "source": [
    "cnn9_model.save('models/cnn9')"
   ]
  },
  {
   "cell_type": "code",
   "execution_count": null,
   "metadata": {},
   "outputs": [],
   "source": [
    "fig, ((ax1, ax2), (ax3, ax4)) = plt.subplots(2,2,figsize=(15,8))\n",
    "\n",
    "sns.lineplot(cnn9_history.epoch, cnn9_history.history['loss'], y=loss, ax=ax1, label='loss')\n",
    "sns.lineplot(cnn9_history.epoch, cnn9_history.history['val_loss'], y=loss, ax=ax1, label='val_loss')\n",
    "\n",
    "sns.lineplot(cnn9_history.epoch, cnn9_history.history['accuracy'], y=accuracy, ax=ax2, label='accuracy')\n",
    "sns.lineplot(cnn9_history.epoch, cnn9_history.history['val_accuracy'], y=accuracy, ax=ax2, label='val_accuracy')\n",
    "\n",
    "sns.lineplot(cnn9_history.epoch, cnn9_history.history['precision'], y=precision, ax=ax3, label='precision')\n",
    "sns.lineplot(cnn9_history.epoch, cnn9_history.history['val_precision'], y=precision, ax=ax3, label='val_precision')\n",
    "\n",
    "sns.lineplot(cnn9_history.epoch, cnn9_history.history['recall'], y=recall, ax=ax4, label='recall')\n",
    "sns.lineplot(cnn9_history.epoch, cnn9_history.history['val_recall'], y=recall, ax=ax4, label='val_recall');"
   ]
  },
  {
   "cell_type": "code",
   "execution_count": 166,
   "metadata": {},
   "outputs": [
    {
     "name": "stdout",
     "output_type": "stream",
     "text": [
      "1/1 [==============================] - 21s 21s/step - loss: 0.2428 - accuracy: 0.9327 - precision_10: 0.9379 - recall_10: 0.9722\n"
     ]
    },
    {
     "data": {
      "text/plain": [
       "[0.24283048510551453,\n",
       " 0.932692289352417,\n",
       " 0.9378530979156494,\n",
       " 0.9721815586090088]"
      ]
     },
     "execution_count": 166,
     "metadata": {},
     "output_type": "execute_result"
    }
   ],
   "source": [
    "cnn9_model.evaluate(validation_generator)"
   ]
  },
  {
   "cell_type": "code",
   "execution_count": null,
   "metadata": {},
   "outputs": [],
   "source": []
  },
  {
   "cell_type": "markdown",
   "metadata": {},
   "source": [
    "### CNN Model 10"
   ]
  },
  {
   "cell_type": "code",
   "execution_count": 63,
   "metadata": {},
   "outputs": [
    {
     "name": "stdout",
     "output_type": "stream",
     "text": [
      "Model: \"sequential_13\"\n",
      "_________________________________________________________________\n",
      " Layer (type)                Output Shape              Param #   \n",
      "=================================================================\n",
      " conv2d_23 (Conv2D)          (None, 147, 147, 64)      1088      \n",
      "                                                                 \n",
      " max_pooling2d_23 (MaxPoolin  (None, 49, 49, 64)       0         \n",
      " g2D)                                                            \n",
      "                                                                 \n",
      " conv2d_24 (Conv2D)          (None, 47, 47, 32)        18464     \n",
      "                                                                 \n",
      " max_pooling2d_24 (MaxPoolin  (None, 15, 15, 32)       0         \n",
      " g2D)                                                            \n",
      "                                                                 \n",
      " conv2d_25 (Conv2D)          (None, 14, 14, 16)        2064      \n",
      "                                                                 \n",
      " max_pooling2d_25 (MaxPoolin  (None, 4, 4, 16)         0         \n",
      " g2D)                                                            \n",
      "                                                                 \n",
      " flatten_11 (Flatten)        (None, 256)               0         \n",
      "                                                                 \n",
      " dense_24 (Dense)            (None, 16)                4112      \n",
      "                                                                 \n",
      " dropout_6 (Dropout)         (None, 16)                0         \n",
      "                                                                 \n",
      " dense_25 (Dense)            (None, 1)                 17        \n",
      "                                                                 \n",
      "=================================================================\n",
      "Total params: 25,745\n",
      "Trainable params: 25,745\n",
      "Non-trainable params: 0\n",
      "_________________________________________________________________\n"
     ]
    }
   ],
   "source": [
    "cnn10_model = models.Sequential()\n",
    "cnn10_model.add(layers.Conv2D(64, (4, 4), activation='relu',\n",
    "                       input_shape=(150, 150, 1), kernel_regularizer=regularizers.l2(l=0.025)))\n",
    "cnn10_model.add(layers.MaxPooling2D((3, 3)))\n",
    "cnn10_model.add(layers.Conv2D(32, (3, 3), activation='relu', \n",
    "                                     kernel_regularizer=regularizers.l2(l=0.025)))\n",
    "cnn10_model.add(layers.MaxPooling2D((3, 3)))\n",
    "cnn10_model.add(layers.Conv2D(16, (2, 2), activation='relu', \n",
    "                                     kernel_regularizer=regularizers.l2(l=0.025)))\n",
    "cnn10_model.add(layers.MaxPooling2D((3, 3)))\n",
    "cnn10_model.add(layers.Flatten())\n",
    "cnn10_model.add(layers.Dense(16, activation='relu'))\n",
    "cnn10_model.add(layers.Dropout(0.3))\n",
    "cnn10_model.add(layers.Dense(1, activation='sigmoid'))\n",
    "\n",
    "cnn10_model.compile(optimizer=\"adam\",\n",
    "                          loss='binary_crossentropy',\n",
    "                          metrics=['accuracy', metrics.Precision(), metrics.Recall()])\n",
    "\n",
    "# Define the EarlyStopping object\n",
    "early_stop = EarlyStopping(monitor='val_accuracy', min_delta=1e-8,\n",
    "                           patience=10,\n",
    "                           verbose=1,\n",
    "                           mode='max')\n",
    "\n",
    "cnn10_model.summary()"
   ]
  },
  {
   "cell_type": "code",
   "execution_count": 64,
   "metadata": {},
   "outputs": [
    {
     "name": "stdout",
     "output_type": "stream",
     "text": [
      "Epoch 1/50\n",
      "118/118 [==============================] - 112s 925ms/step - loss: 1.1008 - accuracy: 0.7291 - precision_12: 0.7298 - recall_12: 0.9985 - val_loss: 0.6846 - val_accuracy: 0.7297 - val_precision_12: 0.7297 - val_recall_12: 1.0000\n",
      "Epoch 2/50\n",
      "118/118 [==============================] - 168s 1s/step - loss: 0.5950 - accuracy: 0.7566 - precision_12: 0.7531 - recall_12: 0.9916 - val_loss: 0.3852 - val_accuracy: 0.8665 - val_precision_12: 0.8523 - val_recall_12: 0.9883\n",
      "Epoch 3/50\n",
      "118/118 [==============================] - 162s 1s/step - loss: 0.4005 - accuracy: 0.8658 - precision_12: 0.8837 - recall_12: 0.9396 - val_loss: 0.3715 - val_accuracy: 0.9156 - val_precision_12: 0.9689 - val_recall_12: 0.9136\n",
      "Epoch 4/50\n",
      "118/118 [==============================] - 163s 1s/step - loss: 0.3703 - accuracy: 0.8748 - precision_12: 0.8923 - recall_12: 0.9422 - val_loss: 0.3050 - val_accuracy: 0.9188 - val_precision_12: 0.9634 - val_recall_12: 0.9239\n",
      "Epoch 5/50\n",
      "118/118 [==============================] - 167s 1s/step - loss: 0.3527 - accuracy: 0.8858 - precision_12: 0.9031 - recall_12: 0.9448 - val_loss: 0.2752 - val_accuracy: 0.9316 - val_precision_12: 0.9531 - val_recall_12: 0.9531\n",
      "Epoch 6/50\n",
      "118/118 [==============================] - 189s 2s/step - loss: 0.3414 - accuracy: 0.8874 - precision_12: 0.9042 - recall_12: 0.9459 - val_loss: 0.2955 - val_accuracy: 0.9028 - val_precision_12: 0.8936 - val_recall_12: 0.9839\n",
      "Epoch 7/50\n",
      "118/118 [==============================] - 240s 2s/step - loss: 0.3262 - accuracy: 0.8940 - precision_12: 0.9076 - recall_12: 0.9517 - val_loss: 0.2812 - val_accuracy: 0.9135 - val_precision_12: 0.9101 - val_recall_12: 0.9780\n",
      "Epoch 8/50\n",
      "118/118 [==============================] - 182s 2s/step - loss: 0.3236 - accuracy: 0.8973 - precision_12: 0.9082 - recall_12: 0.9557 - val_loss: 0.2750 - val_accuracy: 0.9295 - val_precision_12: 0.9611 - val_recall_12: 0.9414\n",
      "Epoch 9/50\n",
      "118/118 [==============================] - 184s 2s/step - loss: 0.3133 - accuracy: 0.8959 - precision_12: 0.9072 - recall_12: 0.9550 - val_loss: 0.2762 - val_accuracy: 0.9145 - val_precision_12: 0.9102 - val_recall_12: 0.9795\n",
      "Epoch 10/50\n",
      "118/118 [==============================] - 200s 2s/step - loss: 0.3052 - accuracy: 0.9079 - precision_12: 0.9243 - recall_12: 0.9517 - val_loss: 0.2530 - val_accuracy: 0.9391 - val_precision_12: 0.9523 - val_recall_12: 0.9649\n",
      "Epoch 11/50\n",
      "118/118 [==============================] - 195s 2s/step - loss: 0.2972 - accuracy: 0.9143 - precision_12: 0.9244 - recall_12: 0.9612 - val_loss: 0.2414 - val_accuracy: 0.9306 - val_precision_12: 0.9377 - val_recall_12: 0.9693\n",
      "Epoch 12/50\n",
      "118/118 [==============================] - 186s 2s/step - loss: 0.2947 - accuracy: 0.9109 - precision_12: 0.9246 - recall_12: 0.9557 - val_loss: 0.2493 - val_accuracy: 0.9295 - val_precision_12: 0.9724 - val_recall_12: 0.9297\n",
      "Epoch 13/50\n",
      "118/118 [==============================] - 186s 2s/step - loss: 0.2938 - accuracy: 0.9114 - precision_12: 0.9289 - recall_12: 0.9514 - val_loss: 0.2465 - val_accuracy: 0.9370 - val_precision_12: 0.9432 - val_recall_12: 0.9722\n",
      "Epoch 14/50\n",
      "118/118 [==============================] - 190s 2s/step - loss: 0.2829 - accuracy: 0.9165 - precision_12: 0.9340 - recall_12: 0.9528 - val_loss: 0.2389 - val_accuracy: 0.9209 - val_precision_12: 0.9188 - val_recall_12: 0.9780\n",
      "Epoch 15/50\n",
      "118/118 [==============================] - 185s 2s/step - loss: 0.2812 - accuracy: 0.9178 - precision_12: 0.9332 - recall_12: 0.9557 - val_loss: 0.2559 - val_accuracy: 0.9327 - val_precision_12: 0.9641 - val_recall_12: 0.9429\n",
      "Epoch 16/50\n",
      "118/118 [==============================] - 185s 2s/step - loss: 0.2772 - accuracy: 0.9175 - precision_12: 0.9320 - recall_12: 0.9568 - val_loss: 0.2257 - val_accuracy: 0.9327 - val_precision_12: 0.9366 - val_recall_12: 0.9736\n",
      "Epoch 17/50\n",
      "118/118 [==============================] - 182s 2s/step - loss: 0.2765 - accuracy: 0.9210 - precision_12: 0.9347 - recall_12: 0.9587 - val_loss: 0.2306 - val_accuracy: 0.9370 - val_precision_12: 0.9671 - val_recall_12: 0.9458\n",
      "Epoch 18/50\n",
      "118/118 [==============================] - 191s 2s/step - loss: 0.2703 - accuracy: 0.9258 - precision_12: 0.9405 - recall_12: 0.9590 - val_loss: 0.2086 - val_accuracy: 0.9434 - val_precision_12: 0.9592 - val_recall_12: 0.9634\n",
      "Epoch 19/50\n",
      "118/118 [==============================] - 186s 2s/step - loss: 0.2682 - accuracy: 0.9167 - precision_12: 0.9334 - recall_12: 0.9539 - val_loss: 0.2347 - val_accuracy: 0.9306 - val_precision_12: 0.9783 - val_recall_12: 0.9253\n",
      "Epoch 20/50\n",
      "118/118 [==============================] - 184s 2s/step - loss: 0.2753 - accuracy: 0.9165 - precision_12: 0.9331 - recall_12: 0.9539 - val_loss: 0.2826 - val_accuracy: 0.9071 - val_precision_12: 0.9869 - val_recall_12: 0.8843\n",
      "Epoch 21/50\n",
      "118/118 [==============================] - 188s 2s/step - loss: 0.2652 - accuracy: 0.9223 - precision_12: 0.9377 - recall_12: 0.9572 - val_loss: 0.2134 - val_accuracy: 0.9423 - val_precision_12: 0.9525 - val_recall_12: 0.9693\n",
      "Epoch 22/50\n",
      "118/118 [==============================] - 184s 2s/step - loss: 0.2587 - accuracy: 0.9274 - precision_12: 0.9431 - recall_12: 0.9583 - val_loss: 0.2062 - val_accuracy: 0.9434 - val_precision_12: 0.9539 - val_recall_12: 0.9693\n",
      "Epoch 23/50\n",
      "118/118 [==============================] - 186s 2s/step - loss: 0.2613 - accuracy: 0.9247 - precision_12: 0.9420 - recall_12: 0.9557 - val_loss: 0.2319 - val_accuracy: 0.9241 - val_precision_12: 0.9169 - val_recall_12: 0.9854\n",
      "Epoch 24/50\n",
      "118/118 [==============================] - 185s 2s/step - loss: 0.2512 - accuracy: 0.9269 - precision_12: 0.9434 - recall_12: 0.9572 - val_loss: 0.2426 - val_accuracy: 0.9167 - val_precision_12: 0.9082 - val_recall_12: 0.9854\n",
      "Epoch 25/50\n",
      "118/118 [==============================] - 195s 2s/step - loss: 0.2597 - accuracy: 0.9218 - precision_12: 0.9342 - recall_12: 0.9605 - val_loss: 0.2100 - val_accuracy: 0.9434 - val_precision_12: 0.9632 - val_recall_12: 0.9590\n",
      "Epoch 26/50\n",
      "118/118 [==============================] - 193s 2s/step - loss: 0.2503 - accuracy: 0.9306 - precision_12: 0.9443 - recall_12: 0.9616 - val_loss: 0.2023 - val_accuracy: 0.9487 - val_precision_12: 0.9568 - val_recall_12: 0.9736\n",
      "Epoch 27/50\n",
      "118/118 [==============================] - 186s 2s/step - loss: 0.2610 - accuracy: 0.9210 - precision_12: 0.9401 - recall_12: 0.9525 - val_loss: 0.2245 - val_accuracy: 0.9274 - val_precision_12: 0.9230 - val_recall_12: 0.9824\n",
      "Epoch 28/50\n",
      "118/118 [==============================] - 185s 2s/step - loss: 0.2533 - accuracy: 0.9282 - precision_12: 0.9413 - recall_12: 0.9616 - val_loss: 0.2070 - val_accuracy: 0.9423 - val_precision_12: 0.9758 - val_recall_12: 0.9444\n",
      "Epoch 29/50\n",
      "118/118 [==============================] - 192s 2s/step - loss: 0.2589 - accuracy: 0.9229 - precision_12: 0.9383 - recall_12: 0.9572 - val_loss: 0.2035 - val_accuracy: 0.9455 - val_precision_12: 0.9759 - val_recall_12: 0.9488\n",
      "Epoch 30/50\n",
      "118/118 [==============================] - 185s 2s/step - loss: 0.2429 - accuracy: 0.9293 - precision_12: 0.9445 - recall_12: 0.9594 - val_loss: 0.1902 - val_accuracy: 0.9487 - val_precision_12: 0.9582 - val_recall_12: 0.9722\n",
      "Epoch 31/50\n",
      "118/118 [==============================] - 154s 1s/step - loss: 0.2444 - accuracy: 0.9311 - precision_12: 0.9450 - recall_12: 0.9616 - val_loss: 0.2026 - val_accuracy: 0.9423 - val_precision_12: 0.9423 - val_recall_12: 0.9810\n",
      "Epoch 32/50\n",
      "118/118 [==============================] - 164s 1s/step - loss: 0.2375 - accuracy: 0.9298 - precision_12: 0.9443 - recall_12: 0.9605 - val_loss: 0.2114 - val_accuracy: 0.9306 - val_precision_12: 0.9798 - val_recall_12: 0.9239\n",
      "Epoch 33/50\n",
      "118/118 [==============================] - 183s 2s/step - loss: 0.2431 - accuracy: 0.9322 - precision_12: 0.9464 - recall_12: 0.9616 - val_loss: 0.1950 - val_accuracy: 0.9434 - val_precision_12: 0.9744 - val_recall_12: 0.9473\n",
      "Epoch 34/50\n",
      "118/118 [==============================] - 187s 2s/step - loss: 0.2390 - accuracy: 0.9306 - precision_12: 0.9443 - recall_12: 0.9616 - val_loss: 0.1975 - val_accuracy: 0.9476 - val_precision_12: 0.9746 - val_recall_12: 0.9531\n",
      "Epoch 35/50\n",
      "118/118 [==============================] - 188s 2s/step - loss: 0.2486 - accuracy: 0.9277 - precision_12: 0.9425 - recall_12: 0.9594 - val_loss: 0.1891 - val_accuracy: 0.9466 - val_precision_12: 0.9689 - val_recall_12: 0.9575\n",
      "Epoch 36/50\n",
      "118/118 [==============================] - 187s 2s/step - loss: 0.2383 - accuracy: 0.9341 - precision_12: 0.9484 - recall_12: 0.9620 - val_loss: 0.2219 - val_accuracy: 0.9241 - val_precision_12: 0.9158 - val_recall_12: 0.9868\n",
      "Epoch 36: early stopping\n"
     ]
    }
   ],
   "source": [
    "cnn10_history = cnn10_model.fit(train_data,\n",
    "               train_labels,\n",
    "               batch_size=32,\n",
    "               epochs=50,\n",
    "               validation_data=(val_data, val_labels),\n",
    "               callbacks=[early_stop])"
   ]
  },
  {
   "cell_type": "code",
   "execution_count": 161,
   "metadata": {},
   "outputs": [
    {
     "name": "stderr",
     "output_type": "stream",
     "text": [
      "WARNING:absl:Found untraced functions such as _jit_compiled_convolution_op, _jit_compiled_convolution_op, _jit_compiled_convolution_op while saving (showing 3 of 3). These functions will not be directly callable after loading.\n"
     ]
    },
    {
     "name": "stdout",
     "output_type": "stream",
     "text": [
      "INFO:tensorflow:Assets written to: models/cnn10/assets\n"
     ]
    },
    {
     "name": "stderr",
     "output_type": "stream",
     "text": [
      "INFO:tensorflow:Assets written to: models/cnn10/assets\n"
     ]
    }
   ],
   "source": [
    "cnn10_model.save('models/cnn10')"
   ]
  },
  {
   "cell_type": "code",
   "execution_count": null,
   "metadata": {},
   "outputs": [],
   "source": [
    "fig, ((ax1, ax2), (ax3, ax4)) = plt.subplots(2,2,figsize=(15,8))\n",
    "\n",
    "sns.lineplot(cnn10_history.epoch, cnn10_history.history['loss'], y=loss, ax=ax1, label='loss')\n",
    "sns.lineplot(cnn10_history.epoch, cnn10_history.history['val_loss'], y=loss, ax=ax1, label='val_loss')\n",
    "\n",
    "sns.lineplot(cnn10_history.epoch, cnn10_history.history['accuracy'], y=accuracy, ax=ax2, label='accuracy')\n",
    "sns.lineplot(cnn10_history.epoch, cnn10_history.history['val_accuracy'], y=accuracy, ax=ax2, label='val_accuracy')\n",
    "\n",
    "sns.lineplot(cnn10_history.epoch, cnn10_history.history['precision'], y=precision, ax=ax3, label='precision')\n",
    "sns.lineplot(cnn10_history.epoch, cnn10_history.history['val_precision'], y=precision, ax=ax3, label='val_precision')\n",
    "\n",
    "sns.lineplot(cnn10_history.epoch, cnn10_history.history['recall'], y=recall, ax=ax4, label='recall')\n",
    "sns.lineplot(cnn10_history.epoch, cnn10_history.history['val_recall'], y=recall, ax=ax4, label='val_recall');\n"
   ]
  },
  {
   "cell_type": "code",
   "execution_count": 167,
   "metadata": {},
   "outputs": [
    {
     "name": "stdout",
     "output_type": "stream",
     "text": [
      "1/1 [==============================] - 18s 18s/step - loss: 0.2219 - accuracy: 0.9241 - precision_12: 0.9158 - recall_12: 0.9868\n"
     ]
    },
    {
     "data": {
      "text/plain": [
       "[0.2218911200761795, 0.9241452813148499, 0.91576087474823, 0.9868228435516357]"
      ]
     },
     "execution_count": 167,
     "metadata": {},
     "output_type": "execute_result"
    }
   ],
   "source": [
    "cnn10_model.evaluate(validation_generator)"
   ]
  },
  {
   "cell_type": "code",
   "execution_count": null,
   "metadata": {},
   "outputs": [],
   "source": []
  },
  {
   "cell_type": "code",
   "execution_count": null,
   "metadata": {},
   "outputs": [],
   "source": []
  },
  {
   "cell_type": "markdown",
   "metadata": {},
   "source": [
    "### CNN Model 11"
   ]
  },
  {
   "cell_type": "code",
   "execution_count": 65,
   "metadata": {},
   "outputs": [
    {
     "name": "stdout",
     "output_type": "stream",
     "text": [
      "Model: \"sequential_14\"\n",
      "_________________________________________________________________\n",
      " Layer (type)                Output Shape              Param #   \n",
      "=================================================================\n",
      " conv2d_26 (Conv2D)          (None, 147, 147, 64)      1088      \n",
      "                                                                 \n",
      " max_pooling2d_26 (MaxPoolin  (None, 49, 49, 64)       0         \n",
      " g2D)                                                            \n",
      "                                                                 \n",
      " conv2d_27 (Conv2D)          (None, 47, 47, 32)        18464     \n",
      "                                                                 \n",
      " max_pooling2d_27 (MaxPoolin  (None, 15, 15, 32)       0         \n",
      " g2D)                                                            \n",
      "                                                                 \n",
      " flatten_12 (Flatten)        (None, 7200)              0         \n",
      "                                                                 \n",
      " dense_26 (Dense)            (None, 16)                115216    \n",
      "                                                                 \n",
      " dropout_7 (Dropout)         (None, 16)                0         \n",
      "                                                                 \n",
      " dense_27 (Dense)            (None, 1)                 17        \n",
      "                                                                 \n",
      "=================================================================\n",
      "Total params: 134,785\n",
      "Trainable params: 134,785\n",
      "Non-trainable params: 0\n",
      "_________________________________________________________________\n"
     ]
    }
   ],
   "source": [
    "cnn11_model = models.Sequential()\n",
    "cnn11_model.add(layers.Conv2D(64, (4, 4), activation='relu',\n",
    "                       input_shape=(150, 150, 1), kernel_regularizer=regularizers.l2(l=0.025)))\n",
    "cnn11_model.add(layers.MaxPooling2D((3, 3)))\n",
    "cnn11_model.add(layers.Conv2D(32, (3, 3), activation='relu', \n",
    "                                     kernel_regularizer=regularizers.l2(l=0.025)))\n",
    "cnn11_model.add(layers.MaxPooling2D((3, 3)))\n",
    "cnn11_model.add(layers.Flatten())\n",
    "cnn11_model.add(layers.Dense(16, activation='relu'))\n",
    "cnn11_model.add(layers.Dropout(0.3))\n",
    "cnn11_model.add(layers.Dense(1, activation='sigmoid'))\n",
    "\n",
    "# Define the EarlyStopping object\n",
    "early_stop = EarlyStopping(monitor='val_loss', min_delta=1e-8,\n",
    "                           patience=10,\n",
    "                           verbose=1,\n",
    "                           mode='min')\n",
    "\n",
    "cnn11_model.compile(optimizer=\"adam\",\n",
    "                           loss='binary_crossentropy',\n",
    "                           metrics=['accuracy', metrics.Precision(), metrics.Recall()])\n",
    "\n",
    "cnn11_model.summary()"
   ]
  },
  {
   "cell_type": "code",
   "execution_count": 66,
   "metadata": {},
   "outputs": [
    {
     "name": "stdout",
     "output_type": "stream",
     "text": [
      "Epoch 1/50\n",
      "118/118 [==============================] - 198s 2s/step - loss: 0.7780 - accuracy: 0.7470 - precision_13: 0.7429 - recall_13: 0.9989 - val_loss: 0.4109 - val_accuracy: 0.8226 - val_precision_13: 0.8088 - val_recall_13: 0.9912\n",
      "Epoch 2/50\n",
      "118/118 [==============================] - 224s 2s/step - loss: 0.4006 - accuracy: 0.8644 - precision_13: 0.8560 - recall_13: 0.9788 - val_loss: 0.3543 - val_accuracy: 0.8793 - val_precision_13: 0.8635 - val_recall_13: 0.9912\n",
      "Epoch 3/50\n",
      "118/118 [==============================] - 159s 1s/step - loss: 0.3508 - accuracy: 0.8989 - precision_13: 0.8971 - recall_13: 0.9729 - val_loss: 0.3466 - val_accuracy: 0.9284 - val_precision_13: 0.9425 - val_recall_13: 0.9605\n",
      "Epoch 4/50\n",
      "118/118 [==============================] - 174s 1s/step - loss: 0.3361 - accuracy: 0.9117 - precision_13: 0.9159 - recall_13: 0.9678 - val_loss: 0.2963 - val_accuracy: 0.9231 - val_precision_13: 0.9285 - val_recall_13: 0.9693\n",
      "Epoch 5/50\n",
      "118/118 [==============================] - 189s 2s/step - loss: 0.3132 - accuracy: 0.9221 - precision_13: 0.9302 - recall_13: 0.9656 - val_loss: 0.2861 - val_accuracy: 0.9402 - val_precision_13: 0.9472 - val_recall_13: 0.9722\n",
      "Epoch 6/50\n",
      "118/118 [==============================] - 186s 2s/step - loss: 0.3002 - accuracy: 0.9226 - precision_13: 0.9333 - recall_13: 0.9627 - val_loss: 0.2623 - val_accuracy: 0.9295 - val_precision_13: 0.9303 - val_recall_13: 0.9766\n",
      "Epoch 7/50\n",
      "118/118 [==============================] - 190s 2s/step - loss: 0.2967 - accuracy: 0.9202 - precision_13: 0.9304 - recall_13: 0.9627 - val_loss: 0.2866 - val_accuracy: 0.8921 - val_precision_13: 0.8760 - val_recall_13: 0.9927\n",
      "Epoch 8/50\n",
      "118/118 [==============================] - 193s 2s/step - loss: 0.2767 - accuracy: 0.9330 - precision_13: 0.9484 - recall_13: 0.9605 - val_loss: 0.2557 - val_accuracy: 0.9156 - val_precision_13: 0.9048 - val_recall_13: 0.9883\n",
      "Epoch 9/50\n",
      "118/118 [==============================] - 198s 2s/step - loss: 0.2706 - accuracy: 0.9290 - precision_13: 0.9420 - recall_13: 0.9620 - val_loss: 0.2306 - val_accuracy: 0.9466 - val_precision_13: 0.9427 - val_recall_13: 0.9868\n",
      "Epoch 10/50\n",
      "118/118 [==============================] - 145s 1s/step - loss: 0.2593 - accuracy: 0.9354 - precision_13: 0.9492 - recall_13: 0.9631 - val_loss: 0.3129 - val_accuracy: 0.8974 - val_precision_13: 0.9933 - val_recall_13: 0.8653\n",
      "Epoch 11/50\n",
      "118/118 [==============================] - 145s 1s/step - loss: 0.2788 - accuracy: 0.9237 - precision_13: 0.9412 - recall_13: 0.9550 - val_loss: 0.2234 - val_accuracy: 0.9455 - val_precision_13: 0.9688 - val_recall_13: 0.9561\n",
      "Epoch 12/50\n",
      "118/118 [==============================] - 140s 1s/step - loss: 0.2527 - accuracy: 0.9402 - precision_13: 0.9537 - recall_13: 0.9649 - val_loss: 0.2132 - val_accuracy: 0.9466 - val_precision_13: 0.9554 - val_recall_13: 0.9722\n",
      "Epoch 13/50\n",
      "118/118 [==============================] - 86s 731ms/step - loss: 0.2523 - accuracy: 0.9330 - precision_13: 0.9536 - recall_13: 0.9546 - val_loss: 0.2538 - val_accuracy: 0.9135 - val_precision_13: 0.9902 - val_recall_13: 0.8902\n",
      "Epoch 14/50\n",
      "118/118 [==============================] - 91s 774ms/step - loss: 0.2669 - accuracy: 0.9255 - precision_13: 0.9488 - recall_13: 0.9492 - val_loss: 0.2173 - val_accuracy: 0.9380 - val_precision_13: 0.9420 - val_recall_13: 0.9751\n",
      "Epoch 15/50\n",
      "118/118 [==============================] - 84s 708ms/step - loss: 0.2502 - accuracy: 0.9293 - precision_13: 0.9554 - recall_13: 0.9473 - val_loss: 0.2112 - val_accuracy: 0.9444 - val_precision_13: 0.9619 - val_recall_13: 0.9619\n",
      "Epoch 16/50\n",
      "118/118 [==============================] - 80s 676ms/step - loss: 0.2476 - accuracy: 0.9349 - precision_13: 0.9547 - recall_13: 0.9561 - val_loss: 0.2062 - val_accuracy: 0.9391 - val_precision_13: 0.9630 - val_recall_13: 0.9531\n",
      "Epoch 17/50\n",
      "118/118 [==============================] - 80s 679ms/step - loss: 0.2259 - accuracy: 0.9389 - precision_13: 0.9560 - recall_13: 0.9605 - val_loss: 0.2219 - val_accuracy: 0.9274 - val_precision_13: 0.9172 - val_recall_13: 0.9898\n",
      "Epoch 18/50\n",
      "118/118 [==============================] - 80s 680ms/step - loss: 0.2241 - accuracy: 0.9397 - precision_13: 0.9604 - recall_13: 0.9568 - val_loss: 0.1904 - val_accuracy: 0.9466 - val_precision_13: 0.9594 - val_recall_13: 0.9678\n",
      "Epoch 19/50\n",
      "118/118 [==============================] - 81s 687ms/step - loss: 0.2203 - accuracy: 0.9370 - precision_13: 0.9592 - recall_13: 0.9543 - val_loss: 0.2085 - val_accuracy: 0.9380 - val_precision_13: 0.9860 - val_recall_13: 0.9283\n",
      "Epoch 20/50\n",
      "118/118 [==============================] - 80s 677ms/step - loss: 0.2182 - accuracy: 0.9442 - precision_13: 0.9640 - recall_13: 0.9594 - val_loss: 0.2299 - val_accuracy: 0.9188 - val_precision_13: 0.9919 - val_recall_13: 0.8960\n",
      "Epoch 21/50\n",
      "118/118 [==============================] - 82s 698ms/step - loss: 0.2143 - accuracy: 0.9421 - precision_13: 0.9632 - recall_13: 0.9572 - val_loss: 0.1837 - val_accuracy: 0.9455 - val_precision_13: 0.9731 - val_recall_13: 0.9517\n",
      "Epoch 22/50\n",
      "118/118 [==============================] - 87s 734ms/step - loss: 0.2107 - accuracy: 0.9445 - precision_13: 0.9654 - recall_13: 0.9583 - val_loss: 0.1820 - val_accuracy: 0.9444 - val_precision_13: 0.9744 - val_recall_13: 0.9488\n",
      "Epoch 23/50\n",
      "118/118 [==============================] - 87s 737ms/step - loss: 0.2096 - accuracy: 0.9434 - precision_13: 0.9646 - recall_13: 0.9576 - val_loss: 0.1770 - val_accuracy: 0.9498 - val_precision_13: 0.9609 - val_recall_13: 0.9707\n",
      "Epoch 24/50\n",
      "118/118 [==============================] - 86s 733ms/step - loss: 0.2052 - accuracy: 0.9434 - precision_13: 0.9663 - recall_13: 0.9557 - val_loss: 0.1995 - val_accuracy: 0.9423 - val_precision_13: 0.9338 - val_recall_13: 0.9912\n",
      "Epoch 25/50\n",
      "118/118 [==============================] - 87s 734ms/step - loss: 0.2097 - accuracy: 0.9413 - precision_13: 0.9642 - recall_13: 0.9550 - val_loss: 0.1723 - val_accuracy: 0.9509 - val_precision_13: 0.9733 - val_recall_13: 0.9590\n",
      "Epoch 26/50\n",
      "118/118 [==============================] - 88s 746ms/step - loss: 0.2017 - accuracy: 0.9424 - precision_13: 0.9663 - recall_13: 0.9543 - val_loss: 0.1704 - val_accuracy: 0.9466 - val_precision_13: 0.9502 - val_recall_13: 0.9780\n",
      "Epoch 27/50\n",
      "118/118 [==============================] - 86s 729ms/step - loss: 0.2094 - accuracy: 0.9392 - precision_13: 0.9634 - recall_13: 0.9528 - val_loss: 0.2518 - val_accuracy: 0.9177 - val_precision_13: 0.9040 - val_recall_13: 0.9927\n",
      "Epoch 28/50\n",
      "118/118 [==============================] - 86s 726ms/step - loss: 0.2030 - accuracy: 0.9453 - precision_13: 0.9678 - recall_13: 0.9568 - val_loss: 0.1820 - val_accuracy: 0.9412 - val_precision_13: 0.9846 - val_recall_13: 0.9341\n",
      "Epoch 29/50\n",
      "118/118 [==============================] - 86s 728ms/step - loss: 0.1952 - accuracy: 0.9477 - precision_13: 0.9683 - recall_13: 0.9598 - val_loss: 0.1676 - val_accuracy: 0.9541 - val_precision_13: 0.9624 - val_recall_13: 0.9751\n",
      "Epoch 30/50\n",
      "118/118 [==============================] - 86s 727ms/step - loss: 0.1895 - accuracy: 0.9490 - precision_13: 0.9701 - recall_13: 0.9598 - val_loss: 0.1925 - val_accuracy: 0.9412 - val_precision_13: 0.9373 - val_recall_13: 0.9854\n",
      "Epoch 31/50\n",
      "118/118 [==============================] - 85s 724ms/step - loss: 0.1959 - accuracy: 0.9408 - precision_13: 0.9673 - recall_13: 0.9510 - val_loss: 0.1739 - val_accuracy: 0.9487 - val_precision_13: 0.9453 - val_recall_13: 0.9868\n",
      "Epoch 32/50\n",
      "118/118 [==============================] - 86s 725ms/step - loss: 0.1907 - accuracy: 0.9469 - precision_13: 0.9721 - recall_13: 0.9546 - val_loss: 0.1696 - val_accuracy: 0.9423 - val_precision_13: 0.9744 - val_recall_13: 0.9458\n",
      "Epoch 33/50\n",
      "118/118 [==============================] - 87s 741ms/step - loss: 0.1885 - accuracy: 0.9437 - precision_13: 0.9653 - recall_13: 0.9572 - val_loss: 0.1617 - val_accuracy: 0.9541 - val_precision_13: 0.9706 - val_recall_13: 0.9663\n",
      "Epoch 34/50\n",
      "118/118 [==============================] - 90s 764ms/step - loss: 0.1931 - accuracy: 0.9434 - precision_13: 0.9691 - recall_13: 0.9528 - val_loss: 0.1658 - val_accuracy: 0.9573 - val_precision_13: 0.9653 - val_recall_13: 0.9766\n",
      "Epoch 35/50\n",
      "118/118 [==============================] - 85s 725ms/step - loss: 0.1936 - accuracy: 0.9445 - precision_13: 0.9688 - recall_13: 0.9546 - val_loss: 0.1601 - val_accuracy: 0.9509 - val_precision_13: 0.9570 - val_recall_13: 0.9766\n",
      "Epoch 36/50\n",
      "118/118 [==============================] - 86s 726ms/step - loss: 0.1795 - accuracy: 0.9480 - precision_13: 0.9683 - recall_13: 0.9601 - val_loss: 0.2019 - val_accuracy: 0.9434 - val_precision_13: 0.9327 - val_recall_13: 0.9941\n",
      "Epoch 37/50\n",
      "118/118 [==============================] - 87s 740ms/step - loss: 0.1756 - accuracy: 0.9514 - precision_13: 0.9722 - recall_13: 0.9609 - val_loss: 0.1601 - val_accuracy: 0.9509 - val_precision_13: 0.9747 - val_recall_13: 0.9575\n",
      "Epoch 38/50\n",
      "118/118 [==============================] - 85s 723ms/step - loss: 0.1716 - accuracy: 0.9498 - precision_13: 0.9708 - recall_13: 0.9601 - val_loss: 0.1564 - val_accuracy: 0.9594 - val_precision_13: 0.9778 - val_recall_13: 0.9663\n",
      "Epoch 39/50\n",
      "118/118 [==============================] - 85s 725ms/step - loss: 0.1766 - accuracy: 0.9477 - precision_13: 0.9721 - recall_13: 0.9557 - val_loss: 0.1576 - val_accuracy: 0.9509 - val_precision_13: 0.9761 - val_recall_13: 0.9561\n",
      "Epoch 40/50\n",
      "118/118 [==============================] - 86s 732ms/step - loss: 0.1748 - accuracy: 0.9504 - precision_13: 0.9719 - recall_13: 0.9598 - val_loss: 0.1500 - val_accuracy: 0.9594 - val_precision_13: 0.9750 - val_recall_13: 0.9693\n",
      "Epoch 41/50\n",
      "118/118 [==============================] - 85s 722ms/step - loss: 0.1763 - accuracy: 0.9517 - precision_13: 0.9726 - recall_13: 0.9609 - val_loss: 0.1502 - val_accuracy: 0.9573 - val_precision_13: 0.9749 - val_recall_13: 0.9663\n",
      "Epoch 42/50\n",
      "118/118 [==============================] - 85s 724ms/step - loss: 0.1777 - accuracy: 0.9482 - precision_13: 0.9725 - recall_13: 0.9561 - val_loss: 0.1559 - val_accuracy: 0.9519 - val_precision_13: 0.9819 - val_recall_13: 0.9517\n",
      "Epoch 43/50\n",
      "118/118 [==============================] - 85s 725ms/step - loss: 0.1894 - accuracy: 0.9426 - precision_13: 0.9708 - recall_13: 0.9499 - val_loss: 0.1678 - val_accuracy: 0.9498 - val_precision_13: 0.9479 - val_recall_13: 0.9854\n",
      "Epoch 44/50\n",
      "118/118 [==============================] - 85s 718ms/step - loss: 0.1760 - accuracy: 0.9504 - precision_13: 0.9754 - recall_13: 0.9561 - val_loss: 0.1529 - val_accuracy: 0.9562 - val_precision_13: 0.9791 - val_recall_13: 0.9605\n",
      "Epoch 45/50\n",
      "118/118 [==============================] - 85s 717ms/step - loss: 0.1726 - accuracy: 0.9557 - precision_13: 0.9749 - recall_13: 0.9642 - val_loss: 0.1592 - val_accuracy: 0.9519 - val_precision_13: 0.9848 - val_recall_13: 0.9488\n",
      "Epoch 46/50\n",
      "118/118 [==============================] - 85s 718ms/step - loss: 0.1702 - accuracy: 0.9480 - precision_13: 0.9742 - recall_13: 0.9539 - val_loss: 0.1694 - val_accuracy: 0.9487 - val_precision_13: 0.9416 - val_recall_13: 0.9912\n",
      "Epoch 47/50\n",
      "118/118 [==============================] - 87s 734ms/step - loss: 0.1707 - accuracy: 0.9509 - precision_13: 0.9736 - recall_13: 0.9587 - val_loss: 0.1616 - val_accuracy: 0.9541 - val_precision_13: 0.9558 - val_recall_13: 0.9824\n",
      "Epoch 48/50\n",
      "118/118 [==============================] - 85s 722ms/step - loss: 0.1664 - accuracy: 0.9520 - precision_13: 0.9747 - recall_13: 0.9590 - val_loss: 0.1627 - val_accuracy: 0.9476 - val_precision_13: 0.9832 - val_recall_13: 0.9444\n",
      "Epoch 49/50\n",
      "118/118 [==============================] - 85s 721ms/step - loss: 0.1618 - accuracy: 0.9549 - precision_13: 0.9762 - recall_13: 0.9616 - val_loss: 0.1479 - val_accuracy: 0.9573 - val_precision_13: 0.9707 - val_recall_13: 0.9707\n",
      "Epoch 50/50\n",
      "118/118 [==============================] - 85s 724ms/step - loss: 0.1670 - accuracy: 0.9517 - precision_13: 0.9740 - recall_13: 0.9594 - val_loss: 0.1802 - val_accuracy: 0.9487 - val_precision_13: 0.9466 - val_recall_13: 0.9854\n"
     ]
    }
   ],
   "source": [
    "cnn11_history = cnn11_model.fit(train_data,\n",
    "               train_labels,\n",
    "               batch_size=32,\n",
    "               epochs=50,\n",
    "               validation_data=(val_data, val_labels),\n",
    "               callbacks=[early_stop])"
   ]
  },
  {
   "cell_type": "code",
   "execution_count": 162,
   "metadata": {
    "scrolled": true
   },
   "outputs": [
    {
     "name": "stderr",
     "output_type": "stream",
     "text": [
      "WARNING:absl:Found untraced functions such as _jit_compiled_convolution_op, _jit_compiled_convolution_op while saving (showing 2 of 2). These functions will not be directly callable after loading.\n"
     ]
    },
    {
     "name": "stdout",
     "output_type": "stream",
     "text": [
      "INFO:tensorflow:Assets written to: models/cnn11/assets\n"
     ]
    },
    {
     "name": "stderr",
     "output_type": "stream",
     "text": [
      "INFO:tensorflow:Assets written to: models/cnn11/assets\n"
     ]
    }
   ],
   "source": [
    "cnn11_model.save('models/cnn11')"
   ]
  },
  {
   "cell_type": "code",
   "execution_count": null,
   "metadata": {},
   "outputs": [],
   "source": [
    "fig, ((ax1, ax2), (ax3, ax4)) = plt.subplots(2,2,figsize=(15,8))\n",
    "\n",
    "sns.lineplot(cnn11_history.epoch, cnn11_history.history['loss'], y=loss, ax=ax1, label='loss')\n",
    "sns.lineplot(cnn11_history.epoch, cnn11_history.history['val_loss'], y=loss, ax=ax1, label='val_loss')\n",
    "\n",
    "sns.lineplot(cnn11_history.epoch, cnn11_history.history['accuracy'], y=accuracy, ax=ax2, label='accuracy')\n",
    "sns.lineplot(cnn11_history.epoch, cnn11_history.history['val_accuracy'], y=accuracy, ax=ax2, label='val_accuracy')\n",
    "\n",
    "sns.lineplot(cnn11_history.epoch, cnn11_history.history['precision'], y=precision, ax=ax3, label='precision')\n",
    "sns.lineplot(cnn11_history.epoch, cnn11_history.history['val_precision'], y=precision, ax=ax3, label='val_precision')\n",
    "\n",
    "sns.lineplot(cnn11_history.epoch, cnn11_history.history['recall'], y=recall, ax=ax4, label='recall')\n",
    "sns.lineplot(cnn11_history.epoch, cnn11_history.history['val_recall'], y=recall, ax=ax4, label='val_recall');\n"
   ]
  },
  {
   "cell_type": "code",
   "execution_count": 169,
   "metadata": {},
   "outputs": [
    {
     "name": "stdout",
     "output_type": "stream",
     "text": [
      "1/1 [==============================] - 19s 19s/step - loss: 0.1802 - accuracy: 0.9487 - precision_13: 0.9466 - recall_13: 0.9854\n"
     ]
    },
    {
     "data": {
      "text/plain": [
       "[0.18015137314796448,\n",
       " 0.9487179517745972,\n",
       " 0.9465541243553162,\n",
       " 0.985358715057373]"
      ]
     },
     "execution_count": 169,
     "metadata": {},
     "output_type": "execute_result"
    }
   ],
   "source": [
    "cnn11_model.evaluate(validation_generator)"
   ]
  },
  {
   "cell_type": "code",
   "execution_count": null,
   "metadata": {},
   "outputs": [],
   "source": []
  },
  {
   "cell_type": "code",
   "execution_count": null,
   "metadata": {},
   "outputs": [],
   "source": []
  },
  {
   "cell_type": "markdown",
   "metadata": {},
   "source": [
    "### CNN Model 12"
   ]
  },
  {
   "cell_type": "code",
   "execution_count": 67,
   "metadata": {},
   "outputs": [
    {
     "name": "stdout",
     "output_type": "stream",
     "text": [
      "Model: \"sequential_15\"\n",
      "_________________________________________________________________\n",
      " Layer (type)                Output Shape              Param #   \n",
      "=================================================================\n",
      " conv2d_28 (Conv2D)          (None, 147, 147, 64)      1088      \n",
      "                                                                 \n",
      " max_pooling2d_28 (MaxPoolin  (None, 49, 49, 64)       0         \n",
      " g2D)                                                            \n",
      "                                                                 \n",
      " conv2d_29 (Conv2D)          (None, 47, 47, 32)        18464     \n",
      "                                                                 \n",
      " max_pooling2d_29 (MaxPoolin  (None, 15, 15, 32)       0         \n",
      " g2D)                                                            \n",
      "                                                                 \n",
      " flatten_13 (Flatten)        (None, 7200)              0         \n",
      "                                                                 \n",
      " dense_28 (Dense)            (None, 16)                115216    \n",
      "                                                                 \n",
      " dropout_8 (Dropout)         (None, 16)                0         \n",
      "                                                                 \n",
      " dense_29 (Dense)            (None, 1)                 17        \n",
      "                                                                 \n",
      "=================================================================\n",
      "Total params: 134,785\n",
      "Trainable params: 134,785\n",
      "Non-trainable params: 0\n",
      "_________________________________________________________________\n"
     ]
    }
   ],
   "source": [
    "cnn12_model = models.Sequential()\n",
    "cnn12_model.add(layers.Conv2D(64, (4, 4), activation='relu',\n",
    "                       input_shape=(150, 150, 1), kernel_regularizer=regularizers.l2(l=0.025)))\n",
    "cnn12_model.add(layers.MaxPooling2D((3, 3)))\n",
    "cnn12_model.add(layers.Conv2D(32, (3, 3), activation='relu', \n",
    "                                     kernel_regularizer=regularizers.l2(l=0.025)))\n",
    "cnn12_model.add(layers.MaxPooling2D((3, 3)))\n",
    "cnn12_model.add(layers.Flatten())\n",
    "cnn12_model.add(layers.Dense(16, activation='relu'))\n",
    "cnn12_model.add(layers.Dropout(0.3))\n",
    "cnn12_model.add(layers.Dense(1, activation='sigmoid'))\n",
    "\n",
    "# Define the EarlyStopping object\n",
    "early_stop = EarlyStopping(monitor='val_loss', min_delta=1e-8,\n",
    "                           patience=10,\n",
    "                           verbose=1,\n",
    "                           mode='min')\n",
    "\n",
    "cnn12_model.compile(optimizer=\"adam\",\n",
    "                           loss='binary_crossentropy',\n",
    "                           metrics=['accuracy', \n",
    "                                    metrics.Recall(thresholds=0.25), \n",
    "                                    metrics.Precision(thresholds=0.25)])\n",
    "\n",
    "cnn12_model.summary()"
   ]
  },
  {
   "cell_type": "code",
   "execution_count": 68,
   "metadata": {},
   "outputs": [
    {
     "name": "stdout",
     "output_type": "stream",
     "text": [
      "Epoch 1/30\n",
      "118/118 [==============================] - 89s 739ms/step - loss: 0.7917 - accuracy: 0.7718 - recall_14: 0.9993 - precision_14: 0.7497 - val_loss: 0.3853 - val_accuracy: 0.8942 - val_recall_14: 1.0000 - val_precision_14: 0.7313\n",
      "Epoch 2/30\n",
      "118/118 [==============================] - 87s 734ms/step - loss: 0.3505 - accuracy: 0.8850 - recall_14: 0.9952 - precision_14: 0.8142 - val_loss: 0.2693 - val_accuracy: 0.9252 - val_recall_14: 1.0000 - val_precision_14: 0.8180\n",
      "Epoch 3/30\n",
      "118/118 [==============================] - 86s 730ms/step - loss: 0.2959 - accuracy: 0.9058 - recall_14: 0.9879 - precision_14: 0.8438 - val_loss: 0.2857 - val_accuracy: 0.9103 - val_recall_14: 0.9971 - val_precision_14: 0.8566\n",
      "Epoch 4/30\n",
      "118/118 [==============================] - 88s 743ms/step - loss: 0.2786 - accuracy: 0.9101 - recall_14: 0.9909 - precision_14: 0.8460 - val_loss: 0.2221 - val_accuracy: 0.9412 - val_recall_14: 0.9941 - val_precision_14: 0.8750\n",
      "Epoch 5/30\n",
      "118/118 [==============================] - 86s 729ms/step - loss: 0.2633 - accuracy: 0.9178 - recall_14: 0.9876 - precision_14: 0.8496 - val_loss: 0.2222 - val_accuracy: 0.9359 - val_recall_14: 0.9971 - val_precision_14: 0.8577\n",
      "Epoch 6/30\n",
      "118/118 [==============================] - 86s 732ms/step - loss: 0.2519 - accuracy: 0.9250 - recall_14: 0.9890 - precision_14: 0.8498 - val_loss: 0.1994 - val_accuracy: 0.9466 - val_recall_14: 0.9941 - val_precision_14: 0.8864\n",
      "Epoch 7/30\n",
      "118/118 [==============================] - 89s 751ms/step - loss: 0.2358 - accuracy: 0.9322 - recall_14: 0.9898 - precision_14: 0.8480 - val_loss: 0.2070 - val_accuracy: 0.9434 - val_recall_14: 0.9956 - val_precision_14: 0.8995\n",
      "Epoch 8/30\n",
      "118/118 [==============================] - 86s 728ms/step - loss: 0.2271 - accuracy: 0.9311 - recall_14: 0.9916 - precision_14: 0.8517 - val_loss: 0.1947 - val_accuracy: 0.9423 - val_recall_14: 0.9971 - val_precision_14: 0.8764\n",
      "Epoch 9/30\n",
      "118/118 [==============================] - 86s 726ms/step - loss: 0.2149 - accuracy: 0.9354 - recall_14: 0.9887 - precision_14: 0.8639 - val_loss: 0.1878 - val_accuracy: 0.9434 - val_recall_14: 0.9985 - val_precision_14: 0.8755\n",
      "Epoch 10/30\n",
      "118/118 [==============================] - 85s 722ms/step - loss: 0.2169 - accuracy: 0.9394 - recall_14: 0.9894 - precision_14: 0.8606 - val_loss: 0.2136 - val_accuracy: 0.9359 - val_recall_14: 0.9898 - val_precision_14: 0.9098\n",
      "Epoch 11/30\n",
      "118/118 [==============================] - 87s 736ms/step - loss: 0.2088 - accuracy: 0.9392 - recall_14: 0.9901 - precision_14: 0.8627 - val_loss: 0.1751 - val_accuracy: 0.9444 - val_recall_14: 0.9883 - val_precision_14: 0.9097\n",
      "Epoch 12/30\n",
      "118/118 [==============================] - 85s 718ms/step - loss: 0.2054 - accuracy: 0.9421 - recall_14: 0.9883 - precision_14: 0.8641 - val_loss: 0.1592 - val_accuracy: 0.9519 - val_recall_14: 0.9956 - val_precision_14: 0.9103\n",
      "Epoch 13/30\n",
      "118/118 [==============================] - 85s 721ms/step - loss: 0.2080 - accuracy: 0.9402 - recall_14: 0.9898 - precision_14: 0.8626 - val_loss: 0.1661 - val_accuracy: 0.9466 - val_recall_14: 0.9956 - val_precision_14: 0.9055\n",
      "Epoch 14/30\n",
      "118/118 [==============================] - 85s 722ms/step - loss: 0.2040 - accuracy: 0.9418 - recall_14: 0.9901 - precision_14: 0.8616 - val_loss: 0.1510 - val_accuracy: 0.9509 - val_recall_14: 0.9898 - val_precision_14: 0.9428\n",
      "Epoch 15/30\n",
      "118/118 [==============================] - 85s 716ms/step - loss: 0.2003 - accuracy: 0.9418 - recall_14: 0.9890 - precision_14: 0.8584 - val_loss: 0.1721 - val_accuracy: 0.9541 - val_recall_14: 0.9971 - val_precision_14: 0.9068\n",
      "Epoch 16/30\n",
      "118/118 [==============================] - 84s 716ms/step - loss: 0.1911 - accuracy: 0.9464 - recall_14: 0.9894 - precision_14: 0.8637 - val_loss: 0.1700 - val_accuracy: 0.9541 - val_recall_14: 0.9971 - val_precision_14: 0.8925\n",
      "Epoch 17/30\n",
      "118/118 [==============================] - 85s 718ms/step - loss: 0.1782 - accuracy: 0.9520 - recall_14: 0.9916 - precision_14: 0.8606 - val_loss: 0.1572 - val_accuracy: 0.9487 - val_recall_14: 0.9956 - val_precision_14: 0.9079\n",
      "Epoch 18/30\n",
      "118/118 [==============================] - 85s 719ms/step - loss: 0.1893 - accuracy: 0.9458 - recall_14: 0.9879 - precision_14: 0.8607 - val_loss: 0.1451 - val_accuracy: 0.9562 - val_recall_14: 0.9898 - val_precision_14: 0.9402\n",
      "Epoch 19/30\n",
      "118/118 [==============================] - 84s 716ms/step - loss: 0.1810 - accuracy: 0.9474 - recall_14: 0.9887 - precision_14: 0.8683 - val_loss: 0.1582 - val_accuracy: 0.9498 - val_recall_14: 0.9795 - val_precision_14: 0.9503\n",
      "Epoch 20/30\n",
      "118/118 [==============================] - 88s 746ms/step - loss: 0.1746 - accuracy: 0.9554 - recall_14: 0.9912 - precision_14: 0.8622 - val_loss: 0.1883 - val_accuracy: 0.9263 - val_recall_14: 0.9736 - val_precision_14: 0.9638\n",
      "Epoch 21/30\n",
      "118/118 [==============================] - 85s 719ms/step - loss: 0.1692 - accuracy: 0.9528 - recall_14: 0.9898 - precision_14: 0.8695 - val_loss: 0.1524 - val_accuracy: 0.9487 - val_recall_14: 0.9795 - val_precision_14: 0.9585\n",
      "Epoch 22/30\n",
      "118/118 [==============================] - 85s 719ms/step - loss: 0.1753 - accuracy: 0.9493 - recall_14: 0.9898 - precision_14: 0.8754 - val_loss: 0.1412 - val_accuracy: 0.9573 - val_recall_14: 0.9912 - val_precision_14: 0.9535\n",
      "Epoch 23/30\n",
      "118/118 [==============================] - 85s 717ms/step - loss: 0.1790 - accuracy: 0.9501 - recall_14: 0.9890 - precision_14: 0.8656 - val_loss: 0.1495 - val_accuracy: 0.9573 - val_recall_14: 0.9956 - val_precision_14: 0.9128\n",
      "Epoch 24/30\n",
      "118/118 [==============================] - 85s 717ms/step - loss: 0.1670 - accuracy: 0.9554 - recall_14: 0.9883 - precision_14: 0.8694 - val_loss: 0.1477 - val_accuracy: 0.9541 - val_recall_14: 0.9956 - val_precision_14: 0.9202\n",
      "Epoch 25/30\n",
      "118/118 [==============================] - 86s 732ms/step - loss: 0.1666 - accuracy: 0.9536 - recall_14: 0.9912 - precision_14: 0.8705 - val_loss: 0.1430 - val_accuracy: 0.9583 - val_recall_14: 0.9927 - val_precision_14: 0.9391\n",
      "Epoch 26/30\n",
      "118/118 [==============================] - 86s 723ms/step - loss: 0.1626 - accuracy: 0.9573 - recall_14: 0.9901 - precision_14: 0.8704 - val_loss: 0.1341 - val_accuracy: 0.9573 - val_recall_14: 0.9971 - val_precision_14: 0.9329\n",
      "Epoch 27/30\n",
      "118/118 [==============================] - 85s 717ms/step - loss: 0.1667 - accuracy: 0.9496 - recall_14: 0.9901 - precision_14: 0.8741 - val_loss: 0.1515 - val_accuracy: 0.9583 - val_recall_14: 0.9956 - val_precision_14: 0.9214\n",
      "Epoch 28/30\n",
      "118/118 [==============================] - 85s 717ms/step - loss: 0.1616 - accuracy: 0.9562 - recall_14: 0.9905 - precision_14: 0.8682 - val_loss: 0.1516 - val_accuracy: 0.9498 - val_recall_14: 0.9839 - val_precision_14: 0.9545\n",
      "Epoch 29/30\n",
      "118/118 [==============================] - 84s 714ms/step - loss: 0.1597 - accuracy: 0.9554 - recall_14: 0.9923 - precision_14: 0.8696 - val_loss: 0.1463 - val_accuracy: 0.9562 - val_recall_14: 0.9985 - val_precision_14: 0.9241\n",
      "Epoch 30/30\n",
      "118/118 [==============================] - 84s 714ms/step - loss: 0.1517 - accuracy: 0.9600 - recall_14: 0.9890 - precision_14: 0.9267 - val_loss: 0.1613 - val_accuracy: 0.9466 - val_recall_14: 1.0000 - val_precision_14: 0.9070\n"
     ]
    }
   ],
   "source": [
    "cnn12_history = cnn12_model.fit(train_data,\n",
    "               train_labels,\n",
    "               batch_size=32,\n",
    "               epochs=30,\n",
    "               validation_data=(val_data, val_labels),\n",
    "               callbacks=[early_stop])"
   ]
  },
  {
   "cell_type": "code",
   "execution_count": 163,
   "metadata": {
    "scrolled": true
   },
   "outputs": [
    {
     "name": "stderr",
     "output_type": "stream",
     "text": [
      "WARNING:absl:Found untraced functions such as _jit_compiled_convolution_op, _jit_compiled_convolution_op while saving (showing 2 of 2). These functions will not be directly callable after loading.\n"
     ]
    },
    {
     "name": "stdout",
     "output_type": "stream",
     "text": [
      "INFO:tensorflow:Assets written to: models/cnn12/assets\n"
     ]
    },
    {
     "name": "stderr",
     "output_type": "stream",
     "text": [
      "INFO:tensorflow:Assets written to: models/cnn12/assets\n"
     ]
    }
   ],
   "source": [
    "cnn12_model.save('models/cnn12')"
   ]
  },
  {
   "cell_type": "code",
   "execution_count": null,
   "metadata": {},
   "outputs": [],
   "source": [
    "fig, ((ax1, ax2), (ax3, ax4)) = plt.subplots(2,2,figsize=(15,8))\n",
    "\n",
    "sns.lineplot(cnn12_history.epoch, cnn12_history.history['loss'], y=loss, ax=ax1, label='loss')\n",
    "sns.lineplot(cnn12_history.epoch, cnn12_history.history['val_loss'], y=loss, ax=ax1, label='val_loss')\n",
    "\n",
    "sns.lineplot(cnn12_history.epoch, cnn12_history.history['accuracy'], y=accuracy, ax=ax2, label='accuracy')\n",
    "sns.lineplot(cnn12_history.epoch, cnn12_history.history['val_accuracy'], y=accuracy, ax=ax2, label='val_accuracy')\n",
    "\n",
    "sns.lineplot(cnn12_history.epoch, cnn12_history.history['precision'], y=precision, ax=ax3, label='precision')\n",
    "sns.lineplot(cnn12_history.epoch, cnn12_history.history['val_precision'], y=precision, ax=ax3, label='val_precision')\n",
    "\n",
    "sns.lineplot(cnn12_history.epoch, cnn12_history.history['recall'], y=recall, ax=ax4, label='recall')\n",
    "sns.lineplot(cnn12_history.epoch, cnn12_history.history['val_recall'], y=recall, ax=ax4, label='val_recall');\n"
   ]
  },
  {
   "cell_type": "code",
   "execution_count": 170,
   "metadata": {},
   "outputs": [
    {
     "name": "stdout",
     "output_type": "stream",
     "text": [
      "1/1 [==============================] - 19s 19s/step - loss: 0.1613 - accuracy: 0.9466 - recall_14: 1.0000 - precision_14: 0.9070\n"
     ]
    },
    {
     "data": {
      "text/plain": [
       "[0.16133332252502441, 0.9465811848640442, 1.0, 0.9070385098457336]"
      ]
     },
     "execution_count": 170,
     "metadata": {},
     "output_type": "execute_result"
    }
   ],
   "source": [
    "cnn12_model.evaluate(validation_generator)"
   ]
  },
  {
   "cell_type": "code",
   "execution_count": null,
   "metadata": {},
   "outputs": [],
   "source": []
  },
  {
   "cell_type": "code",
   "execution_count": null,
   "metadata": {},
   "outputs": [],
   "source": []
  }
 ],
 "metadata": {
  "kernelspec": {
   "display_name": "Python 3",
   "language": "python",
   "name": "python3"
  },
  "language_info": {
   "codemirror_mode": {
    "name": "ipython",
    "version": 3
   },
   "file_extension": ".py",
   "mimetype": "text/x-python",
   "name": "python",
   "nbconvert_exporter": "python",
   "pygments_lexer": "ipython3",
   "version": "3.8.5"
  }
 },
 "nbformat": 4,
 "nbformat_minor": 2
}
